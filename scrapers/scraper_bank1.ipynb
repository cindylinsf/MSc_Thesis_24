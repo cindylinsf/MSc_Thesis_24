{
 "cells": [
  {
   "cell_type": "markdown",
   "metadata": {},
   "source": [
    "# Scraping Bank1"
   ]
  },
  {
   "cell_type": "markdown",
   "metadata": {},
   "source": [
    "## 1. Module Imports"
   ]
  },
  {
   "cell_type": "code",
   "execution_count": null,
   "metadata": {},
   "outputs": [],
   "source": [
    "!pip install selenium"
   ]
  },
  {
   "cell_type": "code",
   "execution_count": 1,
   "metadata": {},
   "outputs": [],
   "source": [
    "import requests\n",
    "from bs4 import BeautifulSoup\n",
    "import json\n",
    "import os\n",
    "import time\n",
    "import random\n",
    "import logging\n",
    "import csv  \n",
    "from config import load_config\n",
    "from log_utils import setup_anonymized_logging\n",
    "from scraper_utils import add_random_delay\n",
    "from selenium import webdriver\n",
    "from selenium.webdriver.common.by import By\n",
    "from selenium.webdriver.support.ui import WebDriverWait\n",
    "from selenium.webdriver.support import expected_conditions as EC\n",
    "from datetime import datetime, timedelta"
   ]
  },
  {
   "cell_type": "code",
   "execution_count": 3,
   "metadata": {},
   "outputs": [],
   "source": [
    "# This was taking too long (5 hours for 100 profiles)\n",
    "\n",
    "# class HumanlikeBehavior:\n",
    "#     \"\"\"Helper class for human-like browsing behavior\"\"\"\n",
    "#     @staticmethod\n",
    "#     def add_human_delay(action_type='page_view'):\n",
    "#         \"\"\"Simulate human-like delays based on action type\"\"\"\n",
    "#         delays = {\n",
    "#             'page_view': (20, 45),  # Time to read a profile\n",
    "#             'scroll': (2, 5),       # Scrolling delay\n",
    "#             'click': (1, 3),        # Clicking delay\n",
    "#             'session_break': (1800, 3600)  # 30-60 minute break between sessions\n",
    "#         }\n",
    "#         delay = random.uniform(*delays[action_type])\n",
    "#         time.sleep(delay)\n",
    "    \n",
    "#     @staticmethod\n",
    "#     def simulate_scrolling(driver):\n",
    "#         \"\"\"Simulate human-like scrolling behavior\"\"\"\n",
    "#         total_height = driver.execute_script(\"return document.body.scrollHeight\")\n",
    "#         viewport_height = driver.execute_script(\"return window.innerHeight\")\n",
    "#         current_position = 0\n",
    "        \n",
    "#         while current_position < total_height:\n",
    "#             scroll_amount = random.randint(100, 300)\n",
    "#             current_position = min(current_position + scroll_amount, total_height)\n",
    "            \n",
    "#             driver.execute_script(f\"window.scrollTo({{top: {current_position}, behavior: 'smooth'}})\")\n",
    "#             HumanlikeBehavior.add_human_delay('scroll')\n",
    "            \n",
    "#             if random.random() < 0.1:\n",
    "#                 scroll_up = random.randint(50, 150)\n",
    "#                 current_position = max(0, current_position - scroll_up)\n",
    "#                 driver.execute_script(f\"window.scrollTo({{top: {current_position}, behavior: 'smooth'}})\")\n",
    "#                 HumanlikeBehavior.add_human_delay('scroll')\n",
    "\n"
   ]
  },
  {
   "cell_type": "code",
   "execution_count": 2,
   "metadata": {},
   "outputs": [],
   "source": [
    "\"\"\"\n",
    "Each profile should take about 10-15 seconds instead of 45-60 seconds\n",
    "Breaks will be 5-10 minutes instead of 30-60 minutes\n",
    "It will take breaks every 50 profiles instead of 30\n",
    "\"\"\"\n",
    "\n",
    "class HumanlikeBehavior:\n",
    "    \"\"\"Helper class for human-like browsing behavior\"\"\"\n",
    "    @staticmethod\n",
    "    def add_human_delay(action_type='page_view'):\n",
    "        \"\"\"Simulate human-like delays based on action type\"\"\"\n",
    "        delays = {\n",
    "            'page_view': (5, 10),    # Reduced from 20-45 to 5-10 seconds\n",
    "            'scroll': (1, 2),        # Reduced from 2-5 to 1-2 seconds\n",
    "            'click': (0.5, 1),       # Reduced from 1-3 to 0.5-1 seconds\n",
    "            'session_break': (300, 600)  # Reduced from 30-60 mins to 5-10 mins\n",
    "        }\n",
    "        delay = random.uniform(*delays[action_type])\n",
    "        time.sleep(delay)\n",
    "    \n",
    "    @staticmethod\n",
    "    def simulate_scrolling(driver):\n",
    "        \"\"\"Simulate human-like scrolling behavior\"\"\"\n",
    "        total_height = driver.execute_script(\"return document.body.scrollHeight\")\n",
    "        viewport_height = driver.execute_script(\"return window.innerHeight\")\n",
    "        current_position = 0\n",
    "        \n",
    "        while current_position < total_height:\n",
    "            scroll_amount = random.randint(100, 300)\n",
    "            current_position = min(current_position + scroll_amount, total_height)\n",
    "            \n",
    "            driver.execute_script(f\"window.scrollTo({{top: {current_position}, behavior: 'smooth'}})\")\n",
    "            HumanlikeBehavior.add_human_delay('scroll')\n",
    "            \n",
    "            if random.random() < 0.1:  # Reduced random scrolling up\n",
    "                scroll_up = random.randint(50, 150)\n",
    "                current_position = max(0, current_position - scroll_up)\n",
    "                driver.execute_script(f\"window.scrollTo({{top: {current_position}, behavior: 'smooth'}})\")\n",
    "                HumanlikeBehavior.add_human_delay('scroll')\n",
    "\n",
    "class ScrapingSession:\n",
    "    def __init__(self):\n",
    "        self.start_time = datetime.now()\n",
    "        self.profiles_scraped = 0\n",
    "        \n",
    "    def should_take_break(self):\n",
    "        \"\"\"Check if we should take a break based on time and profiles scraped\"\"\"\n",
    "        session_duration = datetime.now() - self.start_time\n",
    "        \n",
    "        if (session_duration > timedelta(minutes=45) or  # Reduced from 2 hours to 45 minutes\n",
    "            self.profiles_scraped >= 50):                # Increased from 30 to 50 profiles\n",
    "            return True\n",
    "        return False\n",
    "    \n",
    "    def take_break(self):\n",
    "        \"\"\"Take a break and reset session counters\"\"\"\n",
    "        logger.info(\"Taking a session break...\")\n",
    "        HumanlikeBehavior.add_human_delay('session_break')\n",
    "        self.start_time = datetime.now()\n",
    "        self.profiles_scraped = 0"
   ]
  },
  {
   "cell_type": "markdown",
   "metadata": {},
   "source": [
    "## 2. Configure logging"
   ]
  },
  {
   "cell_type": "code",
   "execution_count": 3,
   "metadata": {},
   "outputs": [],
   "source": [
    "# Configure logging\n",
    "logger = setup_anonymized_logging()"
   ]
  },
  {
   "cell_type": "markdown",
   "metadata": {},
   "source": [
    "## 3. Loading Configurations and Initialize Session"
   ]
  },
  {
   "cell_type": "code",
   "execution_count": 4,
   "metadata": {},
   "outputs": [],
   "source": [
    "# Load configuration \n",
    "config = load_config()\n",
    "bank_id = 'bank1'\n",
    "bank_config = config['banks'][bank_id]\n",
    "\n",
    "# Initialize session\n",
    "session = requests.Session()\n",
    "session.headers.update({\n",
    "    'User-Agent': random.choice(config['user_agents'])\n",
    "})"
   ]
  },
  {
   "cell_type": "markdown",
   "metadata": {},
   "source": [
    "## 4. Utility functions"
   ]
  },
  {
   "cell_type": "code",
   "execution_count": 5,
   "metadata": {},
   "outputs": [],
   "source": [
    "# Utility functions\n",
    "def get_total_pages(known_total_donors=478, donors_per_page=15):\n",
    "    \"\"\"Calculate total pages needed\"\"\"\n",
    "    return (known_total_donors + donors_per_page - 1) // donors_per_page\n",
    "\n",
    "def get_scraped_donor_ids():\n",
    "    \"\"\"Get list of donor IDs that have already been scraped\"\"\"\n",
    "    try:\n",
    "        # Try loading from the in-progress file first\n",
    "        with open('/Users/cindylinsf/Documents/CCI/THESIS/Msc_Thesis_Project_Files/data/raw/bank1/profiles_bank1_in_progress.json', 'r') as f:\n",
    "            profiles = json.load(f)\n",
    "            return {profile['donor_id'] for profile in profiles}\n",
    "    except FileNotFoundError:\n",
    "        try:\n",
    "            # If no in-progress file, try the completed profiles file\n",
    "            with open('/Users/cindylinsf/Documents/CCI/THESIS/Msc_Thesis_Project_Files/data/raw/bank1/profiles.json', 'r') as f:\n",
    "                profiles = json.load(f)\n",
    "                return {profile['donor_id'] for profile in profiles}\n",
    "        except FileNotFoundError:\n",
    "            return set()"
   ]
  },
  {
   "cell_type": "markdown",
   "metadata": {},
   "source": [
    "## 5. Donor ID Collection"
   ]
  },
  {
   "cell_type": "code",
   "execution_count": null,
   "metadata": {},
   "outputs": [],
   "source": [
    "## 5. Donor ID Collection\n",
    "\n",
    "def get_all_donor_ids(session, driver):\n",
    "    \"\"\"Get all unique donor IDs from search pages\"\"\"\n",
    "    donor_ids = set()  # Using set to avoid duplicates\n",
    "    total_pages = 32\n",
    "    \n",
    "    try:\n",
    "        print(f\"Starting to collect donor IDs...\")\n",
    "        \n",
    "        for page in range(1, total_pages + 1):\n",
    "            url = f\"{bank_config['base_url']}/search/?donor_sort=default_Sort&page={page}\"\n",
    "            print(f\"Scanning page {page} of {total_pages}\")\n",
    "            \n",
    "            driver.get(url)\n",
    "            WebDriverWait(driver, 10).until(\n",
    "                EC.presence_of_element_located((By.CLASS_NAME, \"donor-id\"))\n",
    "            )\n",
    "            \n",
    "            soup = BeautifulSoup(driver.page_source, 'html.parser')\n",
    "            donor_id_spans = soup.find_all('span', class_='donor-id')\n",
    "            \n",
    "            for span in donor_id_spans:\n",
    "                donor_id = span.text.strip()\n",
    "                donor_ids.add(donor_id)\n",
    "            \n",
    "            print(f\"Found {len(donor_id_spans)} donors on page {page}. Total unique IDs so far: {len(donor_ids)}\")\n",
    "            add_random_delay(5, 10)  # Delay between pages\n",
    "            \n",
    "    except Exception as e:\n",
    "        print(f\"Error collecting donor IDs: {str(e)}\")\n",
    "        \n",
    "    finally:\n",
    "        print(f\"Finished collecting donor IDs. Total unique donors found: {len(donor_ids)}\")\n",
    "        # Print first few IDs as a sample\n",
    "        sample_ids = list(donor_ids)[:5]\n",
    "        print(f\"Sample of first 5 donor IDs: {sample_ids}\")\n",
    "        return list(donor_ids)\n",
    "\n",
    "# Initialize Selenium and run collection\n",
    "print(\"Initializing Selenium driver...\")\n",
    "options = webdriver.ChromeOptions()\n",
    "options.add_argument(f'user-agent={random.choice(config[\"user_agents\"])}')\n",
    "options.add_argument('--headless')\n",
    "driver = webdriver.Chrome(options=options)\n",
    "\n",
    "try:\n",
    "    collected_donor_ids = get_all_donor_ids(session, driver)\n",
    "finally:\n",
    "    driver.quit()\n",
    "\n",
    "# Print final results\n",
    "if collected_donor_ids:\n",
    "    print(f\"\\nSuccessfully collected {len(collected_donor_ids)} unique donor IDs\")\n",
    "    # Save IDs to file in bank1 directory\n",
    "    output_directory = '/Users/cindylinsf/Documents/CCI/THESIS/Msc_Thesis_Project_Files/data/raw/bank1'\n",
    "    os.makedirs(output_directory, exist_ok=True)\n",
    "    id_file_path = os.path.join(output_directory, 'donor_ids_bank1.txt') # changed file to donor_ids_bank1.txt for clarity\n",
    "    with open(id_file_path, 'w') as f:\n",
    "        for donor_id in collected_donor_ids:\n",
    "            f.write(f\"{donor_id}\\n\")\n",
    "    print(f\"Saved donor IDs to {id_file_path}\")"
   ]
  },
  {
   "cell_type": "markdown",
   "metadata": {},
   "source": [
    "## 6. Profile Scraping Function"
   ]
  },
  {
   "cell_type": "code",
   "execution_count": 6,
   "metadata": {},
   "outputs": [],
   "source": [
    "\n",
    "def scrape_profile_bank1(relative_url, driver=None):\n",
    "    \"\"\"\n",
    "    Scrape a single profile page for Bank1 using either Selenium or requests.\n",
    "    \"\"\"\n",
    "    try:\n",
    "        full_url = f\"{bank_config['base_url']}{relative_url}\"\n",
    "        \n",
    "        if driver:\n",
    "            # Selenium approach\n",
    "            driver.get(full_url)\n",
    "            WebDriverWait(driver, 10).until(\n",
    "                EC.presence_of_element_located((By.CLASS_NAME, \"profile-details\"))\n",
    "            )\n",
    "            \n",
    "            # Simulate human reading behavior\n",
    "            HumanlikeBehavior.simulate_scrolling(driver)\n",
    "            HumanlikeBehavior.add_human_delay('page_view')\n",
    "            \n",
    "            response_text = driver.page_source\n",
    "            soup = BeautifulSoup(response_text, 'html.parser')\n",
    "        else:\n",
    "            # Fallback to requests approach\n",
    "            response = session.get(full_url)\n",
    "            response.raise_for_status()\n",
    "            soup = BeautifulSoup(response.text, 'html.parser')\n",
    "        \n",
    "        # Initialize profile data dictionary\n",
    "        profile_data = {\n",
    "            'url': full_url,\n",
    "            'donor_id': None,\n",
    "            'headline': None,\n",
    "            'donor_description': None,\n",
    "            'donor_lookalikes': None,\n",
    "            'height': None,\n",
    "            'weight': None,\n",
    "            'eye_color': None,\n",
    "            'hair_color': None,\n",
    "            'hair_texture': None,\n",
    "            'complexion': None,\n",
    "            'ethnic_origin': None,\n",
    "            'ancestry': None,\n",
    "            'religion': None,\n",
    "            'jewish_ancestry': None,\n",
    "            'education_level': None,\n",
    "            'areas_of_study': None\n",
    "        }\n",
    "            \n",
    "        # Extract donor ID\n",
    "        donor_id_elem = soup.find('span', class_='donor-id')\n",
    "        if donor_id_elem:\n",
    "            id_span = donor_id_elem.find('span', class_='id')\n",
    "        if id_span:\n",
    "            profile_data['donor_id'] = id_span.text.strip()\n",
    "        \n",
    "        # Extract headline\n",
    "        description_div = soup.find('div', id='description')\n",
    "        if description_div:\n",
    "            headline_elem = description_div.find('h2')\n",
    "        if headline_elem:\n",
    "            profile_data['headline'] = headline_elem.text.strip()\n",
    "        \n",
    "        # Extract donor description\n",
    "        description_elem = soup.find('div', id='description')\n",
    "        if description_elem and description_elem.find('p'):\n",
    "            profile_data['donor_description'] = description_elem.find('p').text.strip()\n",
    "        \n",
    "        # Extract look-alikes\n",
    "        lookalikes_div = soup.find('div', class_='look-a-likes')\n",
    "        if lookalikes_div:\n",
    "            profile_data['donor_lookalikes'] = lookalikes_div.text.strip()\n",
    "            # If the text is empty, check for the \"Not available\" message\n",
    "            if not profile_data['donor_lookalikes']:\n",
    "                not_available = lookalikes_div.find('div', class_='not-available')\n",
    "                if not_available:\n",
    "                    profile_data['donor_lookalikes'] = not_available.text.strip()\n",
    "        \n",
    "        # Physical characteristics \n",
    "        physical_chars = soup.find('section', id='appearance')\n",
    "        if physical_chars:\n",
    "            characteristics_div = physical_chars.find('div', id='collapse-panel-1')\n",
    "            if characteristics_div:\n",
    "                label_to_key = {\n",
    "                    'Height:': 'height',\n",
    "                    'Weight:': 'weight',\n",
    "                    'Eye Color:': 'eye_color',\n",
    "                    'Hair Color:': 'hair_color',\n",
    "                    'Hair Texture:': 'hair_texture',\n",
    "                    'Complexion:': 'complexion'\n",
    "                }\n",
    "                \n",
    "                for li in characteristics_div.find_all('li'):\n",
    "                    label_span = li.find('span', class_='tab')\n",
    "                    if label_span:\n",
    "                        label = label_span.text.strip()\n",
    "                        if label in label_to_key:\n",
    "                            value = li.get_text(strip=True)\n",
    "                            value = value.replace(label, '').strip()\n",
    "                            profile_data[label_to_key[label]] = value\n",
    "\n",
    "        # Heritage information\n",
    "        heritage_section = soup.find('section', id='heritage')\n",
    "        if heritage_section:\n",
    "            heritage_div = heritage_section.find('div', id='collapse-panel-2')\n",
    "            if heritage_div:\n",
    "                label_to_key = {\n",
    "                    'Ethnic Origin:': 'ethnic_origin',\n",
    "                    'Ancestry (Self-Reported):': 'ancestry',\n",
    "                    'Religion:': 'religion',\n",
    "                    'Jewish Ancestry (Self-Reported):': 'jewish_ancestry'\n",
    "                }\n",
    "                \n",
    "                for li in heritage_div.find_all('li'):\n",
    "                    label_span = li.find('span', class_='tab')\n",
    "                    if label_span:\n",
    "                        label = label_span.text.strip()\n",
    "                        print(f\"Found label: '{label}'\")  # Debug print\n",
    "                        if label in label_to_key:\n",
    "                            # Special IDs for some fields\n",
    "                            if 'Ethnic Origin:' in label:\n",
    "                                value_span = li.find('span', id='donor-profile-ethnicity')\n",
    "                            elif 'Religion:' in label:\n",
    "                                value_span = li.find('span', id='donor-profile-religiion')\n",
    "                            elif 'Jewish Ancestry' in label:\n",
    "                                value_span = li.find('span', id='donor-profile-jewish')\n",
    "                            else:\n",
    "                                value_span = li.find('span')\n",
    "                            \n",
    "                            if value_span:\n",
    "                                profile_data[label_to_key[label]] = value_span.text.strip()\n",
    "\n",
    "        # Education information\n",
    "        education_section = soup.find('section', id='education')\n",
    "        if education_section:\n",
    "            education_div = education_section.find('div', id='collapse-panel-3')\n",
    "            if education_div:\n",
    "                label_to_key = {\n",
    "                    'Education Level:': 'education_level',\n",
    "                    'Areas of Study:': 'areas_of_study'\n",
    "                }\n",
    "                \n",
    "                for li in education_div.find_all('li'):\n",
    "                    label_span = li.find('span', class_='tab')\n",
    "                    if label_span:\n",
    "                        label = label_span.text.strip()\n",
    "                        if label in label_to_key:\n",
    "                            # Get the value directly from the <span> next to the label\n",
    "                            value_span = li.find_all('span')[1]  # This gets the second <span>, which is the value\n",
    "                            \n",
    "                            if value_span:\n",
    "                                profile_data[label_to_key[label]] = value_span.text.strip()\n",
    "\n",
    "                    \n",
    "        return profile_data\n",
    "            \n",
    "    except Exception as e:\n",
    "        logger.error(f\"Error scraping profile {full_url}: {str(e)}\")\n",
    "        return None\n",
    "            "
   ]
  },
  {
   "cell_type": "code",
   "execution_count": 7,
   "metadata": {},
   "outputs": [],
   "source": [
    "def scrape_donor_profiles(session, page_number, seen_donors, driver=None):\n",
    "    \"\"\"Scrape donors from a single page with human-like behavior\"\"\"\n",
    "    should_quit_driver = False\n",
    "    try:\n",
    "        # Create driver only if not provided\n",
    "        if not driver:\n",
    "            options = webdriver.ChromeOptions()\n",
    "            options.add_argument(f'user-agent={random.choice(config[\"user_agents\"])}')\n",
    "            options.add_argument('--headless')  # Optional: run in headless mode\n",
    "            driver = webdriver.Chrome(options=options)\n",
    "            should_quit_driver = True\n",
    "        \n",
    "        url = f\"{bank_config['base_url']}/search/?donor_sort=default_Sort&page={page_number}\"\n",
    "        driver.get(url)\n",
    "        \n",
    "        # Wait for content to load and simulate human behavior\n",
    "        WebDriverWait(driver, 10).until(\n",
    "            EC.presence_of_element_located((By.CLASS_NAME, \"profile-details\"))\n",
    "        )\n",
    "        HumanlikeBehavior.simulate_scrolling(driver)\n",
    "        HumanlikeBehavior.add_human_delay('page_view')\n",
    "        \n",
    "        soup = BeautifulSoup(driver.page_source, 'html.parser')\n",
    "        donors_on_page = []\n",
    "        \n",
    "        profile_sections = soup.find_all('div', class_='profile-details')\n",
    "        logger.info(f\"Found {len(profile_sections)} profiles on page {page_number}\")\n",
    "        \n",
    "        for profile in profile_sections:\n",
    "            try:\n",
    "                donor_id_elem = profile.find('span', class_='donor-id')\n",
    "                if donor_id_elem:\n",
    "                    donor_id = donor_id_elem.text.strip()\n",
    "                    relative_url = f\"/donor/{donor_id}\"\n",
    "                    \n",
    "                    if donor_id not in seen_donors:\n",
    "                        profile_data = scrape_profile_bank1(relative_url, driver)\n",
    "                        if profile_data:\n",
    "                            seen_donors.add(donor_id)\n",
    "                            donors_on_page.append(profile_data)\n",
    "                    else:\n",
    "                        logger.info(f\"Found duplicate donor {donor_id} on page {page_number}\")\n",
    "            \n",
    "            except Exception as e:\n",
    "                logger.error(f\"Error processing profile with ID {donor_id if donor_id else 'unknown'}: {str(e)}\")\n",
    "                continue\n",
    "        \n",
    "        if should_quit_driver:\n",
    "            driver.quit()\n",
    "        return donors_on_page\n",
    "        \n",
    "    except Exception as e:\n",
    "        logger.error(f\"Error scraping page {page_number}: {str(e)}\")\n",
    "        if should_quit_driver and driver:\n",
    "            driver.quit()\n",
    "        return []"
   ]
  },
  {
   "cell_type": "markdown",
   "metadata": {},
   "source": [
    "## 7. Session Management"
   ]
  },
  {
   "cell_type": "code",
   "execution_count": 8,
   "metadata": {},
   "outputs": [],
   "source": [
    "class ScrapingSession:\n",
    "    def __init__(self):\n",
    "        self.start_time = datetime.now()\n",
    "        self.profiles_scraped = 0\n",
    "        \n",
    "    def should_take_break(self):\n",
    "        \"\"\"Check if we should take a break based on time and profiles scraped\"\"\"\n",
    "        session_duration = datetime.now() - self.start_time\n",
    "        \n",
    "        if (session_duration > timedelta(hours=2) or \n",
    "            self.profiles_scraped >= 30):\n",
    "            return True\n",
    "        return False\n",
    "    \n",
    "    def take_break(self):\n",
    "        \"\"\"Take a break and reset session counters\"\"\"\n",
    "        logger.info(\"Taking a session break...\")\n",
    "        HumanlikeBehavior.add_human_delay('session_break')\n",
    "        self.start_time = datetime.now()\n",
    "        self.profiles_scraped = 0"
   ]
  },
  {
   "cell_type": "markdown",
   "metadata": {},
   "source": [
    "## 8. Test Scraping "
   ]
  },
  {
   "cell_type": "code",
   "execution_count": null,
   "metadata": {},
   "outputs": [],
   "source": [
    "def test_specific_profiles():\n",
    "    try:\n",
    "        # List of known donor IDs to test\n",
    "        test_donor_ids = ['20035', '19807', '20400']\n",
    "        profiles = []\n",
    "        \n",
    "        # Initialize Selenium for testing\n",
    "        options = webdriver.ChromeOptions()\n",
    "        options.add_argument(f'user-agent={random.choice(config[\"user_agents\"])}')\n",
    "        options.add_argument('--headless')\n",
    "        driver = webdriver.Chrome(options=options)\n",
    "        \n",
    "        print(\"Starting test scrape of specific profiles...\")\n",
    "        \n",
    "        for donor_id in test_donor_ids:\n",
    "            relative_url = f\"/donor/{donor_id}\"\n",
    "            logger.info(f\"Scraping profile for donor {donor_id}\")\n",
    "            profile_data = scrape_profile_bank1(relative_url, driver)\n",
    "            if profile_data:\n",
    "                profiles.append(profile_data)\n",
    "                print(f\"Successfully scraped donor {donor_id}\")\n",
    "            else:\n",
    "                print(f\"Failed to scrape donor {donor_id}\")\n",
    "                \n",
    "        print(f\"\\nProfiles scraped: {len(profiles)}\")\n",
    "        \n",
    "        if profiles:\n",
    "            # Save test results\n",
    "            test_output_dir = '/Users/cindylinsf/Documents/CCI/THESIS/Msc_Thesis_Project_Files/data/raw'\n",
    "            os.makedirs(test_output_dir, exist_ok=True)\n",
    "            \n",
    "            with open(os.path.join(test_output_dir, 'test_specific_profiles.json'), 'w', encoding='utf-8') as f:\n",
    "                json.dump(profiles, f, indent=2, ensure_ascii=False)\n",
    "            print(\"Saved test results to raw data folder\")\n",
    "            \n",
    "        return profiles\n",
    "            \n",
    "    except Exception as e:\n",
    "        logger.error(f\"Error in test scraping: {str(e)}\")\n",
    "        print(f\"\\nError details: {str(e)}\")\n",
    "        return None\n",
    "    finally:\n",
    "        if driver:\n",
    "            driver.quit()\n",
    "\n",
    "# Run test\n",
    "test_profiles = test_specific_profiles()"
   ]
  },
  {
   "cell_type": "markdown",
   "metadata": {},
   "source": [
    "## 9. Scrape and Save"
   ]
  },
  {
   "cell_type": "code",
   "execution_count": 9,
   "metadata": {},
   "outputs": [
    {
     "name": "stdout",
     "output_type": "stream",
     "text": [
      "Loaded 100 existing profiles from in-progress file\n",
      "Found 100 already scraped donor IDs\n",
      "Remaining donors to scrape: 336 out of 436\n"
     ]
    },
    {
     "name": "stderr",
     "output_type": "stream",
     "text": [
      "2024-10-27 12:54:47 - INFO - Scraping profile 1 of 336 remaining\n",
      "2024-10-27 12:55:37 - INFO - Scraping profile 2 of 336 remaining\n"
     ]
    },
    {
     "name": "stdout",
     "output_type": "stream",
     "text": [
      "Found label: 'Ethnic Origin:'\n",
      "Found label: 'Ancestry (Self-Reported):'\n",
      "Found label: 'Religion:'\n",
      "Found label: 'Jewish Ancestry (Self-Reported):'\n"
     ]
    },
    {
     "name": "stderr",
     "output_type": "stream",
     "text": [
      "2024-10-27 12:56:26 - INFO - Scraping profile 3 of 336 remaining\n"
     ]
    },
    {
     "name": "stdout",
     "output_type": "stream",
     "text": [
      "Found label: 'Ethnic Origin:'\n",
      "Found label: 'Ancestry (Self-Reported):'\n",
      "Found label: 'Religion:'\n",
      "Found label: 'Jewish Ancestry (Self-Reported):'\n"
     ]
    },
    {
     "name": "stderr",
     "output_type": "stream",
     "text": [
      "2024-10-27 12:57:18 - INFO - Scraping profile 4 of 336 remaining\n"
     ]
    },
    {
     "name": "stdout",
     "output_type": "stream",
     "text": [
      "Found label: 'Ethnic Origin:'\n",
      "Found label: 'Ancestry (Self-Reported):'\n",
      "Found label: 'Religion:'\n",
      "Found label: 'Jewish Ancestry (Self-Reported):'\n"
     ]
    },
    {
     "name": "stderr",
     "output_type": "stream",
     "text": [
      "2024-10-27 12:58:02 - INFO - Scraping profile 5 of 336 remaining\n"
     ]
    },
    {
     "name": "stdout",
     "output_type": "stream",
     "text": [
      "Found label: 'Ethnic Origin:'\n",
      "Found label: 'Ancestry (Self-Reported):'\n",
      "Found label: 'Religion:'\n",
      "Found label: 'Jewish Ancestry (Self-Reported):'\n"
     ]
    },
    {
     "name": "stderr",
     "output_type": "stream",
     "text": [
      "2024-10-27 12:58:51 - INFO - Scraping profile 6 of 336 remaining\n"
     ]
    },
    {
     "name": "stdout",
     "output_type": "stream",
     "text": [
      "Found label: 'Ethnic Origin:'\n",
      "Found label: 'Ancestry (Self-Reported):'\n",
      "Found label: 'Religion:'\n",
      "Found label: 'Jewish Ancestry (Self-Reported):'\n"
     ]
    },
    {
     "name": "stderr",
     "output_type": "stream",
     "text": [
      "2024-10-27 12:59:46 - INFO - Scraping profile 7 of 336 remaining\n"
     ]
    },
    {
     "name": "stdout",
     "output_type": "stream",
     "text": [
      "Found label: 'Ethnic Origin:'\n",
      "Found label: 'Ancestry (Self-Reported):'\n",
      "Found label: 'Religion:'\n",
      "Found label: 'Jewish Ancestry (Self-Reported):'\n"
     ]
    },
    {
     "name": "stderr",
     "output_type": "stream",
     "text": [
      "2024-10-27 13:00:38 - INFO - Scraping profile 8 of 336 remaining\n"
     ]
    },
    {
     "name": "stdout",
     "output_type": "stream",
     "text": [
      "Found label: 'Ethnic Origin:'\n",
      "Found label: 'Ancestry (Self-Reported):'\n",
      "Found label: 'Religion:'\n",
      "Found label: 'Jewish Ancestry (Self-Reported):'\n"
     ]
    },
    {
     "name": "stderr",
     "output_type": "stream",
     "text": [
      "2024-10-27 13:01:31 - INFO - Scraping profile 9 of 336 remaining\n"
     ]
    },
    {
     "name": "stdout",
     "output_type": "stream",
     "text": [
      "Found label: 'Ethnic Origin:'\n",
      "Found label: 'Ancestry (Self-Reported):'\n",
      "Found label: 'Religion:'\n",
      "Found label: 'Jewish Ancestry (Self-Reported):'\n"
     ]
    },
    {
     "name": "stderr",
     "output_type": "stream",
     "text": [
      "2024-10-27 13:02:12 - INFO - Scraping profile 10 of 336 remaining\n"
     ]
    },
    {
     "name": "stdout",
     "output_type": "stream",
     "text": [
      "Found label: 'Ethnic Origin:'\n",
      "Found label: 'Ancestry (Self-Reported):'\n",
      "Found label: 'Religion:'\n",
      "Found label: 'Jewish Ancestry (Self-Reported):'\n"
     ]
    },
    {
     "name": "stderr",
     "output_type": "stream",
     "text": [
      "2024-10-27 13:02:56 - INFO - Scraping profile 11 of 336 remaining\n"
     ]
    },
    {
     "name": "stdout",
     "output_type": "stream",
     "text": [
      "Found label: 'Ethnic Origin:'\n",
      "Found label: 'Ancestry (Self-Reported):'\n",
      "Found label: 'Religion:'\n",
      "Found label: 'Jewish Ancestry (Self-Reported):'\n",
      "Saved progress: 110 profiles\n",
      "Backup created: /Users/cindylinsf/Documents/CCI/THESIS/Msc_Thesis_Project_Files/data/raw/bank1/profiles_bank1_backup_20241027_130256.json\n",
      "Saved progress: 110 profiles collected\n"
     ]
    },
    {
     "name": "stderr",
     "output_type": "stream",
     "text": [
      "2024-10-27 13:03:37 - INFO - Scraping profile 12 of 336 remaining\n"
     ]
    },
    {
     "name": "stdout",
     "output_type": "stream",
     "text": [
      "Found label: 'Ethnic Origin:'\n",
      "Found label: 'Ancestry (Self-Reported):'\n",
      "Found label: 'Religion:'\n",
      "Found label: 'Jewish Ancestry (Self-Reported):'\n"
     ]
    },
    {
     "name": "stderr",
     "output_type": "stream",
     "text": [
      "2024-10-27 13:04:26 - INFO - Scraping profile 13 of 336 remaining\n"
     ]
    },
    {
     "name": "stdout",
     "output_type": "stream",
     "text": [
      "Found label: 'Ethnic Origin:'\n",
      "Found label: 'Ancestry (Self-Reported):'\n",
      "Found label: 'Religion:'\n",
      "Found label: 'Jewish Ancestry (Self-Reported):'\n"
     ]
    },
    {
     "name": "stderr",
     "output_type": "stream",
     "text": [
      "2024-10-27 13:05:16 - INFO - Scraping profile 14 of 336 remaining\n"
     ]
    },
    {
     "name": "stdout",
     "output_type": "stream",
     "text": [
      "Found label: 'Ethnic Origin:'\n",
      "Found label: 'Ancestry (Self-Reported):'\n",
      "Found label: 'Religion:'\n",
      "Found label: 'Jewish Ancestry (Self-Reported):'\n"
     ]
    },
    {
     "name": "stderr",
     "output_type": "stream",
     "text": [
      "2024-10-27 13:06:18 - INFO - Scraping profile 15 of 336 remaining\n"
     ]
    },
    {
     "name": "stdout",
     "output_type": "stream",
     "text": [
      "Found label: 'Ethnic Origin:'\n",
      "Found label: 'Ancestry (Self-Reported):'\n",
      "Found label: 'Religion:'\n",
      "Found label: 'Jewish Ancestry (Self-Reported):'\n"
     ]
    },
    {
     "name": "stderr",
     "output_type": "stream",
     "text": [
      "2024-10-27 13:07:04 - INFO - Scraping profile 16 of 336 remaining\n"
     ]
    },
    {
     "name": "stdout",
     "output_type": "stream",
     "text": [
      "Found label: 'Ethnic Origin:'\n",
      "Found label: 'Ancestry (Self-Reported):'\n",
      "Found label: 'Religion:'\n",
      "Found label: 'Jewish Ancestry (Self-Reported):'\n"
     ]
    },
    {
     "name": "stderr",
     "output_type": "stream",
     "text": [
      "2024-10-27 13:07:57 - INFO - Scraping profile 17 of 336 remaining\n"
     ]
    },
    {
     "name": "stdout",
     "output_type": "stream",
     "text": [
      "Found label: 'Ethnic Origin:'\n",
      "Found label: 'Ancestry (Self-Reported):'\n",
      "Found label: 'Religion:'\n",
      "Found label: 'Jewish Ancestry (Self-Reported):'\n"
     ]
    },
    {
     "name": "stderr",
     "output_type": "stream",
     "text": [
      "2024-10-27 13:08:43 - INFO - Scraping profile 18 of 336 remaining\n"
     ]
    },
    {
     "name": "stdout",
     "output_type": "stream",
     "text": [
      "Found label: 'Ethnic Origin:'\n",
      "Found label: 'Ancestry (Self-Reported):'\n",
      "Found label: 'Religion:'\n",
      "Found label: 'Jewish Ancestry (Self-Reported):'\n"
     ]
    },
    {
     "name": "stderr",
     "output_type": "stream",
     "text": [
      "2024-10-27 13:09:27 - INFO - Scraping profile 19 of 336 remaining\n"
     ]
    },
    {
     "name": "stdout",
     "output_type": "stream",
     "text": [
      "Found label: 'Ethnic Origin:'\n",
      "Found label: 'Ancestry (Self-Reported):'\n",
      "Found label: 'Religion:'\n",
      "Found label: 'Jewish Ancestry (Self-Reported):'\n"
     ]
    },
    {
     "name": "stderr",
     "output_type": "stream",
     "text": [
      "2024-10-27 13:10:13 - INFO - Scraping profile 20 of 336 remaining\n"
     ]
    },
    {
     "name": "stdout",
     "output_type": "stream",
     "text": [
      "Found label: 'Ethnic Origin:'\n",
      "Found label: 'Ancestry (Self-Reported):'\n",
      "Found label: 'Religion:'\n",
      "Found label: 'Jewish Ancestry (Self-Reported):'\n"
     ]
    },
    {
     "name": "stderr",
     "output_type": "stream",
     "text": [
      "2024-10-27 13:11:03 - INFO - Scraping profile 21 of 336 remaining\n"
     ]
    },
    {
     "name": "stdout",
     "output_type": "stream",
     "text": [
      "Found label: 'Ethnic Origin:'\n",
      "Found label: 'Ancestry (Self-Reported):'\n",
      "Found label: 'Religion:'\n",
      "Found label: 'Jewish Ancestry (Self-Reported):'\n",
      "Saved progress: 120 profiles\n",
      "Backup created: /Users/cindylinsf/Documents/CCI/THESIS/Msc_Thesis_Project_Files/data/raw/bank1/profiles_bank1_backup_20241027_131103.json\n",
      "Saved progress: 120 profiles collected\n"
     ]
    },
    {
     "name": "stderr",
     "output_type": "stream",
     "text": [
      "2024-10-27 13:11:51 - INFO - Scraping profile 22 of 336 remaining\n"
     ]
    },
    {
     "name": "stdout",
     "output_type": "stream",
     "text": [
      "Found label: 'Ethnic Origin:'\n",
      "Found label: 'Ancestry (Self-Reported):'\n",
      "Found label: 'Religion:'\n",
      "Found label: 'Jewish Ancestry (Self-Reported):'\n"
     ]
    },
    {
     "name": "stderr",
     "output_type": "stream",
     "text": [
      "2024-10-27 13:12:39 - INFO - Scraping profile 23 of 336 remaining\n"
     ]
    },
    {
     "name": "stdout",
     "output_type": "stream",
     "text": [
      "Found label: 'Ethnic Origin:'\n",
      "Found label: 'Ancestry (Self-Reported):'\n",
      "Found label: 'Religion:'\n",
      "Found label: 'Jewish Ancestry (Self-Reported):'\n"
     ]
    },
    {
     "name": "stderr",
     "output_type": "stream",
     "text": [
      "2024-10-27 13:13:28 - INFO - Scraping profile 24 of 336 remaining\n"
     ]
    },
    {
     "name": "stdout",
     "output_type": "stream",
     "text": [
      "Found label: 'Ethnic Origin:'\n",
      "Found label: 'Ancestry (Self-Reported):'\n",
      "Found label: 'Religion:'\n",
      "Found label: 'Jewish Ancestry (Self-Reported):'\n"
     ]
    },
    {
     "name": "stderr",
     "output_type": "stream",
     "text": [
      "2024-10-27 13:14:19 - INFO - Scraping profile 25 of 336 remaining\n"
     ]
    },
    {
     "name": "stdout",
     "output_type": "stream",
     "text": [
      "Found label: 'Ethnic Origin:'\n",
      "Found label: 'Ancestry (Self-Reported):'\n",
      "Found label: 'Religion:'\n",
      "Found label: 'Jewish Ancestry (Self-Reported):'\n"
     ]
    },
    {
     "name": "stderr",
     "output_type": "stream",
     "text": [
      "2024-10-27 13:15:18 - INFO - Scraping profile 26 of 336 remaining\n"
     ]
    },
    {
     "name": "stdout",
     "output_type": "stream",
     "text": [
      "Found label: 'Ethnic Origin:'\n",
      "Found label: 'Ancestry (Self-Reported):'\n",
      "Found label: 'Religion:'\n",
      "Found label: 'Jewish Ancestry (Self-Reported):'\n"
     ]
    },
    {
     "name": "stderr",
     "output_type": "stream",
     "text": [
      "2024-10-27 13:16:11 - INFO - Scraping profile 27 of 336 remaining\n"
     ]
    },
    {
     "name": "stdout",
     "output_type": "stream",
     "text": [
      "Found label: 'Ethnic Origin:'\n",
      "Found label: 'Ancestry (Self-Reported):'\n",
      "Found label: 'Religion:'\n",
      "Found label: 'Jewish Ancestry (Self-Reported):'\n"
     ]
    },
    {
     "name": "stderr",
     "output_type": "stream",
     "text": [
      "2024-10-27 13:17:01 - INFO - Scraping profile 28 of 336 remaining\n"
     ]
    },
    {
     "name": "stdout",
     "output_type": "stream",
     "text": [
      "Found label: 'Ethnic Origin:'\n",
      "Found label: 'Ancestry (Self-Reported):'\n",
      "Found label: 'Religion:'\n",
      "Found label: 'Jewish Ancestry (Self-Reported):'\n"
     ]
    },
    {
     "name": "stderr",
     "output_type": "stream",
     "text": [
      "2024-10-27 13:17:50 - INFO - Scraping profile 29 of 336 remaining\n"
     ]
    },
    {
     "name": "stdout",
     "output_type": "stream",
     "text": [
      "Found label: 'Ethnic Origin:'\n",
      "Found label: 'Ancestry (Self-Reported):'\n",
      "Found label: 'Religion:'\n",
      "Found label: 'Jewish Ancestry (Self-Reported):'\n"
     ]
    },
    {
     "name": "stderr",
     "output_type": "stream",
     "text": [
      "2024-10-27 13:18:44 - INFO - Scraping profile 30 of 336 remaining\n"
     ]
    },
    {
     "name": "stdout",
     "output_type": "stream",
     "text": [
      "Found label: 'Ethnic Origin:'\n",
      "Found label: 'Ancestry (Self-Reported):'\n",
      "Found label: 'Religion:'\n",
      "Found label: 'Jewish Ancestry (Self-Reported):'\n"
     ]
    },
    {
     "name": "stderr",
     "output_type": "stream",
     "text": [
      "2024-10-27 13:19:26 - INFO - Scraping profile 31 of 336 remaining\n",
      "2024-10-27 13:19:26 - INFO - Taking a session break...\n"
     ]
    },
    {
     "name": "stdout",
     "output_type": "stream",
     "text": [
      "Found label: 'Ethnic Origin:'\n",
      "Found label: 'Ancestry (Self-Reported):'\n",
      "Found label: 'Religion:'\n",
      "Found label: 'Jewish Ancestry (Self-Reported):'\n",
      "Saved progress: 130 profiles\n",
      "Backup created: /Users/cindylinsf/Documents/CCI/THESIS/Msc_Thesis_Project_Files/data/raw/bank1/profiles_bank1_backup_20241027_131926.json\n",
      "Saved progress: 130 profiles collected\n"
     ]
    },
    {
     "name": "stderr",
     "output_type": "stream",
     "text": [
      "2024-10-27 13:26:18 - INFO - Scraping profile 32 of 336 remaining\n"
     ]
    },
    {
     "name": "stdout",
     "output_type": "stream",
     "text": [
      "Found label: 'Ethnic Origin:'\n",
      "Found label: 'Ancestry (Self-Reported):'\n",
      "Found label: 'Religion:'\n",
      "Found label: 'Jewish Ancestry (Self-Reported):'\n"
     ]
    },
    {
     "name": "stderr",
     "output_type": "stream",
     "text": [
      "2024-10-27 13:27:14 - INFO - Scraping profile 33 of 336 remaining\n"
     ]
    },
    {
     "name": "stdout",
     "output_type": "stream",
     "text": [
      "Found label: 'Ethnic Origin:'\n",
      "Found label: 'Ancestry (Self-Reported):'\n",
      "Found label: 'Religion:'\n",
      "Found label: 'Jewish Ancestry (Self-Reported):'\n"
     ]
    },
    {
     "name": "stderr",
     "output_type": "stream",
     "text": [
      "2024-10-27 13:28:10 - INFO - Scraping profile 34 of 336 remaining\n"
     ]
    },
    {
     "name": "stdout",
     "output_type": "stream",
     "text": [
      "Found label: 'Ethnic Origin:'\n",
      "Found label: 'Ancestry (Self-Reported):'\n",
      "Found label: 'Religion:'\n",
      "Found label: 'Jewish Ancestry (Self-Reported):'\n"
     ]
    },
    {
     "name": "stderr",
     "output_type": "stream",
     "text": [
      "2024-10-27 13:28:58 - INFO - Scraping profile 35 of 336 remaining\n"
     ]
    },
    {
     "name": "stdout",
     "output_type": "stream",
     "text": [
      "Found label: 'Ethnic Origin:'\n",
      "Found label: 'Ancestry (Self-Reported):'\n",
      "Found label: 'Religion:'\n",
      "Found label: 'Jewish Ancestry (Self-Reported):'\n"
     ]
    },
    {
     "name": "stderr",
     "output_type": "stream",
     "text": [
      "2024-10-27 13:29:52 - INFO - Scraping profile 36 of 336 remaining\n"
     ]
    },
    {
     "name": "stdout",
     "output_type": "stream",
     "text": [
      "Found label: 'Ethnic Origin:'\n",
      "Found label: 'Ancestry (Self-Reported):'\n",
      "Found label: 'Religion:'\n",
      "Found label: 'Jewish Ancestry (Self-Reported):'\n"
     ]
    },
    {
     "name": "stderr",
     "output_type": "stream",
     "text": [
      "2024-10-27 13:30:44 - INFO - Scraping profile 37 of 336 remaining\n"
     ]
    },
    {
     "name": "stdout",
     "output_type": "stream",
     "text": [
      "Found label: 'Ethnic Origin:'\n",
      "Found label: 'Ancestry (Self-Reported):'\n",
      "Found label: 'Religion:'\n",
      "Found label: 'Jewish Ancestry (Self-Reported):'\n"
     ]
    },
    {
     "name": "stderr",
     "output_type": "stream",
     "text": [
      "2024-10-27 13:31:34 - INFO - Scraping profile 38 of 336 remaining\n"
     ]
    },
    {
     "name": "stdout",
     "output_type": "stream",
     "text": [
      "Found label: 'Ethnic Origin:'\n",
      "Found label: 'Ancestry (Self-Reported):'\n",
      "Found label: 'Religion:'\n",
      "Found label: 'Jewish Ancestry (Self-Reported):'\n"
     ]
    },
    {
     "name": "stderr",
     "output_type": "stream",
     "text": [
      "2024-10-27 13:32:25 - INFO - Scraping profile 39 of 336 remaining\n"
     ]
    },
    {
     "name": "stdout",
     "output_type": "stream",
     "text": [
      "Found label: 'Ethnic Origin:'\n",
      "Found label: 'Ancestry (Self-Reported):'\n",
      "Found label: 'Religion:'\n",
      "Found label: 'Jewish Ancestry (Self-Reported):'\n"
     ]
    },
    {
     "name": "stderr",
     "output_type": "stream",
     "text": [
      "2024-10-27 13:33:17 - INFO - Scraping profile 40 of 336 remaining\n"
     ]
    },
    {
     "name": "stdout",
     "output_type": "stream",
     "text": [
      "Found label: 'Ethnic Origin:'\n",
      "Found label: 'Ancestry (Self-Reported):'\n",
      "Found label: 'Religion:'\n",
      "Found label: 'Jewish Ancestry (Self-Reported):'\n"
     ]
    },
    {
     "name": "stderr",
     "output_type": "stream",
     "text": [
      "2024-10-27 13:34:13 - INFO - Scraping profile 41 of 336 remaining\n"
     ]
    },
    {
     "name": "stdout",
     "output_type": "stream",
     "text": [
      "Found label: 'Ethnic Origin:'\n",
      "Found label: 'Ancestry (Self-Reported):'\n",
      "Found label: 'Religion:'\n",
      "Found label: 'Jewish Ancestry (Self-Reported):'\n",
      "Saved progress: 140 profiles\n",
      "Backup created: /Users/cindylinsf/Documents/CCI/THESIS/Msc_Thesis_Project_Files/data/raw/bank1/profiles_bank1_backup_20241027_133413.json\n",
      "Saved progress: 140 profiles collected\n"
     ]
    },
    {
     "name": "stderr",
     "output_type": "stream",
     "text": [
      "2024-10-27 13:35:07 - INFO - Scraping profile 42 of 336 remaining\n"
     ]
    },
    {
     "name": "stdout",
     "output_type": "stream",
     "text": [
      "Found label: 'Ethnic Origin:'\n",
      "Found label: 'Ancestry (Self-Reported):'\n",
      "Found label: 'Religion:'\n",
      "Found label: 'Jewish Ancestry (Self-Reported):'\n"
     ]
    },
    {
     "name": "stderr",
     "output_type": "stream",
     "text": [
      "2024-10-27 13:35:55 - INFO - Scraping profile 43 of 336 remaining\n"
     ]
    },
    {
     "name": "stdout",
     "output_type": "stream",
     "text": [
      "Found label: 'Ethnic Origin:'\n",
      "Found label: 'Ancestry (Self-Reported):'\n",
      "Found label: 'Religion:'\n",
      "Found label: 'Jewish Ancestry (Self-Reported):'\n"
     ]
    },
    {
     "name": "stderr",
     "output_type": "stream",
     "text": [
      "2024-10-27 13:36:46 - INFO - Scraping profile 44 of 336 remaining\n"
     ]
    },
    {
     "name": "stdout",
     "output_type": "stream",
     "text": [
      "Found label: 'Ethnic Origin:'\n",
      "Found label: 'Ancestry (Self-Reported):'\n",
      "Found label: 'Religion:'\n",
      "Found label: 'Jewish Ancestry (Self-Reported):'\n"
     ]
    },
    {
     "name": "stderr",
     "output_type": "stream",
     "text": [
      "2024-10-27 13:37:42 - INFO - Scraping profile 45 of 336 remaining\n"
     ]
    },
    {
     "name": "stdout",
     "output_type": "stream",
     "text": [
      "Found label: 'Ethnic Origin:'\n",
      "Found label: 'Ancestry (Self-Reported):'\n",
      "Found label: 'Religion:'\n",
      "Found label: 'Jewish Ancestry (Self-Reported):'\n"
     ]
    },
    {
     "name": "stderr",
     "output_type": "stream",
     "text": [
      "2024-10-27 13:38:33 - INFO - Scraping profile 46 of 336 remaining\n"
     ]
    },
    {
     "name": "stdout",
     "output_type": "stream",
     "text": [
      "Found label: 'Ethnic Origin:'\n",
      "Found label: 'Ancestry (Self-Reported):'\n",
      "Found label: 'Religion:'\n",
      "Found label: 'Jewish Ancestry (Self-Reported):'\n"
     ]
    },
    {
     "name": "stderr",
     "output_type": "stream",
     "text": [
      "2024-10-27 13:39:21 - INFO - Scraping profile 47 of 336 remaining\n"
     ]
    },
    {
     "name": "stdout",
     "output_type": "stream",
     "text": [
      "Found label: 'Ethnic Origin:'\n",
      "Found label: 'Ancestry (Self-Reported):'\n",
      "Found label: 'Religion:'\n",
      "Found label: 'Jewish Ancestry (Self-Reported):'\n"
     ]
    },
    {
     "name": "stderr",
     "output_type": "stream",
     "text": [
      "2024-10-27 13:40:21 - INFO - Scraping profile 48 of 336 remaining\n"
     ]
    },
    {
     "name": "stdout",
     "output_type": "stream",
     "text": [
      "Found label: 'Ethnic Origin:'\n",
      "Found label: 'Ancestry (Self-Reported):'\n",
      "Found label: 'Religion:'\n",
      "Found label: 'Jewish Ancestry (Self-Reported):'\n"
     ]
    },
    {
     "name": "stderr",
     "output_type": "stream",
     "text": [
      "2024-10-27 13:41:02 - INFO - Scraping profile 49 of 336 remaining\n"
     ]
    },
    {
     "name": "stdout",
     "output_type": "stream",
     "text": [
      "Found label: 'Ethnic Origin:'\n",
      "Found label: 'Ancestry (Self-Reported):'\n",
      "Found label: 'Religion:'\n",
      "Found label: 'Jewish Ancestry (Self-Reported):'\n"
     ]
    },
    {
     "name": "stderr",
     "output_type": "stream",
     "text": [
      "2024-10-27 13:41:53 - INFO - Scraping profile 50 of 336 remaining\n"
     ]
    },
    {
     "name": "stdout",
     "output_type": "stream",
     "text": [
      "Found label: 'Ethnic Origin:'\n",
      "Found label: 'Ancestry (Self-Reported):'\n",
      "Found label: 'Religion:'\n",
      "Found label: 'Jewish Ancestry (Self-Reported):'\n"
     ]
    },
    {
     "name": "stderr",
     "output_type": "stream",
     "text": [
      "2024-10-27 13:42:43 - INFO - Scraping profile 51 of 336 remaining\n"
     ]
    },
    {
     "name": "stdout",
     "output_type": "stream",
     "text": [
      "Found label: 'Ethnic Origin:'\n",
      "Found label: 'Ancestry (Self-Reported):'\n",
      "Found label: 'Religion:'\n",
      "Found label: 'Jewish Ancestry (Self-Reported):'\n",
      "Saved progress: 150 profiles\n",
      "Backup created: /Users/cindylinsf/Documents/CCI/THESIS/Msc_Thesis_Project_Files/data/raw/bank1/profiles_bank1_backup_20241027_134243.json\n",
      "Saved progress: 150 profiles collected\n"
     ]
    },
    {
     "name": "stderr",
     "output_type": "stream",
     "text": [
      "2024-10-27 13:43:25 - INFO - Scraping profile 52 of 336 remaining\n"
     ]
    },
    {
     "name": "stdout",
     "output_type": "stream",
     "text": [
      "Found label: 'Ethnic Origin:'\n",
      "Found label: 'Ancestry (Self-Reported):'\n",
      "Found label: 'Religion:'\n",
      "Found label: 'Jewish Ancestry (Self-Reported):'\n"
     ]
    },
    {
     "name": "stderr",
     "output_type": "stream",
     "text": [
      "2024-10-27 13:44:04 - INFO - Scraping profile 53 of 336 remaining\n"
     ]
    },
    {
     "name": "stdout",
     "output_type": "stream",
     "text": [
      "Found label: 'Ethnic Origin:'\n",
      "Found label: 'Ancestry (Self-Reported):'\n",
      "Found label: 'Religion:'\n",
      "Found label: 'Jewish Ancestry (Self-Reported):'\n"
     ]
    },
    {
     "name": "stderr",
     "output_type": "stream",
     "text": [
      "2024-10-27 13:45:04 - INFO - Scraping profile 54 of 336 remaining\n"
     ]
    },
    {
     "name": "stdout",
     "output_type": "stream",
     "text": [
      "Found label: 'Ethnic Origin:'\n",
      "Found label: 'Ancestry (Self-Reported):'\n",
      "Found label: 'Religion:'\n",
      "Found label: 'Jewish Ancestry (Self-Reported):'\n"
     ]
    },
    {
     "name": "stderr",
     "output_type": "stream",
     "text": [
      "2024-10-27 13:45:55 - INFO - Scraping profile 55 of 336 remaining\n"
     ]
    },
    {
     "name": "stdout",
     "output_type": "stream",
     "text": [
      "Found label: 'Ethnic Origin:'\n",
      "Found label: 'Ancestry (Self-Reported):'\n",
      "Found label: 'Religion:'\n",
      "Found label: 'Jewish Ancestry (Self-Reported):'\n"
     ]
    },
    {
     "name": "stderr",
     "output_type": "stream",
     "text": [
      "2024-10-27 13:46:54 - INFO - Scraping profile 56 of 336 remaining\n"
     ]
    },
    {
     "name": "stdout",
     "output_type": "stream",
     "text": [
      "Found label: 'Ethnic Origin:'\n",
      "Found label: 'Ancestry (Self-Reported):'\n",
      "Found label: 'Religion:'\n",
      "Found label: 'Jewish Ancestry (Self-Reported):'\n"
     ]
    },
    {
     "name": "stderr",
     "output_type": "stream",
     "text": [
      "2024-10-27 13:47:41 - INFO - Scraping profile 57 of 336 remaining\n"
     ]
    },
    {
     "name": "stdout",
     "output_type": "stream",
     "text": [
      "Found label: 'Ethnic Origin:'\n",
      "Found label: 'Ancestry (Self-Reported):'\n",
      "Found label: 'Religion:'\n",
      "Found label: 'Jewish Ancestry (Self-Reported):'\n"
     ]
    },
    {
     "name": "stderr",
     "output_type": "stream",
     "text": [
      "2024-10-27 13:48:28 - INFO - Scraping profile 58 of 336 remaining\n"
     ]
    },
    {
     "name": "stdout",
     "output_type": "stream",
     "text": [
      "Found label: 'Ethnic Origin:'\n",
      "Found label: 'Ancestry (Self-Reported):'\n",
      "Found label: 'Religion:'\n",
      "Found label: 'Jewish Ancestry (Self-Reported):'\n"
     ]
    },
    {
     "name": "stderr",
     "output_type": "stream",
     "text": [
      "2024-10-27 13:49:12 - INFO - Scraping profile 59 of 336 remaining\n"
     ]
    },
    {
     "name": "stdout",
     "output_type": "stream",
     "text": [
      "Found label: 'Ethnic Origin:'\n",
      "Found label: 'Ancestry (Self-Reported):'\n",
      "Found label: 'Religion:'\n",
      "Found label: 'Jewish Ancestry (Self-Reported):'\n"
     ]
    },
    {
     "name": "stderr",
     "output_type": "stream",
     "text": [
      "2024-10-27 13:49:59 - INFO - Scraping profile 60 of 336 remaining\n"
     ]
    },
    {
     "name": "stdout",
     "output_type": "stream",
     "text": [
      "Found label: 'Ethnic Origin:'\n",
      "Found label: 'Ancestry (Self-Reported):'\n",
      "Found label: 'Religion:'\n",
      "Found label: 'Jewish Ancestry (Self-Reported):'\n"
     ]
    },
    {
     "name": "stderr",
     "output_type": "stream",
     "text": [
      "2024-10-27 13:50:46 - INFO - Scraping profile 61 of 336 remaining\n",
      "2024-10-27 13:50:46 - INFO - Taking a session break...\n"
     ]
    },
    {
     "name": "stdout",
     "output_type": "stream",
     "text": [
      "Found label: 'Ethnic Origin:'\n",
      "Found label: 'Ancestry (Self-Reported):'\n",
      "Found label: 'Religion:'\n",
      "Found label: 'Jewish Ancestry (Self-Reported):'\n",
      "Saved progress: 160 profiles\n",
      "Backup created: /Users/cindylinsf/Documents/CCI/THESIS/Msc_Thesis_Project_Files/data/raw/bank1/profiles_bank1_backup_20241027_135046.json\n",
      "Saved progress: 160 profiles collected\n"
     ]
    },
    {
     "name": "stderr",
     "output_type": "stream",
     "text": [
      "2024-10-27 13:58:36 - INFO - Scraping profile 62 of 336 remaining\n"
     ]
    },
    {
     "name": "stdout",
     "output_type": "stream",
     "text": [
      "Found label: 'Ethnic Origin:'\n",
      "Found label: 'Ancestry (Self-Reported):'\n",
      "Found label: 'Religion:'\n",
      "Found label: 'Jewish Ancestry (Self-Reported):'\n"
     ]
    },
    {
     "name": "stderr",
     "output_type": "stream",
     "text": [
      "2024-10-27 13:59:23 - INFO - Scraping profile 63 of 336 remaining\n"
     ]
    },
    {
     "name": "stdout",
     "output_type": "stream",
     "text": [
      "Found label: 'Ethnic Origin:'\n",
      "Found label: 'Ancestry (Self-Reported):'\n",
      "Found label: 'Religion:'\n",
      "Found label: 'Jewish Ancestry (Self-Reported):'\n"
     ]
    },
    {
     "name": "stderr",
     "output_type": "stream",
     "text": [
      "2024-10-27 14:00:18 - INFO - Scraping profile 64 of 336 remaining\n"
     ]
    },
    {
     "name": "stdout",
     "output_type": "stream",
     "text": [
      "Found label: 'Ethnic Origin:'\n",
      "Found label: 'Ancestry (Self-Reported):'\n",
      "Found label: 'Religion:'\n",
      "Found label: 'Jewish Ancestry (Self-Reported):'\n"
     ]
    },
    {
     "name": "stderr",
     "output_type": "stream",
     "text": [
      "2024-10-27 14:01:06 - INFO - Scraping profile 65 of 336 remaining\n"
     ]
    },
    {
     "name": "stdout",
     "output_type": "stream",
     "text": [
      "Found label: 'Ethnic Origin:'\n",
      "Found label: 'Ancestry (Self-Reported):'\n",
      "Found label: 'Religion:'\n",
      "Found label: 'Jewish Ancestry (Self-Reported):'\n"
     ]
    },
    {
     "name": "stderr",
     "output_type": "stream",
     "text": [
      "2024-10-27 14:01:53 - INFO - Scraping profile 66 of 336 remaining\n"
     ]
    },
    {
     "name": "stdout",
     "output_type": "stream",
     "text": [
      "Found label: 'Ethnic Origin:'\n",
      "Found label: 'Ancestry (Self-Reported):'\n",
      "Found label: 'Religion:'\n",
      "Found label: 'Jewish Ancestry (Self-Reported):'\n"
     ]
    },
    {
     "name": "stderr",
     "output_type": "stream",
     "text": [
      "2024-10-27 14:02:42 - INFO - Scraping profile 67 of 336 remaining\n"
     ]
    },
    {
     "name": "stdout",
     "output_type": "stream",
     "text": [
      "Found label: 'Ethnic Origin:'\n",
      "Found label: 'Ancestry (Self-Reported):'\n",
      "Found label: 'Religion:'\n",
      "Found label: 'Jewish Ancestry (Self-Reported):'\n"
     ]
    },
    {
     "name": "stderr",
     "output_type": "stream",
     "text": [
      "2024-10-27 14:03:28 - INFO - Scraping profile 68 of 336 remaining\n"
     ]
    },
    {
     "name": "stdout",
     "output_type": "stream",
     "text": [
      "Found label: 'Ethnic Origin:'\n",
      "Found label: 'Ancestry (Self-Reported):'\n",
      "Found label: 'Religion:'\n",
      "Found label: 'Jewish Ancestry (Self-Reported):'\n"
     ]
    },
    {
     "name": "stderr",
     "output_type": "stream",
     "text": [
      "2024-10-27 14:04:20 - INFO - Scraping profile 69 of 336 remaining\n"
     ]
    },
    {
     "name": "stdout",
     "output_type": "stream",
     "text": [
      "Found label: 'Ethnic Origin:'\n",
      "Found label: 'Ancestry (Self-Reported):'\n",
      "Found label: 'Religion:'\n",
      "Found label: 'Jewish Ancestry (Self-Reported):'\n"
     ]
    },
    {
     "name": "stderr",
     "output_type": "stream",
     "text": [
      "2024-10-27 14:05:07 - INFO - Scraping profile 70 of 336 remaining\n"
     ]
    },
    {
     "name": "stdout",
     "output_type": "stream",
     "text": [
      "Found label: 'Ethnic Origin:'\n",
      "Found label: 'Ancestry (Self-Reported):'\n",
      "Found label: 'Religion:'\n",
      "Found label: 'Jewish Ancestry (Self-Reported):'\n"
     ]
    },
    {
     "name": "stderr",
     "output_type": "stream",
     "text": [
      "2024-10-27 14:06:01 - INFO - Scraping profile 71 of 336 remaining\n"
     ]
    },
    {
     "name": "stdout",
     "output_type": "stream",
     "text": [
      "Found label: 'Ethnic Origin:'\n",
      "Found label: 'Ancestry (Self-Reported):'\n",
      "Found label: 'Religion:'\n",
      "Found label: 'Jewish Ancestry (Self-Reported):'\n",
      "Saved progress: 170 profiles\n",
      "Backup created: /Users/cindylinsf/Documents/CCI/THESIS/Msc_Thesis_Project_Files/data/raw/bank1/profiles_bank1_backup_20241027_140601.json\n",
      "Saved progress: 170 profiles collected\n"
     ]
    },
    {
     "name": "stderr",
     "output_type": "stream",
     "text": [
      "2024-10-27 14:06:47 - INFO - Scraping profile 72 of 336 remaining\n"
     ]
    },
    {
     "name": "stdout",
     "output_type": "stream",
     "text": [
      "Found label: 'Ethnic Origin:'\n",
      "Found label: 'Ancestry (Self-Reported):'\n",
      "Found label: 'Religion:'\n",
      "Found label: 'Jewish Ancestry (Self-Reported):'\n"
     ]
    },
    {
     "name": "stderr",
     "output_type": "stream",
     "text": [
      "2024-10-27 14:07:32 - INFO - Scraping profile 73 of 336 remaining\n"
     ]
    },
    {
     "name": "stdout",
     "output_type": "stream",
     "text": [
      "Found label: 'Ethnic Origin:'\n",
      "Found label: 'Ancestry (Self-Reported):'\n",
      "Found label: 'Religion:'\n",
      "Found label: 'Jewish Ancestry (Self-Reported):'\n"
     ]
    },
    {
     "name": "stderr",
     "output_type": "stream",
     "text": [
      "2024-10-27 14:08:18 - INFO - Scraping profile 74 of 336 remaining\n"
     ]
    },
    {
     "name": "stdout",
     "output_type": "stream",
     "text": [
      "Found label: 'Ethnic Origin:'\n",
      "Found label: 'Ancestry (Self-Reported):'\n",
      "Found label: 'Religion:'\n",
      "Found label: 'Jewish Ancestry (Self-Reported):'\n"
     ]
    },
    {
     "name": "stderr",
     "output_type": "stream",
     "text": [
      "2024-10-27 14:09:06 - INFO - Scraping profile 75 of 336 remaining\n"
     ]
    },
    {
     "name": "stdout",
     "output_type": "stream",
     "text": [
      "Found label: 'Ethnic Origin:'\n",
      "Found label: 'Ancestry (Self-Reported):'\n",
      "Found label: 'Religion:'\n",
      "Found label: 'Jewish Ancestry (Self-Reported):'\n"
     ]
    },
    {
     "name": "stderr",
     "output_type": "stream",
     "text": [
      "2024-10-27 14:09:56 - INFO - Scraping profile 76 of 336 remaining\n"
     ]
    },
    {
     "name": "stdout",
     "output_type": "stream",
     "text": [
      "Found label: 'Ethnic Origin:'\n",
      "Found label: 'Ancestry (Self-Reported):'\n",
      "Found label: 'Religion:'\n",
      "Found label: 'Jewish Ancestry (Self-Reported):'\n"
     ]
    },
    {
     "name": "stderr",
     "output_type": "stream",
     "text": [
      "2024-10-27 14:10:44 - INFO - Scraping profile 77 of 336 remaining\n"
     ]
    },
    {
     "name": "stdout",
     "output_type": "stream",
     "text": [
      "Found label: 'Ethnic Origin:'\n",
      "Found label: 'Ancestry (Self-Reported):'\n",
      "Found label: 'Religion:'\n",
      "Found label: 'Jewish Ancestry (Self-Reported):'\n"
     ]
    },
    {
     "name": "stderr",
     "output_type": "stream",
     "text": [
      "2024-10-27 14:11:32 - INFO - Scraping profile 78 of 336 remaining\n"
     ]
    },
    {
     "name": "stdout",
     "output_type": "stream",
     "text": [
      "Found label: 'Ethnic Origin:'\n",
      "Found label: 'Ancestry (Self-Reported):'\n",
      "Found label: 'Religion:'\n",
      "Found label: 'Jewish Ancestry (Self-Reported):'\n"
     ]
    },
    {
     "name": "stderr",
     "output_type": "stream",
     "text": [
      "2024-10-27 14:12:16 - INFO - Scraping profile 79 of 336 remaining\n"
     ]
    },
    {
     "name": "stdout",
     "output_type": "stream",
     "text": [
      "Found label: 'Ethnic Origin:'\n",
      "Found label: 'Ancestry (Self-Reported):'\n",
      "Found label: 'Religion:'\n",
      "Found label: 'Jewish Ancestry (Self-Reported):'\n"
     ]
    },
    {
     "name": "stderr",
     "output_type": "stream",
     "text": [
      "2024-10-27 14:13:10 - INFO - Scraping profile 80 of 336 remaining\n"
     ]
    },
    {
     "name": "stdout",
     "output_type": "stream",
     "text": [
      "Found label: 'Ethnic Origin:'\n",
      "Found label: 'Ancestry (Self-Reported):'\n",
      "Found label: 'Religion:'\n",
      "Found label: 'Jewish Ancestry (Self-Reported):'\n"
     ]
    },
    {
     "name": "stderr",
     "output_type": "stream",
     "text": [
      "2024-10-27 14:13:59 - INFO - Scraping profile 81 of 336 remaining\n"
     ]
    },
    {
     "name": "stdout",
     "output_type": "stream",
     "text": [
      "Found label: 'Ethnic Origin:'\n",
      "Found label: 'Ancestry (Self-Reported):'\n",
      "Found label: 'Religion:'\n",
      "Found label: 'Jewish Ancestry (Self-Reported):'\n",
      "Saved progress: 180 profiles\n",
      "Backup created: /Users/cindylinsf/Documents/CCI/THESIS/Msc_Thesis_Project_Files/data/raw/bank1/profiles_bank1_backup_20241027_141359.json\n",
      "Saved progress: 180 profiles collected\n"
     ]
    },
    {
     "name": "stderr",
     "output_type": "stream",
     "text": [
      "2024-10-27 14:14:47 - INFO - Scraping profile 82 of 336 remaining\n"
     ]
    },
    {
     "name": "stdout",
     "output_type": "stream",
     "text": [
      "Found label: 'Ethnic Origin:'\n",
      "Found label: 'Ancestry (Self-Reported):'\n",
      "Found label: 'Religion:'\n",
      "Found label: 'Jewish Ancestry (Self-Reported):'\n"
     ]
    },
    {
     "name": "stderr",
     "output_type": "stream",
     "text": [
      "2024-10-27 14:15:33 - INFO - Scraping profile 83 of 336 remaining\n"
     ]
    },
    {
     "name": "stdout",
     "output_type": "stream",
     "text": [
      "Found label: 'Ethnic Origin:'\n",
      "Found label: 'Ancestry (Self-Reported):'\n",
      "Found label: 'Religion:'\n",
      "Found label: 'Jewish Ancestry (Self-Reported):'\n"
     ]
    },
    {
     "name": "stderr",
     "output_type": "stream",
     "text": [
      "2024-10-27 14:16:20 - INFO - Scraping profile 84 of 336 remaining\n"
     ]
    },
    {
     "name": "stdout",
     "output_type": "stream",
     "text": [
      "Found label: 'Ethnic Origin:'\n",
      "Found label: 'Ancestry (Self-Reported):'\n",
      "Found label: 'Religion:'\n",
      "Found label: 'Jewish Ancestry (Self-Reported):'\n"
     ]
    },
    {
     "name": "stderr",
     "output_type": "stream",
     "text": [
      "2024-10-27 14:17:14 - INFO - Scraping profile 85 of 336 remaining\n"
     ]
    },
    {
     "name": "stdout",
     "output_type": "stream",
     "text": [
      "Found label: 'Ethnic Origin:'\n",
      "Found label: 'Ancestry (Self-Reported):'\n",
      "Found label: 'Religion:'\n",
      "Found label: 'Jewish Ancestry (Self-Reported):'\n"
     ]
    },
    {
     "name": "stderr",
     "output_type": "stream",
     "text": [
      "2024-10-27 14:18:00 - INFO - Scraping profile 86 of 336 remaining\n"
     ]
    },
    {
     "name": "stdout",
     "output_type": "stream",
     "text": [
      "Found label: 'Ethnic Origin:'\n",
      "Found label: 'Ancestry (Self-Reported):'\n",
      "Found label: 'Religion:'\n",
      "Found label: 'Jewish Ancestry (Self-Reported):'\n"
     ]
    },
    {
     "name": "stderr",
     "output_type": "stream",
     "text": [
      "2024-10-27 14:18:51 - INFO - Scraping profile 87 of 336 remaining\n"
     ]
    },
    {
     "name": "stdout",
     "output_type": "stream",
     "text": [
      "Found label: 'Ethnic Origin:'\n",
      "Found label: 'Ancestry (Self-Reported):'\n",
      "Found label: 'Religion:'\n",
      "Found label: 'Jewish Ancestry (Self-Reported):'\n"
     ]
    },
    {
     "name": "stderr",
     "output_type": "stream",
     "text": [
      "2024-10-27 14:19:45 - INFO - Scraping profile 88 of 336 remaining\n"
     ]
    },
    {
     "name": "stdout",
     "output_type": "stream",
     "text": [
      "Found label: 'Ethnic Origin:'\n",
      "Found label: 'Ancestry (Self-Reported):'\n",
      "Found label: 'Religion:'\n",
      "Found label: 'Jewish Ancestry (Self-Reported):'\n"
     ]
    },
    {
     "name": "stderr",
     "output_type": "stream",
     "text": [
      "2024-10-27 14:20:26 - INFO - Scraping profile 89 of 336 remaining\n"
     ]
    },
    {
     "name": "stdout",
     "output_type": "stream",
     "text": [
      "Found label: 'Ethnic Origin:'\n",
      "Found label: 'Ancestry (Self-Reported):'\n",
      "Found label: 'Religion:'\n",
      "Found label: 'Jewish Ancestry (Self-Reported):'\n"
     ]
    },
    {
     "name": "stderr",
     "output_type": "stream",
     "text": [
      "2024-10-27 14:21:13 - INFO - Scraping profile 90 of 336 remaining\n"
     ]
    },
    {
     "name": "stdout",
     "output_type": "stream",
     "text": [
      "Found label: 'Ethnic Origin:'\n",
      "Found label: 'Ancestry (Self-Reported):'\n",
      "Found label: 'Religion:'\n",
      "Found label: 'Jewish Ancestry (Self-Reported):'\n"
     ]
    },
    {
     "name": "stderr",
     "output_type": "stream",
     "text": [
      "2024-10-27 14:22:00 - INFO - Scraping profile 91 of 336 remaining\n",
      "2024-10-27 14:22:00 - INFO - Taking a session break...\n"
     ]
    },
    {
     "name": "stdout",
     "output_type": "stream",
     "text": [
      "Found label: 'Ethnic Origin:'\n",
      "Found label: 'Ancestry (Self-Reported):'\n",
      "Found label: 'Religion:'\n",
      "Found label: 'Jewish Ancestry (Self-Reported):'\n",
      "Saved progress: 190 profiles\n",
      "Backup created: /Users/cindylinsf/Documents/CCI/THESIS/Msc_Thesis_Project_Files/data/raw/bank1/profiles_bank1_backup_20241027_142200.json\n",
      "Saved progress: 190 profiles collected\n"
     ]
    },
    {
     "name": "stderr",
     "output_type": "stream",
     "text": [
      "2024-10-27 14:28:22 - INFO - Scraping profile 92 of 336 remaining\n"
     ]
    },
    {
     "name": "stdout",
     "output_type": "stream",
     "text": [
      "Found label: 'Ethnic Origin:'\n",
      "Found label: 'Ancestry (Self-Reported):'\n",
      "Found label: 'Religion:'\n",
      "Found label: 'Jewish Ancestry (Self-Reported):'\n"
     ]
    },
    {
     "name": "stderr",
     "output_type": "stream",
     "text": [
      "2024-10-27 14:29:10 - INFO - Scraping profile 93 of 336 remaining\n"
     ]
    },
    {
     "name": "stdout",
     "output_type": "stream",
     "text": [
      "Found label: 'Ethnic Origin:'\n",
      "Found label: 'Ancestry (Self-Reported):'\n",
      "Found label: 'Religion:'\n",
      "Found label: 'Jewish Ancestry (Self-Reported):'\n"
     ]
    },
    {
     "name": "stderr",
     "output_type": "stream",
     "text": [
      "2024-10-27 14:30:06 - INFO - Scraping profile 94 of 336 remaining\n"
     ]
    },
    {
     "name": "stdout",
     "output_type": "stream",
     "text": [
      "Found label: 'Ethnic Origin:'\n",
      "Found label: 'Ancestry (Self-Reported):'\n",
      "Found label: 'Religion:'\n",
      "Found label: 'Jewish Ancestry (Self-Reported):'\n"
     ]
    },
    {
     "name": "stderr",
     "output_type": "stream",
     "text": [
      "2024-10-27 14:30:53 - INFO - Scraping profile 95 of 336 remaining\n"
     ]
    },
    {
     "name": "stdout",
     "output_type": "stream",
     "text": [
      "Found label: 'Ethnic Origin:'\n",
      "Found label: 'Ancestry (Self-Reported):'\n",
      "Found label: 'Religion:'\n",
      "Found label: 'Jewish Ancestry (Self-Reported):'\n"
     ]
    },
    {
     "name": "stderr",
     "output_type": "stream",
     "text": [
      "2024-10-27 14:31:47 - INFO - Scraping profile 96 of 336 remaining\n"
     ]
    },
    {
     "name": "stdout",
     "output_type": "stream",
     "text": [
      "Found label: 'Ethnic Origin:'\n",
      "Found label: 'Ancestry (Self-Reported):'\n",
      "Found label: 'Religion:'\n",
      "Found label: 'Jewish Ancestry (Self-Reported):'\n"
     ]
    },
    {
     "name": "stderr",
     "output_type": "stream",
     "text": [
      "2024-10-27 14:32:42 - INFO - Scraping profile 97 of 336 remaining\n"
     ]
    },
    {
     "name": "stdout",
     "output_type": "stream",
     "text": [
      "Found label: 'Ethnic Origin:'\n",
      "Found label: 'Ancestry (Self-Reported):'\n",
      "Found label: 'Religion:'\n",
      "Found label: 'Jewish Ancestry (Self-Reported):'\n"
     ]
    },
    {
     "name": "stderr",
     "output_type": "stream",
     "text": [
      "2024-10-27 14:33:30 - INFO - Scraping profile 98 of 336 remaining\n"
     ]
    },
    {
     "name": "stdout",
     "output_type": "stream",
     "text": [
      "Found label: 'Ethnic Origin:'\n",
      "Found label: 'Ancestry (Self-Reported):'\n",
      "Found label: 'Religion:'\n",
      "Found label: 'Jewish Ancestry (Self-Reported):'\n"
     ]
    },
    {
     "name": "stderr",
     "output_type": "stream",
     "text": [
      "2024-10-27 14:34:23 - INFO - Scraping profile 99 of 336 remaining\n"
     ]
    },
    {
     "name": "stdout",
     "output_type": "stream",
     "text": [
      "Found label: 'Ethnic Origin:'\n",
      "Found label: 'Ancestry (Self-Reported):'\n",
      "Found label: 'Religion:'\n",
      "Found label: 'Jewish Ancestry (Self-Reported):'\n"
     ]
    },
    {
     "name": "stderr",
     "output_type": "stream",
     "text": [
      "2024-10-27 14:35:13 - INFO - Scraping profile 100 of 336 remaining\n"
     ]
    },
    {
     "name": "stdout",
     "output_type": "stream",
     "text": [
      "Found label: 'Ethnic Origin:'\n",
      "Found label: 'Ancestry (Self-Reported):'\n",
      "Found label: 'Religion:'\n",
      "Found label: 'Jewish Ancestry (Self-Reported):'\n"
     ]
    },
    {
     "name": "stderr",
     "output_type": "stream",
     "text": [
      "2024-10-27 14:35:59 - INFO - Scraping profile 101 of 336 remaining\n"
     ]
    },
    {
     "name": "stdout",
     "output_type": "stream",
     "text": [
      "Found label: 'Ethnic Origin:'\n",
      "Found label: 'Ancestry (Self-Reported):'\n",
      "Found label: 'Religion:'\n",
      "Found label: 'Jewish Ancestry (Self-Reported):'\n",
      "Saved progress: 200 profiles\n",
      "Backup created: /Users/cindylinsf/Documents/CCI/THESIS/Msc_Thesis_Project_Files/data/raw/bank1/profiles_bank1_backup_20241027_143559.json\n",
      "Saved progress: 200 profiles collected\n"
     ]
    },
    {
     "name": "stderr",
     "output_type": "stream",
     "text": [
      "2024-10-27 14:37:00 - INFO - Scraping profile 102 of 336 remaining\n"
     ]
    },
    {
     "name": "stdout",
     "output_type": "stream",
     "text": [
      "Found label: 'Ethnic Origin:'\n",
      "Found label: 'Ancestry (Self-Reported):'\n",
      "Found label: 'Religion:'\n",
      "Found label: 'Jewish Ancestry (Self-Reported):'\n"
     ]
    },
    {
     "name": "stderr",
     "output_type": "stream",
     "text": [
      "2024-10-27 14:37:52 - INFO - Scraping profile 103 of 336 remaining\n"
     ]
    },
    {
     "name": "stdout",
     "output_type": "stream",
     "text": [
      "Found label: 'Ethnic Origin:'\n",
      "Found label: 'Ancestry (Self-Reported):'\n",
      "Found label: 'Religion:'\n",
      "Found label: 'Jewish Ancestry (Self-Reported):'\n"
     ]
    },
    {
     "name": "stderr",
     "output_type": "stream",
     "text": [
      "2024-10-27 14:38:45 - INFO - Scraping profile 104 of 336 remaining\n"
     ]
    },
    {
     "name": "stdout",
     "output_type": "stream",
     "text": [
      "Found label: 'Ethnic Origin:'\n",
      "Found label: 'Ancestry (Self-Reported):'\n",
      "Found label: 'Religion:'\n",
      "Found label: 'Jewish Ancestry (Self-Reported):'\n"
     ]
    },
    {
     "name": "stderr",
     "output_type": "stream",
     "text": [
      "2024-10-27 14:39:39 - INFO - Scraping profile 105 of 336 remaining\n"
     ]
    },
    {
     "name": "stdout",
     "output_type": "stream",
     "text": [
      "Found label: 'Ethnic Origin:'\n",
      "Found label: 'Ancestry (Self-Reported):'\n",
      "Found label: 'Religion:'\n",
      "Found label: 'Jewish Ancestry (Self-Reported):'\n"
     ]
    },
    {
     "name": "stderr",
     "output_type": "stream",
     "text": [
      "2024-10-27 14:40:34 - INFO - Scraping profile 106 of 336 remaining\n"
     ]
    },
    {
     "name": "stdout",
     "output_type": "stream",
     "text": [
      "Found label: 'Ethnic Origin:'\n",
      "Found label: 'Ancestry (Self-Reported):'\n",
      "Found label: 'Religion:'\n",
      "Found label: 'Jewish Ancestry (Self-Reported):'\n"
     ]
    },
    {
     "name": "stderr",
     "output_type": "stream",
     "text": [
      "2024-10-27 14:41:18 - INFO - Scraping profile 107 of 336 remaining\n"
     ]
    },
    {
     "name": "stdout",
     "output_type": "stream",
     "text": [
      "Found label: 'Ethnic Origin:'\n",
      "Found label: 'Ancestry (Self-Reported):'\n",
      "Found label: 'Religion:'\n",
      "Found label: 'Jewish Ancestry (Self-Reported):'\n"
     ]
    },
    {
     "name": "stderr",
     "output_type": "stream",
     "text": [
      "2024-10-27 14:42:11 - INFO - Scraping profile 108 of 336 remaining\n"
     ]
    },
    {
     "name": "stdout",
     "output_type": "stream",
     "text": [
      "Found label: 'Ethnic Origin:'\n",
      "Found label: 'Ancestry (Self-Reported):'\n",
      "Found label: 'Religion:'\n",
      "Found label: 'Jewish Ancestry (Self-Reported):'\n"
     ]
    },
    {
     "name": "stderr",
     "output_type": "stream",
     "text": [
      "2024-10-27 14:43:10 - INFO - Scraping profile 109 of 336 remaining\n"
     ]
    },
    {
     "name": "stdout",
     "output_type": "stream",
     "text": [
      "Found label: 'Ethnic Origin:'\n",
      "Found label: 'Ancestry (Self-Reported):'\n",
      "Found label: 'Religion:'\n",
      "Found label: 'Jewish Ancestry (Self-Reported):'\n"
     ]
    },
    {
     "name": "stderr",
     "output_type": "stream",
     "text": [
      "2024-10-27 14:44:00 - INFO - Scraping profile 110 of 336 remaining\n"
     ]
    },
    {
     "name": "stdout",
     "output_type": "stream",
     "text": [
      "Found label: 'Ethnic Origin:'\n",
      "Found label: 'Ancestry (Self-Reported):'\n",
      "Found label: 'Religion:'\n",
      "Found label: 'Jewish Ancestry (Self-Reported):'\n"
     ]
    },
    {
     "name": "stderr",
     "output_type": "stream",
     "text": [
      "2024-10-27 14:44:47 - INFO - Scraping profile 111 of 336 remaining\n"
     ]
    },
    {
     "name": "stdout",
     "output_type": "stream",
     "text": [
      "Found label: 'Ethnic Origin:'\n",
      "Found label: 'Ancestry (Self-Reported):'\n",
      "Found label: 'Religion:'\n",
      "Found label: 'Jewish Ancestry (Self-Reported):'\n",
      "Saved progress: 210 profiles\n",
      "Backup created: /Users/cindylinsf/Documents/CCI/THESIS/Msc_Thesis_Project_Files/data/raw/bank1/profiles_bank1_backup_20241027_144447.json\n",
      "Saved progress: 210 profiles collected\n"
     ]
    },
    {
     "name": "stderr",
     "output_type": "stream",
     "text": [
      "2024-10-27 14:45:36 - INFO - Scraping profile 112 of 336 remaining\n"
     ]
    },
    {
     "name": "stdout",
     "output_type": "stream",
     "text": [
      "Found label: 'Ethnic Origin:'\n",
      "Found label: 'Ancestry (Self-Reported):'\n",
      "Found label: 'Religion:'\n",
      "Found label: 'Jewish Ancestry (Self-Reported):'\n"
     ]
    },
    {
     "name": "stderr",
     "output_type": "stream",
     "text": [
      "2024-10-27 14:46:17 - INFO - Scraping profile 113 of 336 remaining\n"
     ]
    },
    {
     "name": "stdout",
     "output_type": "stream",
     "text": [
      "Found label: 'Ethnic Origin:'\n",
      "Found label: 'Ancestry (Self-Reported):'\n",
      "Found label: 'Religion:'\n",
      "Found label: 'Jewish Ancestry (Self-Reported):'\n"
     ]
    },
    {
     "name": "stderr",
     "output_type": "stream",
     "text": [
      "2024-10-27 14:47:07 - INFO - Scraping profile 114 of 336 remaining\n"
     ]
    },
    {
     "name": "stdout",
     "output_type": "stream",
     "text": [
      "Found label: 'Ethnic Origin:'\n",
      "Found label: 'Ancestry (Self-Reported):'\n",
      "Found label: 'Religion:'\n",
      "Found label: 'Jewish Ancestry (Self-Reported):'\n"
     ]
    },
    {
     "name": "stderr",
     "output_type": "stream",
     "text": [
      "2024-10-27 14:47:59 - INFO - Scraping profile 115 of 336 remaining\n"
     ]
    },
    {
     "name": "stdout",
     "output_type": "stream",
     "text": [
      "Found label: 'Ethnic Origin:'\n",
      "Found label: 'Ancestry (Self-Reported):'\n",
      "Found label: 'Religion:'\n",
      "Found label: 'Jewish Ancestry (Self-Reported):'\n"
     ]
    },
    {
     "name": "stderr",
     "output_type": "stream",
     "text": [
      "2024-10-27 14:48:46 - INFO - Scraping profile 116 of 336 remaining\n"
     ]
    },
    {
     "name": "stdout",
     "output_type": "stream",
     "text": [
      "Found label: 'Ethnic Origin:'\n",
      "Found label: 'Ancestry (Self-Reported):'\n",
      "Found label: 'Religion:'\n",
      "Found label: 'Jewish Ancestry (Self-Reported):'\n"
     ]
    },
    {
     "name": "stderr",
     "output_type": "stream",
     "text": [
      "2024-10-27 14:49:40 - INFO - Scraping profile 117 of 336 remaining\n"
     ]
    },
    {
     "name": "stdout",
     "output_type": "stream",
     "text": [
      "Found label: 'Ethnic Origin:'\n",
      "Found label: 'Ancestry (Self-Reported):'\n",
      "Found label: 'Religion:'\n",
      "Found label: 'Jewish Ancestry (Self-Reported):'\n"
     ]
    },
    {
     "name": "stderr",
     "output_type": "stream",
     "text": [
      "2024-10-27 14:50:34 - INFO - Scraping profile 118 of 336 remaining\n"
     ]
    },
    {
     "name": "stdout",
     "output_type": "stream",
     "text": [
      "Found label: 'Ethnic Origin:'\n",
      "Found label: 'Ancestry (Self-Reported):'\n",
      "Found label: 'Religion:'\n",
      "Found label: 'Jewish Ancestry (Self-Reported):'\n"
     ]
    },
    {
     "name": "stderr",
     "output_type": "stream",
     "text": [
      "2024-10-27 14:51:21 - INFO - Scraping profile 119 of 336 remaining\n"
     ]
    },
    {
     "name": "stdout",
     "output_type": "stream",
     "text": [
      "Found label: 'Ethnic Origin:'\n",
      "Found label: 'Ancestry (Self-Reported):'\n",
      "Found label: 'Religion:'\n",
      "Found label: 'Jewish Ancestry (Self-Reported):'\n"
     ]
    },
    {
     "name": "stderr",
     "output_type": "stream",
     "text": [
      "2024-10-27 14:52:18 - INFO - Scraping profile 120 of 336 remaining\n"
     ]
    },
    {
     "name": "stdout",
     "output_type": "stream",
     "text": [
      "Found label: 'Ethnic Origin:'\n",
      "Found label: 'Ancestry (Self-Reported):'\n",
      "Found label: 'Religion:'\n",
      "Found label: 'Jewish Ancestry (Self-Reported):'\n"
     ]
    },
    {
     "name": "stderr",
     "output_type": "stream",
     "text": [
      "2024-10-27 14:53:05 - INFO - Scraping profile 121 of 336 remaining\n",
      "2024-10-27 14:53:05 - INFO - Taking a session break...\n"
     ]
    },
    {
     "name": "stdout",
     "output_type": "stream",
     "text": [
      "Found label: 'Ethnic Origin:'\n",
      "Found label: 'Ancestry (Self-Reported):'\n",
      "Found label: 'Religion:'\n",
      "Found label: 'Jewish Ancestry (Self-Reported):'\n",
      "Saved progress: 220 profiles\n",
      "Backup created: /Users/cindylinsf/Documents/CCI/THESIS/Msc_Thesis_Project_Files/data/raw/bank1/profiles_bank1_backup_20241027_145305.json\n",
      "Saved progress: 220 profiles collected\n"
     ]
    },
    {
     "name": "stderr",
     "output_type": "stream",
     "text": [
      "2024-10-27 14:58:56 - INFO - Scraping profile 122 of 336 remaining\n"
     ]
    },
    {
     "name": "stdout",
     "output_type": "stream",
     "text": [
      "Found label: 'Ethnic Origin:'\n",
      "Found label: 'Ancestry (Self-Reported):'\n",
      "Found label: 'Religion:'\n",
      "Found label: 'Jewish Ancestry (Self-Reported):'\n"
     ]
    },
    {
     "name": "stderr",
     "output_type": "stream",
     "text": [
      "2024-10-27 14:59:45 - INFO - Scraping profile 123 of 336 remaining\n"
     ]
    },
    {
     "name": "stdout",
     "output_type": "stream",
     "text": [
      "Found label: 'Ethnic Origin:'\n",
      "Found label: 'Ancestry (Self-Reported):'\n",
      "Found label: 'Religion:'\n",
      "Found label: 'Jewish Ancestry (Self-Reported):'\n"
     ]
    },
    {
     "name": "stderr",
     "output_type": "stream",
     "text": [
      "2024-10-27 15:00:35 - INFO - Scraping profile 124 of 336 remaining\n"
     ]
    },
    {
     "name": "stdout",
     "output_type": "stream",
     "text": [
      "Found label: 'Ethnic Origin:'\n",
      "Found label: 'Ancestry (Self-Reported):'\n",
      "Found label: 'Religion:'\n",
      "Found label: 'Jewish Ancestry (Self-Reported):'\n"
     ]
    },
    {
     "name": "stderr",
     "output_type": "stream",
     "text": [
      "2024-10-27 15:01:29 - INFO - Scraping profile 125 of 336 remaining\n"
     ]
    },
    {
     "name": "stdout",
     "output_type": "stream",
     "text": [
      "Found label: 'Ethnic Origin:'\n",
      "Found label: 'Ancestry (Self-Reported):'\n",
      "Found label: 'Religion:'\n",
      "Found label: 'Jewish Ancestry (Self-Reported):'\n"
     ]
    },
    {
     "name": "stderr",
     "output_type": "stream",
     "text": [
      "2024-10-27 15:02:14 - INFO - Scraping profile 126 of 336 remaining\n"
     ]
    },
    {
     "name": "stdout",
     "output_type": "stream",
     "text": [
      "Found label: 'Ethnic Origin:'\n",
      "Found label: 'Ancestry (Self-Reported):'\n",
      "Found label: 'Religion:'\n",
      "Found label: 'Jewish Ancestry (Self-Reported):'\n"
     ]
    },
    {
     "name": "stderr",
     "output_type": "stream",
     "text": [
      "2024-10-27 15:02:58 - INFO - Scraping profile 127 of 336 remaining\n"
     ]
    },
    {
     "name": "stdout",
     "output_type": "stream",
     "text": [
      "Found label: 'Ethnic Origin:'\n",
      "Found label: 'Ancestry (Self-Reported):'\n",
      "Found label: 'Religion:'\n",
      "Found label: 'Jewish Ancestry (Self-Reported):'\n"
     ]
    },
    {
     "name": "stderr",
     "output_type": "stream",
     "text": [
      "2024-10-27 15:03:43 - INFO - Scraping profile 128 of 336 remaining\n"
     ]
    },
    {
     "name": "stdout",
     "output_type": "stream",
     "text": [
      "Found label: 'Ethnic Origin:'\n",
      "Found label: 'Ancestry (Self-Reported):'\n",
      "Found label: 'Religion:'\n",
      "Found label: 'Jewish Ancestry (Self-Reported):'\n"
     ]
    },
    {
     "name": "stderr",
     "output_type": "stream",
     "text": [
      "2024-10-27 15:04:34 - INFO - Scraping profile 129 of 336 remaining\n"
     ]
    },
    {
     "name": "stdout",
     "output_type": "stream",
     "text": [
      "Found label: 'Ethnic Origin:'\n",
      "Found label: 'Ancestry (Self-Reported):'\n",
      "Found label: 'Religion:'\n",
      "Found label: 'Jewish Ancestry (Self-Reported):'\n"
     ]
    },
    {
     "name": "stderr",
     "output_type": "stream",
     "text": [
      "2024-10-27 15:05:31 - INFO - Scraping profile 130 of 336 remaining\n"
     ]
    },
    {
     "name": "stdout",
     "output_type": "stream",
     "text": [
      "Found label: 'Ethnic Origin:'\n",
      "Found label: 'Ancestry (Self-Reported):'\n",
      "Found label: 'Religion:'\n",
      "Found label: 'Jewish Ancestry (Self-Reported):'\n"
     ]
    },
    {
     "name": "stderr",
     "output_type": "stream",
     "text": [
      "2024-10-27 15:06:25 - INFO - Scraping profile 131 of 336 remaining\n"
     ]
    },
    {
     "name": "stdout",
     "output_type": "stream",
     "text": [
      "Found label: 'Ethnic Origin:'\n",
      "Found label: 'Ancestry (Self-Reported):'\n",
      "Found label: 'Religion:'\n",
      "Found label: 'Jewish Ancestry (Self-Reported):'\n",
      "Saved progress: 230 profiles\n",
      "Backup created: /Users/cindylinsf/Documents/CCI/THESIS/Msc_Thesis_Project_Files/data/raw/bank1/profiles_bank1_backup_20241027_150625.json\n",
      "Saved progress: 230 profiles collected\n"
     ]
    },
    {
     "name": "stderr",
     "output_type": "stream",
     "text": [
      "2024-10-27 15:07:15 - INFO - Scraping profile 132 of 336 remaining\n"
     ]
    },
    {
     "name": "stdout",
     "output_type": "stream",
     "text": [
      "Found label: 'Ethnic Origin:'\n",
      "Found label: 'Ancestry (Self-Reported):'\n",
      "Found label: 'Religion:'\n",
      "Found label: 'Jewish Ancestry (Self-Reported):'\n"
     ]
    },
    {
     "name": "stderr",
     "output_type": "stream",
     "text": [
      "2024-10-27 15:08:10 - INFO - Scraping profile 133 of 336 remaining\n"
     ]
    },
    {
     "name": "stdout",
     "output_type": "stream",
     "text": [
      "Found label: 'Ethnic Origin:'\n",
      "Found label: 'Ancestry (Self-Reported):'\n",
      "Found label: 'Religion:'\n",
      "Found label: 'Jewish Ancestry (Self-Reported):'\n"
     ]
    },
    {
     "name": "stderr",
     "output_type": "stream",
     "text": [
      "2024-10-27 15:08:59 - INFO - Scraping profile 134 of 336 remaining\n"
     ]
    },
    {
     "name": "stdout",
     "output_type": "stream",
     "text": [
      "Found label: 'Ethnic Origin:'\n",
      "Found label: 'Ancestry (Self-Reported):'\n",
      "Found label: 'Religion:'\n",
      "Found label: 'Jewish Ancestry (Self-Reported):'\n"
     ]
    },
    {
     "name": "stderr",
     "output_type": "stream",
     "text": [
      "2024-10-27 15:09:49 - INFO - Scraping profile 135 of 336 remaining\n"
     ]
    },
    {
     "name": "stdout",
     "output_type": "stream",
     "text": [
      "Found label: 'Ethnic Origin:'\n",
      "Found label: 'Ancestry (Self-Reported):'\n",
      "Found label: 'Religion:'\n",
      "Found label: 'Jewish Ancestry (Self-Reported):'\n"
     ]
    },
    {
     "name": "stderr",
     "output_type": "stream",
     "text": [
      "2024-10-27 15:10:30 - INFO - Scraping profile 136 of 336 remaining\n"
     ]
    },
    {
     "name": "stdout",
     "output_type": "stream",
     "text": [
      "Found label: 'Ethnic Origin:'\n",
      "Found label: 'Ancestry (Self-Reported):'\n",
      "Found label: 'Religion:'\n",
      "Found label: 'Jewish Ancestry (Self-Reported):'\n"
     ]
    },
    {
     "name": "stderr",
     "output_type": "stream",
     "text": [
      "2024-10-27 15:11:21 - INFO - Scraping profile 137 of 336 remaining\n"
     ]
    },
    {
     "name": "stdout",
     "output_type": "stream",
     "text": [
      "Found label: 'Ethnic Origin:'\n",
      "Found label: 'Ancestry (Self-Reported):'\n",
      "Found label: 'Religion:'\n",
      "Found label: 'Jewish Ancestry (Self-Reported):'\n"
     ]
    },
    {
     "name": "stderr",
     "output_type": "stream",
     "text": [
      "2024-10-27 15:12:14 - INFO - Scraping profile 138 of 336 remaining\n"
     ]
    },
    {
     "name": "stdout",
     "output_type": "stream",
     "text": [
      "Found label: 'Ethnic Origin:'\n",
      "Found label: 'Ancestry (Self-Reported):'\n",
      "Found label: 'Religion:'\n",
      "Found label: 'Jewish Ancestry (Self-Reported):'\n"
     ]
    },
    {
     "name": "stderr",
     "output_type": "stream",
     "text": [
      "2024-10-27 15:13:10 - INFO - Scraping profile 139 of 336 remaining\n"
     ]
    },
    {
     "name": "stdout",
     "output_type": "stream",
     "text": [
      "Found label: 'Ethnic Origin:'\n",
      "Found label: 'Ancestry (Self-Reported):'\n",
      "Found label: 'Religion:'\n",
      "Found label: 'Jewish Ancestry (Self-Reported):'\n"
     ]
    },
    {
     "name": "stderr",
     "output_type": "stream",
     "text": [
      "2024-10-27 15:13:55 - INFO - Scraping profile 140 of 336 remaining\n"
     ]
    },
    {
     "name": "stdout",
     "output_type": "stream",
     "text": [
      "Found label: 'Ethnic Origin:'\n",
      "Found label: 'Ancestry (Self-Reported):'\n",
      "Found label: 'Religion:'\n",
      "Found label: 'Jewish Ancestry (Self-Reported):'\n"
     ]
    },
    {
     "name": "stderr",
     "output_type": "stream",
     "text": [
      "2024-10-27 15:14:47 - INFO - Scraping profile 141 of 336 remaining\n"
     ]
    },
    {
     "name": "stdout",
     "output_type": "stream",
     "text": [
      "Found label: 'Ethnic Origin:'\n",
      "Found label: 'Ancestry (Self-Reported):'\n",
      "Found label: 'Religion:'\n",
      "Found label: 'Jewish Ancestry (Self-Reported):'\n",
      "Saved progress: 240 profiles\n",
      "Backup created: /Users/cindylinsf/Documents/CCI/THESIS/Msc_Thesis_Project_Files/data/raw/bank1/profiles_bank1_backup_20241027_151447.json\n",
      "Saved progress: 240 profiles collected\n"
     ]
    },
    {
     "name": "stderr",
     "output_type": "stream",
     "text": [
      "2024-10-27 15:15:43 - INFO - Scraping profile 142 of 336 remaining\n"
     ]
    },
    {
     "name": "stdout",
     "output_type": "stream",
     "text": [
      "Found label: 'Ethnic Origin:'\n",
      "Found label: 'Ancestry (Self-Reported):'\n",
      "Found label: 'Religion:'\n",
      "Found label: 'Jewish Ancestry (Self-Reported):'\n"
     ]
    },
    {
     "name": "stderr",
     "output_type": "stream",
     "text": [
      "2024-10-27 15:16:30 - INFO - Scraping profile 143 of 336 remaining\n"
     ]
    },
    {
     "name": "stdout",
     "output_type": "stream",
     "text": [
      "Found label: 'Ethnic Origin:'\n",
      "Found label: 'Ancestry (Self-Reported):'\n",
      "Found label: 'Religion:'\n",
      "Found label: 'Jewish Ancestry (Self-Reported):'\n"
     ]
    },
    {
     "name": "stderr",
     "output_type": "stream",
     "text": [
      "2024-10-27 15:17:20 - INFO - Scraping profile 144 of 336 remaining\n"
     ]
    },
    {
     "name": "stdout",
     "output_type": "stream",
     "text": [
      "Found label: 'Ethnic Origin:'\n",
      "Found label: 'Ancestry (Self-Reported):'\n",
      "Found label: 'Religion:'\n",
      "Found label: 'Jewish Ancestry (Self-Reported):'\n"
     ]
    },
    {
     "name": "stderr",
     "output_type": "stream",
     "text": [
      "2024-10-27 15:18:03 - INFO - Scraping profile 145 of 336 remaining\n"
     ]
    },
    {
     "name": "stdout",
     "output_type": "stream",
     "text": [
      "Found label: 'Ethnic Origin:'\n",
      "Found label: 'Ancestry (Self-Reported):'\n",
      "Found label: 'Religion:'\n",
      "Found label: 'Jewish Ancestry (Self-Reported):'\n"
     ]
    },
    {
     "name": "stderr",
     "output_type": "stream",
     "text": [
      "2024-10-27 15:19:03 - INFO - Scraping profile 146 of 336 remaining\n"
     ]
    },
    {
     "name": "stdout",
     "output_type": "stream",
     "text": [
      "Found label: 'Ethnic Origin:'\n",
      "Found label: 'Ancestry (Self-Reported):'\n",
      "Found label: 'Religion:'\n",
      "Found label: 'Jewish Ancestry (Self-Reported):'\n"
     ]
    },
    {
     "name": "stderr",
     "output_type": "stream",
     "text": [
      "2024-10-27 15:20:00 - INFO - Scraping profile 147 of 336 remaining\n"
     ]
    },
    {
     "name": "stdout",
     "output_type": "stream",
     "text": [
      "Found label: 'Ethnic Origin:'\n",
      "Found label: 'Ancestry (Self-Reported):'\n",
      "Found label: 'Religion:'\n",
      "Found label: 'Jewish Ancestry (Self-Reported):'\n"
     ]
    },
    {
     "name": "stderr",
     "output_type": "stream",
     "text": [
      "2024-10-27 15:20:48 - INFO - Scraping profile 148 of 336 remaining\n"
     ]
    },
    {
     "name": "stdout",
     "output_type": "stream",
     "text": [
      "Found label: 'Ethnic Origin:'\n",
      "Found label: 'Ancestry (Self-Reported):'\n",
      "Found label: 'Religion:'\n",
      "Found label: 'Jewish Ancestry (Self-Reported):'\n"
     ]
    },
    {
     "name": "stderr",
     "output_type": "stream",
     "text": [
      "2024-10-27 15:21:44 - INFO - Scraping profile 149 of 336 remaining\n"
     ]
    },
    {
     "name": "stdout",
     "output_type": "stream",
     "text": [
      "Found label: 'Ethnic Origin:'\n",
      "Found label: 'Ancestry (Self-Reported):'\n",
      "Found label: 'Religion:'\n",
      "Found label: 'Jewish Ancestry (Self-Reported):'\n"
     ]
    },
    {
     "name": "stderr",
     "output_type": "stream",
     "text": [
      "2024-10-27 15:22:30 - INFO - Scraping profile 150 of 336 remaining\n"
     ]
    },
    {
     "name": "stdout",
     "output_type": "stream",
     "text": [
      "Found label: 'Ethnic Origin:'\n",
      "Found label: 'Ancestry (Self-Reported):'\n",
      "Found label: 'Religion:'\n",
      "Found label: 'Jewish Ancestry (Self-Reported):'\n"
     ]
    },
    {
     "name": "stderr",
     "output_type": "stream",
     "text": [
      "2024-10-27 15:23:23 - INFO - Scraping profile 151 of 336 remaining\n",
      "2024-10-27 15:23:23 - INFO - Taking a session break...\n"
     ]
    },
    {
     "name": "stdout",
     "output_type": "stream",
     "text": [
      "Found label: 'Ethnic Origin:'\n",
      "Found label: 'Ancestry (Self-Reported):'\n",
      "Found label: 'Religion:'\n",
      "Found label: 'Jewish Ancestry (Self-Reported):'\n",
      "Saved progress: 250 profiles\n",
      "Backup created: /Users/cindylinsf/Documents/CCI/THESIS/Msc_Thesis_Project_Files/data/raw/bank1/profiles_bank1_backup_20241027_152323.json\n",
      "Saved progress: 250 profiles collected\n"
     ]
    },
    {
     "name": "stderr",
     "output_type": "stream",
     "text": [
      "2024-10-27 15:31:37 - INFO - Scraping profile 152 of 336 remaining\n"
     ]
    },
    {
     "name": "stdout",
     "output_type": "stream",
     "text": [
      "Found label: 'Ethnic Origin:'\n",
      "Found label: 'Ancestry (Self-Reported):'\n",
      "Found label: 'Religion:'\n",
      "Found label: 'Jewish Ancestry (Self-Reported):'\n"
     ]
    },
    {
     "name": "stderr",
     "output_type": "stream",
     "text": [
      "2024-10-27 15:32:25 - INFO - Scraping profile 153 of 336 remaining\n"
     ]
    },
    {
     "name": "stdout",
     "output_type": "stream",
     "text": [
      "Found label: 'Ethnic Origin:'\n",
      "Found label: 'Ancestry (Self-Reported):'\n",
      "Found label: 'Religion:'\n",
      "Found label: 'Jewish Ancestry (Self-Reported):'\n"
     ]
    },
    {
     "name": "stderr",
     "output_type": "stream",
     "text": [
      "2024-10-27 15:33:12 - INFO - Scraping profile 154 of 336 remaining\n"
     ]
    },
    {
     "name": "stdout",
     "output_type": "stream",
     "text": [
      "Found label: 'Ethnic Origin:'\n",
      "Found label: 'Ancestry (Self-Reported):'\n",
      "Found label: 'Religion:'\n",
      "Found label: 'Jewish Ancestry (Self-Reported):'\n"
     ]
    },
    {
     "name": "stderr",
     "output_type": "stream",
     "text": [
      "2024-10-27 15:33:57 - INFO - Scraping profile 155 of 336 remaining\n"
     ]
    },
    {
     "name": "stdout",
     "output_type": "stream",
     "text": [
      "Found label: 'Ethnic Origin:'\n",
      "Found label: 'Ancestry (Self-Reported):'\n",
      "Found label: 'Religion:'\n",
      "Found label: 'Jewish Ancestry (Self-Reported):'\n"
     ]
    },
    {
     "name": "stderr",
     "output_type": "stream",
     "text": [
      "2024-10-27 15:34:36 - INFO - Scraping profile 156 of 336 remaining\n"
     ]
    },
    {
     "name": "stdout",
     "output_type": "stream",
     "text": [
      "Found label: 'Ethnic Origin:'\n",
      "Found label: 'Ancestry (Self-Reported):'\n",
      "Found label: 'Religion:'\n",
      "Found label: 'Jewish Ancestry (Self-Reported):'\n"
     ]
    },
    {
     "name": "stderr",
     "output_type": "stream",
     "text": [
      "2024-10-27 15:35:18 - INFO - Scraping profile 157 of 336 remaining\n"
     ]
    },
    {
     "name": "stdout",
     "output_type": "stream",
     "text": [
      "Found label: 'Ethnic Origin:'\n",
      "Found label: 'Ancestry (Self-Reported):'\n",
      "Found label: 'Religion:'\n",
      "Found label: 'Jewish Ancestry (Self-Reported):'\n"
     ]
    },
    {
     "name": "stderr",
     "output_type": "stream",
     "text": [
      "2024-10-27 15:36:10 - INFO - Scraping profile 158 of 336 remaining\n"
     ]
    },
    {
     "name": "stdout",
     "output_type": "stream",
     "text": [
      "Found label: 'Ethnic Origin:'\n",
      "Found label: 'Ancestry (Self-Reported):'\n",
      "Found label: 'Religion:'\n",
      "Found label: 'Jewish Ancestry (Self-Reported):'\n"
     ]
    },
    {
     "name": "stderr",
     "output_type": "stream",
     "text": [
      "2024-10-27 15:36:59 - INFO - Scraping profile 159 of 336 remaining\n"
     ]
    },
    {
     "name": "stdout",
     "output_type": "stream",
     "text": [
      "Found label: 'Ethnic Origin:'\n",
      "Found label: 'Ancestry (Self-Reported):'\n",
      "Found label: 'Religion:'\n",
      "Found label: 'Jewish Ancestry (Self-Reported):'\n"
     ]
    },
    {
     "name": "stderr",
     "output_type": "stream",
     "text": [
      "2024-10-27 15:37:47 - INFO - Scraping profile 160 of 336 remaining\n"
     ]
    },
    {
     "name": "stdout",
     "output_type": "stream",
     "text": [
      "Found label: 'Ethnic Origin:'\n",
      "Found label: 'Ancestry (Self-Reported):'\n",
      "Found label: 'Religion:'\n",
      "Found label: 'Jewish Ancestry (Self-Reported):'\n"
     ]
    },
    {
     "name": "stderr",
     "output_type": "stream",
     "text": [
      "2024-10-27 15:38:32 - INFO - Scraping profile 161 of 336 remaining\n"
     ]
    },
    {
     "name": "stdout",
     "output_type": "stream",
     "text": [
      "Found label: 'Ethnic Origin:'\n",
      "Found label: 'Ancestry (Self-Reported):'\n",
      "Found label: 'Religion:'\n",
      "Found label: 'Jewish Ancestry (Self-Reported):'\n",
      "Saved progress: 260 profiles\n",
      "Backup created: /Users/cindylinsf/Documents/CCI/THESIS/Msc_Thesis_Project_Files/data/raw/bank1/profiles_bank1_backup_20241027_153832.json\n",
      "Saved progress: 260 profiles collected\n"
     ]
    },
    {
     "name": "stderr",
     "output_type": "stream",
     "text": [
      "2024-10-27 15:39:22 - INFO - Scraping profile 162 of 336 remaining\n"
     ]
    },
    {
     "name": "stdout",
     "output_type": "stream",
     "text": [
      "Found label: 'Ethnic Origin:'\n",
      "Found label: 'Ancestry (Self-Reported):'\n",
      "Found label: 'Religion:'\n",
      "Found label: 'Jewish Ancestry (Self-Reported):'\n"
     ]
    },
    {
     "name": "stderr",
     "output_type": "stream",
     "text": [
      "2024-10-27 15:40:13 - INFO - Scraping profile 163 of 336 remaining\n"
     ]
    },
    {
     "name": "stdout",
     "output_type": "stream",
     "text": [
      "Found label: 'Ethnic Origin:'\n",
      "Found label: 'Ancestry (Self-Reported):'\n",
      "Found label: 'Religion:'\n",
      "Found label: 'Jewish Ancestry (Self-Reported):'\n"
     ]
    },
    {
     "name": "stderr",
     "output_type": "stream",
     "text": [
      "2024-10-27 15:41:10 - INFO - Scraping profile 164 of 336 remaining\n"
     ]
    },
    {
     "name": "stdout",
     "output_type": "stream",
     "text": [
      "Found label: 'Ethnic Origin:'\n",
      "Found label: 'Ancestry (Self-Reported):'\n",
      "Found label: 'Religion:'\n",
      "Found label: 'Jewish Ancestry (Self-Reported):'\n"
     ]
    },
    {
     "name": "stderr",
     "output_type": "stream",
     "text": [
      "2024-10-27 15:42:00 - INFO - Scraping profile 165 of 336 remaining\n"
     ]
    },
    {
     "name": "stdout",
     "output_type": "stream",
     "text": [
      "Found label: 'Ethnic Origin:'\n",
      "Found label: 'Ancestry (Self-Reported):'\n",
      "Found label: 'Religion:'\n",
      "Found label: 'Jewish Ancestry (Self-Reported):'\n"
     ]
    },
    {
     "name": "stderr",
     "output_type": "stream",
     "text": [
      "2024-10-27 15:42:51 - INFO - Scraping profile 166 of 336 remaining\n"
     ]
    },
    {
     "name": "stdout",
     "output_type": "stream",
     "text": [
      "Found label: 'Ethnic Origin:'\n",
      "Found label: 'Ancestry (Self-Reported):'\n",
      "Found label: 'Religion:'\n",
      "Found label: 'Jewish Ancestry (Self-Reported):'\n"
     ]
    },
    {
     "name": "stderr",
     "output_type": "stream",
     "text": [
      "2024-10-27 15:43:45 - INFO - Scraping profile 167 of 336 remaining\n"
     ]
    },
    {
     "name": "stdout",
     "output_type": "stream",
     "text": [
      "Found label: 'Ethnic Origin:'\n",
      "Found label: 'Ancestry (Self-Reported):'\n",
      "Found label: 'Religion:'\n",
      "Found label: 'Jewish Ancestry (Self-Reported):'\n"
     ]
    },
    {
     "name": "stderr",
     "output_type": "stream",
     "text": [
      "2024-10-27 15:44:39 - INFO - Scraping profile 168 of 336 remaining\n"
     ]
    },
    {
     "name": "stdout",
     "output_type": "stream",
     "text": [
      "Found label: 'Ethnic Origin:'\n",
      "Found label: 'Ancestry (Self-Reported):'\n",
      "Found label: 'Religion:'\n",
      "Found label: 'Jewish Ancestry (Self-Reported):'\n"
     ]
    },
    {
     "name": "stderr",
     "output_type": "stream",
     "text": [
      "2024-10-27 15:45:39 - INFO - Scraping profile 169 of 336 remaining\n"
     ]
    },
    {
     "name": "stdout",
     "output_type": "stream",
     "text": [
      "Found label: 'Ethnic Origin:'\n",
      "Found label: 'Ancestry (Self-Reported):'\n",
      "Found label: 'Religion:'\n",
      "Found label: 'Jewish Ancestry (Self-Reported):'\n"
     ]
    },
    {
     "name": "stderr",
     "output_type": "stream",
     "text": [
      "2024-10-27 15:46:26 - INFO - Scraping profile 170 of 336 remaining\n"
     ]
    },
    {
     "name": "stdout",
     "output_type": "stream",
     "text": [
      "Found label: 'Ethnic Origin:'\n",
      "Found label: 'Ancestry (Self-Reported):'\n",
      "Found label: 'Religion:'\n",
      "Found label: 'Jewish Ancestry (Self-Reported):'\n"
     ]
    },
    {
     "name": "stderr",
     "output_type": "stream",
     "text": [
      "2024-10-27 15:47:13 - INFO - Scraping profile 171 of 336 remaining\n"
     ]
    },
    {
     "name": "stdout",
     "output_type": "stream",
     "text": [
      "Found label: 'Ethnic Origin:'\n",
      "Found label: 'Ancestry (Self-Reported):'\n",
      "Found label: 'Religion:'\n",
      "Found label: 'Jewish Ancestry (Self-Reported):'\n",
      "Saved progress: 270 profiles\n",
      "Backup created: /Users/cindylinsf/Documents/CCI/THESIS/Msc_Thesis_Project_Files/data/raw/bank1/profiles_bank1_backup_20241027_154713.json\n",
      "Saved progress: 270 profiles collected\n"
     ]
    },
    {
     "name": "stderr",
     "output_type": "stream",
     "text": [
      "2024-10-27 15:48:00 - INFO - Scraping profile 172 of 336 remaining\n"
     ]
    },
    {
     "name": "stdout",
     "output_type": "stream",
     "text": [
      "Found label: 'Ethnic Origin:'\n",
      "Found label: 'Ancestry (Self-Reported):'\n",
      "Found label: 'Religion:'\n",
      "Found label: 'Jewish Ancestry (Self-Reported):'\n"
     ]
    },
    {
     "name": "stderr",
     "output_type": "stream",
     "text": [
      "2024-10-27 15:48:46 - INFO - Scraping profile 173 of 336 remaining\n"
     ]
    },
    {
     "name": "stdout",
     "output_type": "stream",
     "text": [
      "Found label: 'Ethnic Origin:'\n",
      "Found label: 'Ancestry (Self-Reported):'\n",
      "Found label: 'Religion:'\n",
      "Found label: 'Jewish Ancestry (Self-Reported):'\n"
     ]
    },
    {
     "name": "stderr",
     "output_type": "stream",
     "text": [
      "2024-10-27 15:49:34 - INFO - Scraping profile 174 of 336 remaining\n"
     ]
    },
    {
     "name": "stdout",
     "output_type": "stream",
     "text": [
      "Found label: 'Ethnic Origin:'\n",
      "Found label: 'Ancestry (Self-Reported):'\n",
      "Found label: 'Religion:'\n",
      "Found label: 'Jewish Ancestry (Self-Reported):'\n"
     ]
    },
    {
     "name": "stderr",
     "output_type": "stream",
     "text": [
      "2024-10-27 15:50:26 - INFO - Scraping profile 175 of 336 remaining\n"
     ]
    },
    {
     "name": "stdout",
     "output_type": "stream",
     "text": [
      "Found label: 'Ethnic Origin:'\n",
      "Found label: 'Ancestry (Self-Reported):'\n",
      "Found label: 'Religion:'\n",
      "Found label: 'Jewish Ancestry (Self-Reported):'\n"
     ]
    },
    {
     "name": "stderr",
     "output_type": "stream",
     "text": [
      "2024-10-27 15:51:10 - INFO - Scraping profile 176 of 336 remaining\n"
     ]
    },
    {
     "name": "stdout",
     "output_type": "stream",
     "text": [
      "Found label: 'Ethnic Origin:'\n",
      "Found label: 'Ancestry (Self-Reported):'\n",
      "Found label: 'Religion:'\n",
      "Found label: 'Jewish Ancestry (Self-Reported):'\n"
     ]
    },
    {
     "name": "stderr",
     "output_type": "stream",
     "text": [
      "2024-10-27 15:52:02 - INFO - Scraping profile 177 of 336 remaining\n"
     ]
    },
    {
     "name": "stdout",
     "output_type": "stream",
     "text": [
      "Found label: 'Ethnic Origin:'\n",
      "Found label: 'Ancestry (Self-Reported):'\n",
      "Found label: 'Religion:'\n",
      "Found label: 'Jewish Ancestry (Self-Reported):'\n"
     ]
    },
    {
     "name": "stderr",
     "output_type": "stream",
     "text": [
      "2024-10-27 15:52:49 - INFO - Scraping profile 178 of 336 remaining\n"
     ]
    },
    {
     "name": "stdout",
     "output_type": "stream",
     "text": [
      "Found label: 'Ethnic Origin:'\n",
      "Found label: 'Ancestry (Self-Reported):'\n",
      "Found label: 'Religion:'\n",
      "Found label: 'Jewish Ancestry (Self-Reported):'\n"
     ]
    },
    {
     "name": "stderr",
     "output_type": "stream",
     "text": [
      "2024-10-27 15:53:47 - INFO - Scraping profile 179 of 336 remaining\n"
     ]
    },
    {
     "name": "stdout",
     "output_type": "stream",
     "text": [
      "Found label: 'Ethnic Origin:'\n",
      "Found label: 'Ancestry (Self-Reported):'\n",
      "Found label: 'Religion:'\n",
      "Found label: 'Jewish Ancestry (Self-Reported):'\n"
     ]
    },
    {
     "name": "stderr",
     "output_type": "stream",
     "text": [
      "2024-10-27 15:54:36 - INFO - Scraping profile 180 of 336 remaining\n"
     ]
    },
    {
     "name": "stdout",
     "output_type": "stream",
     "text": [
      "Found label: 'Ethnic Origin:'\n",
      "Found label: 'Ancestry (Self-Reported):'\n",
      "Found label: 'Religion:'\n",
      "Found label: 'Jewish Ancestry (Self-Reported):'\n"
     ]
    },
    {
     "name": "stderr",
     "output_type": "stream",
     "text": [
      "2024-10-27 15:55:31 - INFO - Scraping profile 181 of 336 remaining\n",
      "2024-10-27 15:55:31 - INFO - Taking a session break...\n"
     ]
    },
    {
     "name": "stdout",
     "output_type": "stream",
     "text": [
      "Found label: 'Ethnic Origin:'\n",
      "Found label: 'Ancestry (Self-Reported):'\n",
      "Found label: 'Religion:'\n",
      "Found label: 'Jewish Ancestry (Self-Reported):'\n",
      "Saved progress: 280 profiles\n",
      "Backup created: /Users/cindylinsf/Documents/CCI/THESIS/Msc_Thesis_Project_Files/data/raw/bank1/profiles_bank1_backup_20241027_155531.json\n",
      "Saved progress: 280 profiles collected\n"
     ]
    },
    {
     "name": "stderr",
     "output_type": "stream",
     "text": [
      "2024-10-27 16:04:27 - INFO - Scraping profile 182 of 336 remaining\n"
     ]
    },
    {
     "name": "stdout",
     "output_type": "stream",
     "text": [
      "Found label: 'Ethnic Origin:'\n",
      "Found label: 'Ancestry (Self-Reported):'\n",
      "Found label: 'Religion:'\n",
      "Found label: 'Jewish Ancestry (Self-Reported):'\n"
     ]
    },
    {
     "name": "stderr",
     "output_type": "stream",
     "text": [
      "2024-10-27 16:05:16 - INFO - Scraping profile 183 of 336 remaining\n"
     ]
    },
    {
     "name": "stdout",
     "output_type": "stream",
     "text": [
      "Found label: 'Ethnic Origin:'\n",
      "Found label: 'Ancestry (Self-Reported):'\n",
      "Found label: 'Religion:'\n",
      "Found label: 'Jewish Ancestry (Self-Reported):'\n"
     ]
    },
    {
     "name": "stderr",
     "output_type": "stream",
     "text": [
      "2024-10-27 16:06:04 - INFO - Scraping profile 184 of 336 remaining\n"
     ]
    },
    {
     "name": "stdout",
     "output_type": "stream",
     "text": [
      "Found label: 'Ethnic Origin:'\n",
      "Found label: 'Ancestry (Self-Reported):'\n",
      "Found label: 'Religion:'\n",
      "Found label: 'Jewish Ancestry (Self-Reported):'\n"
     ]
    },
    {
     "name": "stderr",
     "output_type": "stream",
     "text": [
      "2024-10-27 16:06:49 - INFO - Scraping profile 185 of 336 remaining\n"
     ]
    },
    {
     "name": "stdout",
     "output_type": "stream",
     "text": [
      "Found label: 'Ethnic Origin:'\n",
      "Found label: 'Ancestry (Self-Reported):'\n",
      "Found label: 'Religion:'\n",
      "Found label: 'Jewish Ancestry (Self-Reported):'\n"
     ]
    },
    {
     "name": "stderr",
     "output_type": "stream",
     "text": [
      "2024-10-27 16:07:38 - INFO - Scraping profile 186 of 336 remaining\n"
     ]
    },
    {
     "name": "stdout",
     "output_type": "stream",
     "text": [
      "Found label: 'Ethnic Origin:'\n",
      "Found label: 'Ancestry (Self-Reported):'\n",
      "Found label: 'Religion:'\n",
      "Found label: 'Jewish Ancestry (Self-Reported):'\n"
     ]
    },
    {
     "name": "stderr",
     "output_type": "stream",
     "text": [
      "2024-10-27 16:08:28 - INFO - Scraping profile 187 of 336 remaining\n"
     ]
    },
    {
     "name": "stdout",
     "output_type": "stream",
     "text": [
      "Found label: 'Ethnic Origin:'\n",
      "Found label: 'Ancestry (Self-Reported):'\n",
      "Found label: 'Religion:'\n",
      "Found label: 'Jewish Ancestry (Self-Reported):'\n"
     ]
    },
    {
     "name": "stderr",
     "output_type": "stream",
     "text": [
      "2024-10-27 16:09:15 - INFO - Scraping profile 188 of 336 remaining\n"
     ]
    },
    {
     "name": "stdout",
     "output_type": "stream",
     "text": [
      "Found label: 'Ethnic Origin:'\n",
      "Found label: 'Ancestry (Self-Reported):'\n",
      "Found label: 'Religion:'\n",
      "Found label: 'Jewish Ancestry (Self-Reported):'\n"
     ]
    },
    {
     "name": "stderr",
     "output_type": "stream",
     "text": [
      "2024-10-27 16:10:17 - INFO - Scraping profile 189 of 336 remaining\n"
     ]
    },
    {
     "name": "stdout",
     "output_type": "stream",
     "text": [
      "Found label: 'Ethnic Origin:'\n",
      "Found label: 'Ancestry (Self-Reported):'\n",
      "Found label: 'Religion:'\n",
      "Found label: 'Jewish Ancestry (Self-Reported):'\n"
     ]
    },
    {
     "name": "stderr",
     "output_type": "stream",
     "text": [
      "2024-10-27 16:11:05 - INFO - Scraping profile 190 of 336 remaining\n"
     ]
    },
    {
     "name": "stdout",
     "output_type": "stream",
     "text": [
      "Found label: 'Ethnic Origin:'\n",
      "Found label: 'Ancestry (Self-Reported):'\n",
      "Found label: 'Religion:'\n",
      "Found label: 'Jewish Ancestry (Self-Reported):'\n"
     ]
    },
    {
     "name": "stderr",
     "output_type": "stream",
     "text": [
      "2024-10-27 16:11:47 - INFO - Scraping profile 191 of 336 remaining\n"
     ]
    },
    {
     "name": "stdout",
     "output_type": "stream",
     "text": [
      "Found label: 'Ethnic Origin:'\n",
      "Found label: 'Ancestry (Self-Reported):'\n",
      "Found label: 'Religion:'\n",
      "Found label: 'Jewish Ancestry (Self-Reported):'\n",
      "Saved progress: 290 profiles\n",
      "Backup created: /Users/cindylinsf/Documents/CCI/THESIS/Msc_Thesis_Project_Files/data/raw/bank1/profiles_bank1_backup_20241027_161147.json\n",
      "Saved progress: 290 profiles collected\n"
     ]
    },
    {
     "name": "stderr",
     "output_type": "stream",
     "text": [
      "2024-10-27 16:12:45 - INFO - Scraping profile 192 of 336 remaining\n"
     ]
    },
    {
     "name": "stdout",
     "output_type": "stream",
     "text": [
      "Found label: 'Ethnic Origin:'\n",
      "Found label: 'Ancestry (Self-Reported):'\n",
      "Found label: 'Religion:'\n",
      "Found label: 'Jewish Ancestry (Self-Reported):'\n"
     ]
    },
    {
     "name": "stderr",
     "output_type": "stream",
     "text": [
      "2024-10-27 16:13:42 - INFO - Scraping profile 193 of 336 remaining\n"
     ]
    },
    {
     "name": "stdout",
     "output_type": "stream",
     "text": [
      "Found label: 'Ethnic Origin:'\n",
      "Found label: 'Ancestry (Self-Reported):'\n",
      "Found label: 'Religion:'\n",
      "Found label: 'Jewish Ancestry (Self-Reported):'\n"
     ]
    },
    {
     "name": "stderr",
     "output_type": "stream",
     "text": [
      "2024-10-27 16:14:25 - INFO - Scraping profile 194 of 336 remaining\n"
     ]
    },
    {
     "name": "stdout",
     "output_type": "stream",
     "text": [
      "Found label: 'Ethnic Origin:'\n",
      "Found label: 'Ancestry (Self-Reported):'\n",
      "Found label: 'Religion:'\n",
      "Found label: 'Jewish Ancestry (Self-Reported):'\n"
     ]
    },
    {
     "name": "stderr",
     "output_type": "stream",
     "text": [
      "2024-10-27 16:15:17 - INFO - Scraping profile 195 of 336 remaining\n"
     ]
    },
    {
     "name": "stdout",
     "output_type": "stream",
     "text": [
      "Found label: 'Ethnic Origin:'\n",
      "Found label: 'Ancestry (Self-Reported):'\n",
      "Found label: 'Religion:'\n",
      "Found label: 'Jewish Ancestry (Self-Reported):'\n"
     ]
    },
    {
     "name": "stderr",
     "output_type": "stream",
     "text": [
      "2024-10-27 16:16:09 - INFO - Scraping profile 196 of 336 remaining\n"
     ]
    },
    {
     "name": "stdout",
     "output_type": "stream",
     "text": [
      "Found label: 'Ethnic Origin:'\n",
      "Found label: 'Ancestry (Self-Reported):'\n",
      "Found label: 'Religion:'\n",
      "Found label: 'Jewish Ancestry (Self-Reported):'\n"
     ]
    },
    {
     "name": "stderr",
     "output_type": "stream",
     "text": [
      "2024-10-27 16:16:54 - INFO - Scraping profile 197 of 336 remaining\n"
     ]
    },
    {
     "name": "stdout",
     "output_type": "stream",
     "text": [
      "Found label: 'Ethnic Origin:'\n",
      "Found label: 'Ancestry (Self-Reported):'\n",
      "Found label: 'Religion:'\n",
      "Found label: 'Jewish Ancestry (Self-Reported):'\n"
     ]
    },
    {
     "name": "stderr",
     "output_type": "stream",
     "text": [
      "2024-10-27 16:17:37 - INFO - Scraping profile 198 of 336 remaining\n"
     ]
    },
    {
     "name": "stdout",
     "output_type": "stream",
     "text": [
      "Found label: 'Ethnic Origin:'\n",
      "Found label: 'Ancestry (Self-Reported):'\n",
      "Found label: 'Religion:'\n",
      "Found label: 'Jewish Ancestry (Self-Reported):'\n"
     ]
    },
    {
     "name": "stderr",
     "output_type": "stream",
     "text": [
      "2024-10-27 16:18:31 - INFO - Scraping profile 199 of 336 remaining\n"
     ]
    },
    {
     "name": "stdout",
     "output_type": "stream",
     "text": [
      "Found label: 'Ethnic Origin:'\n",
      "Found label: 'Ancestry (Self-Reported):'\n",
      "Found label: 'Religion:'\n",
      "Found label: 'Jewish Ancestry (Self-Reported):'\n"
     ]
    },
    {
     "name": "stderr",
     "output_type": "stream",
     "text": [
      "2024-10-27 16:19:22 - INFO - Scraping profile 200 of 336 remaining\n"
     ]
    },
    {
     "name": "stdout",
     "output_type": "stream",
     "text": [
      "Found label: 'Ethnic Origin:'\n",
      "Found label: 'Ancestry (Self-Reported):'\n",
      "Found label: 'Religion:'\n",
      "Found label: 'Jewish Ancestry (Self-Reported):'\n"
     ]
    },
    {
     "name": "stderr",
     "output_type": "stream",
     "text": [
      "2024-10-27 16:20:12 - INFO - Scraping profile 201 of 336 remaining\n"
     ]
    },
    {
     "name": "stdout",
     "output_type": "stream",
     "text": [
      "Found label: 'Ethnic Origin:'\n",
      "Found label: 'Ancestry (Self-Reported):'\n",
      "Found label: 'Religion:'\n",
      "Found label: 'Jewish Ancestry (Self-Reported):'\n",
      "Saved progress: 300 profiles\n",
      "Backup created: /Users/cindylinsf/Documents/CCI/THESIS/Msc_Thesis_Project_Files/data/raw/bank1/profiles_bank1_backup_20241027_162012.json\n",
      "Saved progress: 300 profiles collected\n"
     ]
    },
    {
     "name": "stderr",
     "output_type": "stream",
     "text": [
      "2024-10-27 16:20:58 - INFO - Scraping profile 202 of 336 remaining\n"
     ]
    },
    {
     "name": "stdout",
     "output_type": "stream",
     "text": [
      "Found label: 'Ethnic Origin:'\n",
      "Found label: 'Ancestry (Self-Reported):'\n",
      "Found label: 'Religion:'\n",
      "Found label: 'Jewish Ancestry (Self-Reported):'\n"
     ]
    },
    {
     "name": "stderr",
     "output_type": "stream",
     "text": [
      "2024-10-27 16:21:47 - INFO - Scraping profile 203 of 336 remaining\n"
     ]
    },
    {
     "name": "stdout",
     "output_type": "stream",
     "text": [
      "Found label: 'Ethnic Origin:'\n",
      "Found label: 'Ancestry (Self-Reported):'\n",
      "Found label: 'Religion:'\n",
      "Found label: 'Jewish Ancestry (Self-Reported):'\n"
     ]
    },
    {
     "name": "stderr",
     "output_type": "stream",
     "text": [
      "2024-10-27 16:22:35 - INFO - Scraping profile 204 of 336 remaining\n"
     ]
    },
    {
     "name": "stdout",
     "output_type": "stream",
     "text": [
      "Found label: 'Ethnic Origin:'\n",
      "Found label: 'Ancestry (Self-Reported):'\n",
      "Found label: 'Religion:'\n",
      "Found label: 'Jewish Ancestry (Self-Reported):'\n"
     ]
    },
    {
     "name": "stderr",
     "output_type": "stream",
     "text": [
      "2024-10-27 16:23:25 - INFO - Scraping profile 205 of 336 remaining\n"
     ]
    },
    {
     "name": "stdout",
     "output_type": "stream",
     "text": [
      "Found label: 'Ethnic Origin:'\n",
      "Found label: 'Ancestry (Self-Reported):'\n",
      "Found label: 'Religion:'\n",
      "Found label: 'Jewish Ancestry (Self-Reported):'\n"
     ]
    },
    {
     "name": "stderr",
     "output_type": "stream",
     "text": [
      "2024-10-27 16:24:17 - INFO - Scraping profile 206 of 336 remaining\n"
     ]
    },
    {
     "name": "stdout",
     "output_type": "stream",
     "text": [
      "Found label: 'Ethnic Origin:'\n",
      "Found label: 'Ancestry (Self-Reported):'\n",
      "Found label: 'Religion:'\n",
      "Found label: 'Jewish Ancestry (Self-Reported):'\n"
     ]
    },
    {
     "name": "stderr",
     "output_type": "stream",
     "text": [
      "2024-10-27 16:25:03 - INFO - Scraping profile 207 of 336 remaining\n"
     ]
    },
    {
     "name": "stdout",
     "output_type": "stream",
     "text": [
      "Found label: 'Ethnic Origin:'\n",
      "Found label: 'Ancestry (Self-Reported):'\n",
      "Found label: 'Religion:'\n",
      "Found label: 'Jewish Ancestry (Self-Reported):'\n"
     ]
    },
    {
     "name": "stderr",
     "output_type": "stream",
     "text": [
      "2024-10-27 16:25:16 - ERROR - Error scraping profile [ANONYMIZED_URL] Message: \n",
      "Stacktrace:\n",
      "0   chromedriver                        0x0000000102783634 cxxbridge1$str$ptr + 3645404\n",
      "1   chromedriver                        0x000000010277be94 cxxbridge1$str$ptr + 3614780\n",
      "2   chromedriver                        0x00000001021e8104 cxxbridge1$string$len + 88416\n",
      "3   chromedriver                        0x000000010222a364 cxxbridge1$string$len + 359360\n",
      "4   chromedriver                        0x0000000102263bd0 cxxbridge1$string$len + 594988\n",
      "5   chromedriver                        0x000000010221ef54 cxxbridge1$string$len + 313264\n",
      "6   chromedriver                        0x000000010221fba4 cxxbridge1$string$len + 316416\n",
      "7   chromedriver                        0x000000010274e1d4 cxxbridge1$str$ptr + 3427196\n",
      "8   chromedriver                        0x0000000102751518 cxxbridge1$str$ptr + 3440320\n",
      "9   chromedriver                        0x00000001027355f8 cxxbridge1$str$ptr + 3325856\n",
      "10  chromedriver                        0x0000000102751ddc cxxbridge1$str$ptr + 3442564\n",
      "11  chromedriver                        0x000000010272687c cxxbridge1$str$ptr + 3265060\n",
      "12  chromedriver                        0x000000010276c884 cxxbridge1$str$ptr + 3551788\n",
      "13  chromedriver                        0x000000010276ca00 cxxbridge1$str$ptr + 3552168\n",
      "14  chromedriver                        0x000000010277bb2c cxxbridge1$str$ptr + 3613908\n",
      "15  libsystem_pthread.dylib             0x00000001805a6f94 _pthread_start + 136\n",
      "16  libsystem_pthread.dylib             0x00000001805a1d34 thread_start + 8\n",
      "\n",
      "2024-10-27 16:25:16 - INFO - Scraping profile 208 of 336 remaining\n",
      "2024-10-27 16:26:05 - INFO - Scraping profile 209 of 336 remaining\n"
     ]
    },
    {
     "name": "stdout",
     "output_type": "stream",
     "text": [
      "Found label: 'Ethnic Origin:'\n",
      "Found label: 'Ancestry (Self-Reported):'\n",
      "Found label: 'Religion:'\n",
      "Found label: 'Jewish Ancestry (Self-Reported):'\n"
     ]
    },
    {
     "name": "stderr",
     "output_type": "stream",
     "text": [
      "2024-10-27 16:26:56 - INFO - Scraping profile 210 of 336 remaining\n"
     ]
    },
    {
     "name": "stdout",
     "output_type": "stream",
     "text": [
      "Found label: 'Ethnic Origin:'\n",
      "Found label: 'Ancestry (Self-Reported):'\n",
      "Found label: 'Religion:'\n",
      "Found label: 'Jewish Ancestry (Self-Reported):'\n"
     ]
    },
    {
     "name": "stderr",
     "output_type": "stream",
     "text": [
      "2024-10-27 16:27:49 - INFO - Scraping profile 211 of 336 remaining\n"
     ]
    },
    {
     "name": "stdout",
     "output_type": "stream",
     "text": [
      "Found label: 'Ethnic Origin:'\n",
      "Found label: 'Ancestry (Self-Reported):'\n",
      "Found label: 'Religion:'\n",
      "Found label: 'Jewish Ancestry (Self-Reported):'\n"
     ]
    },
    {
     "name": "stderr",
     "output_type": "stream",
     "text": [
      "2024-10-27 16:28:36 - INFO - Scraping profile 212 of 336 remaining\n",
      "2024-10-27 16:28:36 - INFO - Taking a session break...\n"
     ]
    },
    {
     "name": "stdout",
     "output_type": "stream",
     "text": [
      "Found label: 'Ethnic Origin:'\n",
      "Found label: 'Ancestry (Self-Reported):'\n",
      "Found label: 'Religion:'\n",
      "Found label: 'Jewish Ancestry (Self-Reported):'\n",
      "Saved progress: 310 profiles\n",
      "Backup created: /Users/cindylinsf/Documents/CCI/THESIS/Msc_Thesis_Project_Files/data/raw/bank1/profiles_bank1_backup_20241027_162836.json\n",
      "Saved progress: 310 profiles collected\n"
     ]
    },
    {
     "name": "stderr",
     "output_type": "stream",
     "text": [
      "2024-10-27 16:36:52 - INFO - Scraping profile 213 of 336 remaining\n"
     ]
    },
    {
     "name": "stdout",
     "output_type": "stream",
     "text": [
      "Found label: 'Ethnic Origin:'\n",
      "Found label: 'Ancestry (Self-Reported):'\n",
      "Found label: 'Religion:'\n",
      "Found label: 'Jewish Ancestry (Self-Reported):'\n"
     ]
    },
    {
     "name": "stderr",
     "output_type": "stream",
     "text": [
      "2024-10-27 16:37:52 - INFO - Scraping profile 214 of 336 remaining\n"
     ]
    },
    {
     "name": "stdout",
     "output_type": "stream",
     "text": [
      "Found label: 'Ethnic Origin:'\n",
      "Found label: 'Ancestry (Self-Reported):'\n",
      "Found label: 'Religion:'\n",
      "Found label: 'Jewish Ancestry (Self-Reported):'\n"
     ]
    },
    {
     "name": "stderr",
     "output_type": "stream",
     "text": [
      "2024-10-27 16:38:43 - INFO - Scraping profile 215 of 336 remaining\n"
     ]
    },
    {
     "name": "stdout",
     "output_type": "stream",
     "text": [
      "Found label: 'Ethnic Origin:'\n",
      "Found label: 'Ancestry (Self-Reported):'\n",
      "Found label: 'Religion:'\n",
      "Found label: 'Jewish Ancestry (Self-Reported):'\n"
     ]
    },
    {
     "name": "stderr",
     "output_type": "stream",
     "text": [
      "2024-10-27 16:39:42 - INFO - Scraping profile 216 of 336 remaining\n"
     ]
    },
    {
     "name": "stdout",
     "output_type": "stream",
     "text": [
      "Found label: 'Ethnic Origin:'\n",
      "Found label: 'Ancestry (Self-Reported):'\n",
      "Found label: 'Religion:'\n",
      "Found label: 'Jewish Ancestry (Self-Reported):'\n"
     ]
    },
    {
     "name": "stderr",
     "output_type": "stream",
     "text": [
      "2024-10-27 16:40:35 - INFO - Scraping profile 217 of 336 remaining\n"
     ]
    },
    {
     "name": "stdout",
     "output_type": "stream",
     "text": [
      "Found label: 'Ethnic Origin:'\n",
      "Found label: 'Ancestry (Self-Reported):'\n",
      "Found label: 'Religion:'\n",
      "Found label: 'Jewish Ancestry (Self-Reported):'\n"
     ]
    },
    {
     "name": "stderr",
     "output_type": "stream",
     "text": [
      "2024-10-27 16:41:21 - INFO - Scraping profile 218 of 336 remaining\n"
     ]
    },
    {
     "name": "stdout",
     "output_type": "stream",
     "text": [
      "Found label: 'Ethnic Origin:'\n",
      "Found label: 'Ancestry (Self-Reported):'\n",
      "Found label: 'Religion:'\n",
      "Found label: 'Jewish Ancestry (Self-Reported):'\n"
     ]
    },
    {
     "name": "stderr",
     "output_type": "stream",
     "text": [
      "2024-10-27 16:42:13 - INFO - Scraping profile 219 of 336 remaining\n"
     ]
    },
    {
     "name": "stdout",
     "output_type": "stream",
     "text": [
      "Found label: 'Ethnic Origin:'\n",
      "Found label: 'Ancestry (Self-Reported):'\n",
      "Found label: 'Religion:'\n",
      "Found label: 'Jewish Ancestry (Self-Reported):'\n"
     ]
    },
    {
     "name": "stderr",
     "output_type": "stream",
     "text": [
      "2024-10-27 16:43:01 - INFO - Scraping profile 220 of 336 remaining\n"
     ]
    },
    {
     "name": "stdout",
     "output_type": "stream",
     "text": [
      "Found label: 'Ethnic Origin:'\n",
      "Found label: 'Ancestry (Self-Reported):'\n",
      "Found label: 'Religion:'\n",
      "Found label: 'Jewish Ancestry (Self-Reported):'\n"
     ]
    },
    {
     "name": "stderr",
     "output_type": "stream",
     "text": [
      "2024-10-27 16:43:49 - INFO - Scraping profile 221 of 336 remaining\n"
     ]
    },
    {
     "name": "stdout",
     "output_type": "stream",
     "text": [
      "Found label: 'Ethnic Origin:'\n",
      "Found label: 'Ancestry (Self-Reported):'\n",
      "Found label: 'Religion:'\n",
      "Found label: 'Jewish Ancestry (Self-Reported):'\n"
     ]
    },
    {
     "name": "stderr",
     "output_type": "stream",
     "text": [
      "2024-10-27 16:44:43 - INFO - Scraping profile 222 of 336 remaining\n"
     ]
    },
    {
     "name": "stdout",
     "output_type": "stream",
     "text": [
      "Found label: 'Ethnic Origin:'\n",
      "Found label: 'Ancestry (Self-Reported):'\n",
      "Found label: 'Religion:'\n",
      "Found label: 'Jewish Ancestry (Self-Reported):'\n",
      "Saved progress: 320 profiles\n",
      "Backup created: /Users/cindylinsf/Documents/CCI/THESIS/Msc_Thesis_Project_Files/data/raw/bank1/profiles_bank1_backup_20241027_164443.json\n",
      "Saved progress: 320 profiles collected\n"
     ]
    },
    {
     "name": "stderr",
     "output_type": "stream",
     "text": [
      "2024-10-27 16:45:33 - INFO - Scraping profile 223 of 336 remaining\n"
     ]
    },
    {
     "name": "stdout",
     "output_type": "stream",
     "text": [
      "Found label: 'Ethnic Origin:'\n",
      "Found label: 'Ancestry (Self-Reported):'\n",
      "Found label: 'Religion:'\n",
      "Found label: 'Jewish Ancestry (Self-Reported):'\n"
     ]
    },
    {
     "name": "stderr",
     "output_type": "stream",
     "text": [
      "2024-10-27 16:46:19 - INFO - Scraping profile 224 of 336 remaining\n"
     ]
    },
    {
     "name": "stdout",
     "output_type": "stream",
     "text": [
      "Found label: 'Ethnic Origin:'\n",
      "Found label: 'Ancestry (Self-Reported):'\n",
      "Found label: 'Religion:'\n",
      "Found label: 'Jewish Ancestry (Self-Reported):'\n"
     ]
    },
    {
     "name": "stderr",
     "output_type": "stream",
     "text": [
      "2024-10-27 16:47:13 - INFO - Scraping profile 225 of 336 remaining\n"
     ]
    },
    {
     "name": "stdout",
     "output_type": "stream",
     "text": [
      "Found label: 'Ethnic Origin:'\n",
      "Found label: 'Ancestry (Self-Reported):'\n",
      "Found label: 'Religion:'\n",
      "Found label: 'Jewish Ancestry (Self-Reported):'\n"
     ]
    },
    {
     "name": "stderr",
     "output_type": "stream",
     "text": [
      "2024-10-27 16:48:04 - INFO - Scraping profile 226 of 336 remaining\n"
     ]
    },
    {
     "name": "stdout",
     "output_type": "stream",
     "text": [
      "Found label: 'Ethnic Origin:'\n",
      "Found label: 'Ancestry (Self-Reported):'\n",
      "Found label: 'Religion:'\n",
      "Found label: 'Jewish Ancestry (Self-Reported):'\n"
     ]
    },
    {
     "name": "stderr",
     "output_type": "stream",
     "text": [
      "2024-10-27 16:49:03 - INFO - Scraping profile 227 of 336 remaining\n"
     ]
    },
    {
     "name": "stdout",
     "output_type": "stream",
     "text": [
      "Found label: 'Ethnic Origin:'\n",
      "Found label: 'Ancestry (Self-Reported):'\n",
      "Found label: 'Religion:'\n",
      "Found label: 'Jewish Ancestry (Self-Reported):'\n"
     ]
    },
    {
     "name": "stderr",
     "output_type": "stream",
     "text": [
      "2024-10-27 16:49:50 - INFO - Scraping profile 228 of 336 remaining\n"
     ]
    },
    {
     "name": "stdout",
     "output_type": "stream",
     "text": [
      "Found label: 'Ethnic Origin:'\n",
      "Found label: 'Ancestry (Self-Reported):'\n",
      "Found label: 'Religion:'\n",
      "Found label: 'Jewish Ancestry (Self-Reported):'\n"
     ]
    },
    {
     "name": "stderr",
     "output_type": "stream",
     "text": [
      "2024-10-27 16:50:36 - INFO - Scraping profile 229 of 336 remaining\n"
     ]
    },
    {
     "name": "stdout",
     "output_type": "stream",
     "text": [
      "Found label: 'Ethnic Origin:'\n",
      "Found label: 'Ancestry (Self-Reported):'\n",
      "Found label: 'Religion:'\n",
      "Found label: 'Jewish Ancestry (Self-Reported):'\n"
     ]
    },
    {
     "name": "stderr",
     "output_type": "stream",
     "text": [
      "2024-10-27 16:51:27 - INFO - Scraping profile 230 of 336 remaining\n"
     ]
    },
    {
     "name": "stdout",
     "output_type": "stream",
     "text": [
      "Found label: 'Ethnic Origin:'\n",
      "Found label: 'Ancestry (Self-Reported):'\n",
      "Found label: 'Religion:'\n",
      "Found label: 'Jewish Ancestry (Self-Reported):'\n"
     ]
    },
    {
     "name": "stderr",
     "output_type": "stream",
     "text": [
      "2024-10-27 16:52:17 - INFO - Scraping profile 231 of 336 remaining\n"
     ]
    },
    {
     "name": "stdout",
     "output_type": "stream",
     "text": [
      "Found label: 'Ethnic Origin:'\n",
      "Found label: 'Ancestry (Self-Reported):'\n",
      "Found label: 'Religion:'\n",
      "Found label: 'Jewish Ancestry (Self-Reported):'\n"
     ]
    },
    {
     "name": "stderr",
     "output_type": "stream",
     "text": [
      "2024-10-27 16:53:05 - INFO - Scraping profile 232 of 336 remaining\n"
     ]
    },
    {
     "name": "stdout",
     "output_type": "stream",
     "text": [
      "Found label: 'Ethnic Origin:'\n",
      "Found label: 'Ancestry (Self-Reported):'\n",
      "Found label: 'Religion:'\n",
      "Found label: 'Jewish Ancestry (Self-Reported):'\n",
      "Saved progress: 330 profiles\n",
      "Backup created: /Users/cindylinsf/Documents/CCI/THESIS/Msc_Thesis_Project_Files/data/raw/bank1/profiles_bank1_backup_20241027_165305.json\n",
      "Saved progress: 330 profiles collected\n"
     ]
    },
    {
     "name": "stderr",
     "output_type": "stream",
     "text": [
      "2024-10-27 16:53:56 - INFO - Scraping profile 233 of 336 remaining\n"
     ]
    },
    {
     "name": "stdout",
     "output_type": "stream",
     "text": [
      "Found label: 'Ethnic Origin:'\n",
      "Found label: 'Ancestry (Self-Reported):'\n",
      "Found label: 'Religion:'\n",
      "Found label: 'Jewish Ancestry (Self-Reported):'\n"
     ]
    },
    {
     "name": "stderr",
     "output_type": "stream",
     "text": [
      "2024-10-27 16:54:54 - INFO - Scraping profile 234 of 336 remaining\n"
     ]
    },
    {
     "name": "stdout",
     "output_type": "stream",
     "text": [
      "Found label: 'Ethnic Origin:'\n",
      "Found label: 'Ancestry (Self-Reported):'\n",
      "Found label: 'Religion:'\n",
      "Found label: 'Jewish Ancestry (Self-Reported):'\n"
     ]
    },
    {
     "name": "stderr",
     "output_type": "stream",
     "text": [
      "2024-10-27 16:55:38 - INFO - Scraping profile 235 of 336 remaining\n"
     ]
    },
    {
     "name": "stdout",
     "output_type": "stream",
     "text": [
      "Found label: 'Ethnic Origin:'\n",
      "Found label: 'Ancestry (Self-Reported):'\n",
      "Found label: 'Religion:'\n",
      "Found label: 'Jewish Ancestry (Self-Reported):'\n"
     ]
    },
    {
     "name": "stderr",
     "output_type": "stream",
     "text": [
      "2024-10-27 16:56:28 - INFO - Scraping profile 236 of 336 remaining\n"
     ]
    },
    {
     "name": "stdout",
     "output_type": "stream",
     "text": [
      "Found label: 'Ethnic Origin:'\n",
      "Found label: 'Ancestry (Self-Reported):'\n",
      "Found label: 'Religion:'\n",
      "Found label: 'Jewish Ancestry (Self-Reported):'\n"
     ]
    },
    {
     "name": "stderr",
     "output_type": "stream",
     "text": [
      "2024-10-27 16:57:17 - INFO - Scraping profile 237 of 336 remaining\n"
     ]
    },
    {
     "name": "stdout",
     "output_type": "stream",
     "text": [
      "Found label: 'Ethnic Origin:'\n",
      "Found label: 'Ancestry (Self-Reported):'\n",
      "Found label: 'Religion:'\n",
      "Found label: 'Jewish Ancestry (Self-Reported):'\n"
     ]
    },
    {
     "name": "stderr",
     "output_type": "stream",
     "text": [
      "2024-10-27 16:58:03 - INFO - Scraping profile 238 of 336 remaining\n"
     ]
    },
    {
     "name": "stdout",
     "output_type": "stream",
     "text": [
      "Found label: 'Ethnic Origin:'\n",
      "Found label: 'Ancestry (Self-Reported):'\n",
      "Found label: 'Religion:'\n",
      "Found label: 'Jewish Ancestry (Self-Reported):'\n"
     ]
    },
    {
     "name": "stderr",
     "output_type": "stream",
     "text": [
      "2024-10-27 16:58:59 - INFO - Scraping profile 239 of 336 remaining\n"
     ]
    },
    {
     "name": "stdout",
     "output_type": "stream",
     "text": [
      "Found label: 'Ethnic Origin:'\n",
      "Found label: 'Ancestry (Self-Reported):'\n",
      "Found label: 'Religion:'\n",
      "Found label: 'Jewish Ancestry (Self-Reported):'\n"
     ]
    },
    {
     "name": "stderr",
     "output_type": "stream",
     "text": [
      "2024-10-27 16:59:58 - INFO - Scraping profile 240 of 336 remaining\n"
     ]
    },
    {
     "name": "stdout",
     "output_type": "stream",
     "text": [
      "Found label: 'Ethnic Origin:'\n",
      "Found label: 'Ancestry (Self-Reported):'\n",
      "Found label: 'Religion:'\n",
      "Found label: 'Jewish Ancestry (Self-Reported):'\n"
     ]
    },
    {
     "name": "stderr",
     "output_type": "stream",
     "text": [
      "2024-10-27 17:00:47 - INFO - Scraping profile 241 of 336 remaining\n"
     ]
    },
    {
     "name": "stdout",
     "output_type": "stream",
     "text": [
      "Found label: 'Ethnic Origin:'\n",
      "Found label: 'Ancestry (Self-Reported):'\n",
      "Found label: 'Religion:'\n",
      "Found label: 'Jewish Ancestry (Self-Reported):'\n"
     ]
    },
    {
     "name": "stderr",
     "output_type": "stream",
     "text": [
      "2024-10-27 17:01:40 - INFO - Scraping profile 242 of 336 remaining\n",
      "2024-10-27 17:01:40 - INFO - Taking a session break...\n"
     ]
    },
    {
     "name": "stdout",
     "output_type": "stream",
     "text": [
      "Found label: 'Ethnic Origin:'\n",
      "Found label: 'Ancestry (Self-Reported):'\n",
      "Found label: 'Religion:'\n",
      "Found label: 'Jewish Ancestry (Self-Reported):'\n",
      "Saved progress: 340 profiles\n",
      "Backup created: /Users/cindylinsf/Documents/CCI/THESIS/Msc_Thesis_Project_Files/data/raw/bank1/profiles_bank1_backup_20241027_170140.json\n",
      "Saved progress: 340 profiles collected\n"
     ]
    },
    {
     "name": "stderr",
     "output_type": "stream",
     "text": [
      "2024-10-27 17:11:22 - INFO - Scraping profile 243 of 336 remaining\n"
     ]
    },
    {
     "name": "stdout",
     "output_type": "stream",
     "text": [
      "Found label: 'Ethnic Origin:'\n",
      "Found label: 'Ancestry (Self-Reported):'\n",
      "Found label: 'Religion:'\n",
      "Found label: 'Jewish Ancestry (Self-Reported):'\n"
     ]
    },
    {
     "name": "stderr",
     "output_type": "stream",
     "text": [
      "2024-10-27 17:12:20 - INFO - Scraping profile 244 of 336 remaining\n"
     ]
    },
    {
     "name": "stdout",
     "output_type": "stream",
     "text": [
      "Found label: 'Ethnic Origin:'\n",
      "Found label: 'Ancestry (Self-Reported):'\n",
      "Found label: 'Religion:'\n",
      "Found label: 'Jewish Ancestry (Self-Reported):'\n"
     ]
    },
    {
     "name": "stderr",
     "output_type": "stream",
     "text": [
      "2024-10-27 17:13:27 - INFO - Scraping profile 245 of 336 remaining\n"
     ]
    },
    {
     "name": "stdout",
     "output_type": "stream",
     "text": [
      "Found label: 'Ethnic Origin:'\n",
      "Found label: 'Ancestry (Self-Reported):'\n",
      "Found label: 'Religion:'\n",
      "Found label: 'Jewish Ancestry (Self-Reported):'\n"
     ]
    },
    {
     "name": "stderr",
     "output_type": "stream",
     "text": [
      "2024-10-27 17:14:30 - INFO - Scraping profile 246 of 336 remaining\n"
     ]
    },
    {
     "name": "stdout",
     "output_type": "stream",
     "text": [
      "Found label: 'Ethnic Origin:'\n",
      "Found label: 'Ancestry (Self-Reported):'\n",
      "Found label: 'Religion:'\n",
      "Found label: 'Jewish Ancestry (Self-Reported):'\n"
     ]
    },
    {
     "name": "stderr",
     "output_type": "stream",
     "text": [
      "2024-10-27 17:15:20 - INFO - Scraping profile 247 of 336 remaining\n"
     ]
    },
    {
     "name": "stdout",
     "output_type": "stream",
     "text": [
      "Found label: 'Ethnic Origin:'\n",
      "Found label: 'Ancestry (Self-Reported):'\n",
      "Found label: 'Religion:'\n",
      "Found label: 'Jewish Ancestry (Self-Reported):'\n"
     ]
    },
    {
     "name": "stderr",
     "output_type": "stream",
     "text": [
      "2024-10-27 17:16:07 - INFO - Scraping profile 248 of 336 remaining\n"
     ]
    },
    {
     "name": "stdout",
     "output_type": "stream",
     "text": [
      "Found label: 'Ethnic Origin:'\n",
      "Found label: 'Ancestry (Self-Reported):'\n",
      "Found label: 'Religion:'\n",
      "Found label: 'Jewish Ancestry (Self-Reported):'\n"
     ]
    },
    {
     "name": "stderr",
     "output_type": "stream",
     "text": [
      "2024-10-27 17:17:02 - INFO - Scraping profile 249 of 336 remaining\n"
     ]
    },
    {
     "name": "stdout",
     "output_type": "stream",
     "text": [
      "Found label: 'Ethnic Origin:'\n",
      "Found label: 'Ancestry (Self-Reported):'\n",
      "Found label: 'Religion:'\n",
      "Found label: 'Jewish Ancestry (Self-Reported):'\n"
     ]
    },
    {
     "name": "stderr",
     "output_type": "stream",
     "text": [
      "2024-10-27 17:17:43 - INFO - Scraping profile 250 of 336 remaining\n"
     ]
    },
    {
     "name": "stdout",
     "output_type": "stream",
     "text": [
      "Found label: 'Ethnic Origin:'\n",
      "Found label: 'Ancestry (Self-Reported):'\n",
      "Found label: 'Religion:'\n",
      "Found label: 'Jewish Ancestry (Self-Reported):'\n"
     ]
    },
    {
     "name": "stderr",
     "output_type": "stream",
     "text": [
      "2024-10-27 17:18:40 - INFO - Scraping profile 251 of 336 remaining\n"
     ]
    },
    {
     "name": "stdout",
     "output_type": "stream",
     "text": [
      "Found label: 'Ethnic Origin:'\n",
      "Found label: 'Ancestry (Self-Reported):'\n",
      "Found label: 'Religion:'\n",
      "Found label: 'Jewish Ancestry (Self-Reported):'\n"
     ]
    },
    {
     "name": "stderr",
     "output_type": "stream",
     "text": [
      "2024-10-27 17:19:30 - INFO - Scraping profile 252 of 336 remaining\n"
     ]
    },
    {
     "name": "stdout",
     "output_type": "stream",
     "text": [
      "Found label: 'Ethnic Origin:'\n",
      "Found label: 'Ancestry (Self-Reported):'\n",
      "Found label: 'Religion:'\n",
      "Found label: 'Jewish Ancestry (Self-Reported):'\n",
      "Saved progress: 350 profiles\n",
      "Backup created: /Users/cindylinsf/Documents/CCI/THESIS/Msc_Thesis_Project_Files/data/raw/bank1/profiles_bank1_backup_20241027_171930.json\n",
      "Saved progress: 350 profiles collected\n"
     ]
    },
    {
     "name": "stderr",
     "output_type": "stream",
     "text": [
      "2024-10-27 17:20:11 - INFO - Scraping profile 253 of 336 remaining\n"
     ]
    },
    {
     "name": "stdout",
     "output_type": "stream",
     "text": [
      "Found label: 'Ethnic Origin:'\n",
      "Found label: 'Ancestry (Self-Reported):'\n",
      "Found label: 'Religion:'\n",
      "Found label: 'Jewish Ancestry (Self-Reported):'\n"
     ]
    },
    {
     "name": "stderr",
     "output_type": "stream",
     "text": [
      "2024-10-27 17:21:05 - INFO - Scraping profile 254 of 336 remaining\n"
     ]
    },
    {
     "name": "stdout",
     "output_type": "stream",
     "text": [
      "Found label: 'Ethnic Origin:'\n",
      "Found label: 'Ancestry (Self-Reported):'\n",
      "Found label: 'Religion:'\n",
      "Found label: 'Jewish Ancestry (Self-Reported):'\n"
     ]
    },
    {
     "name": "stderr",
     "output_type": "stream",
     "text": [
      "2024-10-27 17:21:53 - INFO - Scraping profile 255 of 336 remaining\n"
     ]
    },
    {
     "name": "stdout",
     "output_type": "stream",
     "text": [
      "Found label: 'Ethnic Origin:'\n",
      "Found label: 'Ancestry (Self-Reported):'\n",
      "Found label: 'Religion:'\n",
      "Found label: 'Jewish Ancestry (Self-Reported):'\n"
     ]
    },
    {
     "name": "stderr",
     "output_type": "stream",
     "text": [
      "2024-10-27 17:22:43 - INFO - Scraping profile 256 of 336 remaining\n"
     ]
    },
    {
     "name": "stdout",
     "output_type": "stream",
     "text": [
      "Found label: 'Ethnic Origin:'\n",
      "Found label: 'Ancestry (Self-Reported):'\n",
      "Found label: 'Religion:'\n",
      "Found label: 'Jewish Ancestry (Self-Reported):'\n"
     ]
    },
    {
     "name": "stderr",
     "output_type": "stream",
     "text": [
      "2024-10-27 17:23:29 - INFO - Scraping profile 257 of 336 remaining\n"
     ]
    },
    {
     "name": "stdout",
     "output_type": "stream",
     "text": [
      "Found label: 'Ethnic Origin:'\n",
      "Found label: 'Ancestry (Self-Reported):'\n",
      "Found label: 'Religion:'\n",
      "Found label: 'Jewish Ancestry (Self-Reported):'\n"
     ]
    },
    {
     "name": "stderr",
     "output_type": "stream",
     "text": [
      "2024-10-27 17:24:24 - INFO - Scraping profile 258 of 336 remaining\n"
     ]
    },
    {
     "name": "stdout",
     "output_type": "stream",
     "text": [
      "Found label: 'Ethnic Origin:'\n",
      "Found label: 'Ancestry (Self-Reported):'\n",
      "Found label: 'Religion:'\n",
      "Found label: 'Jewish Ancestry (Self-Reported):'\n"
     ]
    },
    {
     "name": "stderr",
     "output_type": "stream",
     "text": [
      "2024-10-27 17:25:14 - INFO - Scraping profile 259 of 336 remaining\n"
     ]
    },
    {
     "name": "stdout",
     "output_type": "stream",
     "text": [
      "Found label: 'Ethnic Origin:'\n",
      "Found label: 'Ancestry (Self-Reported):'\n",
      "Found label: 'Religion:'\n",
      "Found label: 'Jewish Ancestry (Self-Reported):'\n"
     ]
    },
    {
     "name": "stderr",
     "output_type": "stream",
     "text": [
      "2024-10-27 17:25:59 - INFO - Scraping profile 260 of 336 remaining\n"
     ]
    },
    {
     "name": "stdout",
     "output_type": "stream",
     "text": [
      "Found label: 'Ethnic Origin:'\n",
      "Found label: 'Ancestry (Self-Reported):'\n",
      "Found label: 'Religion:'\n",
      "Found label: 'Jewish Ancestry (Self-Reported):'\n"
     ]
    },
    {
     "name": "stderr",
     "output_type": "stream",
     "text": [
      "2024-10-27 17:26:48 - INFO - Scraping profile 261 of 336 remaining\n"
     ]
    },
    {
     "name": "stdout",
     "output_type": "stream",
     "text": [
      "Found label: 'Ethnic Origin:'\n",
      "Found label: 'Ancestry (Self-Reported):'\n",
      "Found label: 'Religion:'\n",
      "Found label: 'Jewish Ancestry (Self-Reported):'\n"
     ]
    },
    {
     "name": "stderr",
     "output_type": "stream",
     "text": [
      "2024-10-27 17:27:43 - INFO - Scraping profile 262 of 336 remaining\n"
     ]
    },
    {
     "name": "stdout",
     "output_type": "stream",
     "text": [
      "Found label: 'Ethnic Origin:'\n",
      "Found label: 'Ancestry (Self-Reported):'\n",
      "Found label: 'Religion:'\n",
      "Found label: 'Jewish Ancestry (Self-Reported):'\n",
      "Saved progress: 360 profiles\n",
      "Backup created: /Users/cindylinsf/Documents/CCI/THESIS/Msc_Thesis_Project_Files/data/raw/bank1/profiles_bank1_backup_20241027_172743.json\n",
      "Saved progress: 360 profiles collected\n"
     ]
    },
    {
     "name": "stderr",
     "output_type": "stream",
     "text": [
      "2024-10-27 17:28:35 - INFO - Scraping profile 263 of 336 remaining\n"
     ]
    },
    {
     "name": "stdout",
     "output_type": "stream",
     "text": [
      "Found label: 'Ethnic Origin:'\n",
      "Found label: 'Ancestry (Self-Reported):'\n",
      "Found label: 'Religion:'\n",
      "Found label: 'Jewish Ancestry (Self-Reported):'\n"
     ]
    },
    {
     "name": "stderr",
     "output_type": "stream",
     "text": [
      "2024-10-27 17:29:18 - INFO - Scraping profile 264 of 336 remaining\n"
     ]
    },
    {
     "name": "stdout",
     "output_type": "stream",
     "text": [
      "Found label: 'Ethnic Origin:'\n",
      "Found label: 'Ancestry (Self-Reported):'\n",
      "Found label: 'Religion:'\n",
      "Found label: 'Jewish Ancestry (Self-Reported):'\n"
     ]
    },
    {
     "name": "stderr",
     "output_type": "stream",
     "text": [
      "2024-10-27 17:30:08 - INFO - Scraping profile 265 of 336 remaining\n"
     ]
    },
    {
     "name": "stdout",
     "output_type": "stream",
     "text": [
      "Found label: 'Ethnic Origin:'\n",
      "Found label: 'Ancestry (Self-Reported):'\n",
      "Found label: 'Religion:'\n",
      "Found label: 'Jewish Ancestry (Self-Reported):'\n"
     ]
    },
    {
     "name": "stderr",
     "output_type": "stream",
     "text": [
      "2024-10-27 17:30:56 - INFO - Scraping profile 266 of 336 remaining\n"
     ]
    },
    {
     "name": "stdout",
     "output_type": "stream",
     "text": [
      "Found label: 'Ethnic Origin:'\n",
      "Found label: 'Ancestry (Self-Reported):'\n",
      "Found label: 'Religion:'\n",
      "Found label: 'Jewish Ancestry (Self-Reported):'\n"
     ]
    },
    {
     "name": "stderr",
     "output_type": "stream",
     "text": [
      "2024-10-27 17:31:49 - INFO - Scraping profile 267 of 336 remaining\n"
     ]
    },
    {
     "name": "stdout",
     "output_type": "stream",
     "text": [
      "Found label: 'Ethnic Origin:'\n",
      "Found label: 'Ancestry (Self-Reported):'\n",
      "Found label: 'Religion:'\n",
      "Found label: 'Jewish Ancestry (Self-Reported):'\n"
     ]
    },
    {
     "name": "stderr",
     "output_type": "stream",
     "text": [
      "2024-10-27 17:32:31 - INFO - Scraping profile 268 of 336 remaining\n"
     ]
    },
    {
     "name": "stdout",
     "output_type": "stream",
     "text": [
      "Found label: 'Ethnic Origin:'\n",
      "Found label: 'Ancestry (Self-Reported):'\n",
      "Found label: 'Religion:'\n",
      "Found label: 'Jewish Ancestry (Self-Reported):'\n"
     ]
    },
    {
     "name": "stderr",
     "output_type": "stream",
     "text": [
      "2024-10-27 17:33:25 - INFO - Scraping profile 269 of 336 remaining\n"
     ]
    },
    {
     "name": "stdout",
     "output_type": "stream",
     "text": [
      "Found label: 'Ethnic Origin:'\n",
      "Found label: 'Ancestry (Self-Reported):'\n",
      "Found label: 'Religion:'\n",
      "Found label: 'Jewish Ancestry (Self-Reported):'\n"
     ]
    },
    {
     "name": "stderr",
     "output_type": "stream",
     "text": [
      "2024-10-27 17:34:12 - INFO - Scraping profile 270 of 336 remaining\n"
     ]
    },
    {
     "name": "stdout",
     "output_type": "stream",
     "text": [
      "Found label: 'Ethnic Origin:'\n",
      "Found label: 'Ancestry (Self-Reported):'\n",
      "Found label: 'Religion:'\n",
      "Found label: 'Jewish Ancestry (Self-Reported):'\n"
     ]
    },
    {
     "name": "stderr",
     "output_type": "stream",
     "text": [
      "2024-10-27 17:35:03 - INFO - Scraping profile 271 of 336 remaining\n"
     ]
    },
    {
     "name": "stdout",
     "output_type": "stream",
     "text": [
      "Found label: 'Ethnic Origin:'\n",
      "Found label: 'Ancestry (Self-Reported):'\n",
      "Found label: 'Religion:'\n",
      "Found label: 'Jewish Ancestry (Self-Reported):'\n"
     ]
    },
    {
     "name": "stderr",
     "output_type": "stream",
     "text": [
      "2024-10-27 17:35:53 - INFO - Scraping profile 272 of 336 remaining\n",
      "2024-10-27 17:35:53 - INFO - Taking a session break...\n"
     ]
    },
    {
     "name": "stdout",
     "output_type": "stream",
     "text": [
      "Found label: 'Ethnic Origin:'\n",
      "Found label: 'Ancestry (Self-Reported):'\n",
      "Found label: 'Religion:'\n",
      "Found label: 'Jewish Ancestry (Self-Reported):'\n",
      "Saved progress: 370 profiles\n",
      "Backup created: /Users/cindylinsf/Documents/CCI/THESIS/Msc_Thesis_Project_Files/data/raw/bank1/profiles_bank1_backup_20241027_173553.json\n",
      "Saved progress: 370 profiles collected\n"
     ]
    },
    {
     "name": "stderr",
     "output_type": "stream",
     "text": [
      "2024-10-27 17:46:22 - INFO - Scraping profile 273 of 336 remaining\n"
     ]
    },
    {
     "name": "stdout",
     "output_type": "stream",
     "text": [
      "Found label: 'Ethnic Origin:'\n",
      "Found label: 'Ancestry (Self-Reported):'\n",
      "Found label: 'Religion:'\n",
      "Found label: 'Jewish Ancestry (Self-Reported):'\n"
     ]
    },
    {
     "name": "stderr",
     "output_type": "stream",
     "text": [
      "2024-10-27 17:47:11 - INFO - Scraping profile 274 of 336 remaining\n"
     ]
    },
    {
     "name": "stdout",
     "output_type": "stream",
     "text": [
      "Found label: 'Ethnic Origin:'\n",
      "Found label: 'Ancestry (Self-Reported):'\n",
      "Found label: 'Religion:'\n",
      "Found label: 'Jewish Ancestry (Self-Reported):'\n"
     ]
    },
    {
     "name": "stderr",
     "output_type": "stream",
     "text": [
      "2024-10-27 17:48:06 - INFO - Scraping profile 275 of 336 remaining\n"
     ]
    },
    {
     "name": "stdout",
     "output_type": "stream",
     "text": [
      "Found label: 'Ethnic Origin:'\n",
      "Found label: 'Ancestry (Self-Reported):'\n",
      "Found label: 'Religion:'\n",
      "Found label: 'Jewish Ancestry (Self-Reported):'\n"
     ]
    },
    {
     "name": "stderr",
     "output_type": "stream",
     "text": [
      "2024-10-27 17:48:52 - INFO - Scraping profile 276 of 336 remaining\n"
     ]
    },
    {
     "name": "stdout",
     "output_type": "stream",
     "text": [
      "Found label: 'Ethnic Origin:'\n",
      "Found label: 'Ancestry (Self-Reported):'\n",
      "Found label: 'Religion:'\n",
      "Found label: 'Jewish Ancestry (Self-Reported):'\n"
     ]
    },
    {
     "name": "stderr",
     "output_type": "stream",
     "text": [
      "2024-10-27 17:49:58 - INFO - Scraping profile 277 of 336 remaining\n"
     ]
    },
    {
     "name": "stdout",
     "output_type": "stream",
     "text": [
      "Found label: 'Ethnic Origin:'\n",
      "Found label: 'Ancestry (Self-Reported):'\n",
      "Found label: 'Religion:'\n",
      "Found label: 'Jewish Ancestry (Self-Reported):'\n"
     ]
    },
    {
     "name": "stderr",
     "output_type": "stream",
     "text": [
      "2024-10-27 17:50:48 - INFO - Scraping profile 278 of 336 remaining\n"
     ]
    },
    {
     "name": "stdout",
     "output_type": "stream",
     "text": [
      "Found label: 'Ethnic Origin:'\n",
      "Found label: 'Ancestry (Self-Reported):'\n",
      "Found label: 'Religion:'\n",
      "Found label: 'Jewish Ancestry (Self-Reported):'\n"
     ]
    },
    {
     "name": "stderr",
     "output_type": "stream",
     "text": [
      "2024-10-27 17:51:48 - INFO - Scraping profile 279 of 336 remaining\n"
     ]
    },
    {
     "name": "stdout",
     "output_type": "stream",
     "text": [
      "Found label: 'Ethnic Origin:'\n",
      "Found label: 'Ancestry (Self-Reported):'\n",
      "Found label: 'Religion:'\n",
      "Found label: 'Jewish Ancestry (Self-Reported):'\n"
     ]
    },
    {
     "name": "stderr",
     "output_type": "stream",
     "text": [
      "2024-10-27 17:52:32 - INFO - Scraping profile 280 of 336 remaining\n"
     ]
    },
    {
     "name": "stdout",
     "output_type": "stream",
     "text": [
      "Found label: 'Ethnic Origin:'\n",
      "Found label: 'Ancestry (Self-Reported):'\n",
      "Found label: 'Religion:'\n",
      "Found label: 'Jewish Ancestry (Self-Reported):'\n"
     ]
    },
    {
     "name": "stderr",
     "output_type": "stream",
     "text": [
      "2024-10-27 17:53:18 - INFO - Scraping profile 281 of 336 remaining\n"
     ]
    },
    {
     "name": "stdout",
     "output_type": "stream",
     "text": [
      "Found label: 'Ethnic Origin:'\n",
      "Found label: 'Ancestry (Self-Reported):'\n",
      "Found label: 'Religion:'\n",
      "Found label: 'Jewish Ancestry (Self-Reported):'\n"
     ]
    },
    {
     "name": "stderr",
     "output_type": "stream",
     "text": [
      "2024-10-27 17:54:07 - INFO - Scraping profile 282 of 336 remaining\n"
     ]
    },
    {
     "name": "stdout",
     "output_type": "stream",
     "text": [
      "Found label: 'Ethnic Origin:'\n",
      "Found label: 'Ancestry (Self-Reported):'\n",
      "Found label: 'Religion:'\n",
      "Found label: 'Jewish Ancestry (Self-Reported):'\n",
      "Saved progress: 380 profiles\n",
      "Backup created: /Users/cindylinsf/Documents/CCI/THESIS/Msc_Thesis_Project_Files/data/raw/bank1/profiles_bank1_backup_20241027_175407.json\n",
      "Saved progress: 380 profiles collected\n"
     ]
    },
    {
     "name": "stderr",
     "output_type": "stream",
     "text": [
      "2024-10-27 17:55:02 - INFO - Scraping profile 283 of 336 remaining\n"
     ]
    },
    {
     "name": "stdout",
     "output_type": "stream",
     "text": [
      "Found label: 'Ethnic Origin:'\n",
      "Found label: 'Ancestry (Self-Reported):'\n",
      "Found label: 'Religion:'\n",
      "Found label: 'Jewish Ancestry (Self-Reported):'\n"
     ]
    },
    {
     "name": "stderr",
     "output_type": "stream",
     "text": [
      "2024-10-27 17:56:00 - INFO - Scraping profile 284 of 336 remaining\n"
     ]
    },
    {
     "name": "stdout",
     "output_type": "stream",
     "text": [
      "Found label: 'Ethnic Origin:'\n",
      "Found label: 'Ancestry (Self-Reported):'\n",
      "Found label: 'Religion:'\n",
      "Found label: 'Jewish Ancestry (Self-Reported):'\n"
     ]
    },
    {
     "name": "stderr",
     "output_type": "stream",
     "text": [
      "2024-10-27 17:56:52 - INFO - Scraping profile 285 of 336 remaining\n"
     ]
    },
    {
     "name": "stdout",
     "output_type": "stream",
     "text": [
      "Found label: 'Ethnic Origin:'\n",
      "Found label: 'Ancestry (Self-Reported):'\n",
      "Found label: 'Religion:'\n",
      "Found label: 'Jewish Ancestry (Self-Reported):'\n"
     ]
    },
    {
     "name": "stderr",
     "output_type": "stream",
     "text": [
      "2024-10-27 17:57:32 - INFO - Scraping profile 286 of 336 remaining\n"
     ]
    },
    {
     "name": "stdout",
     "output_type": "stream",
     "text": [
      "Found label: 'Ethnic Origin:'\n",
      "Found label: 'Ancestry (Self-Reported):'\n",
      "Found label: 'Religion:'\n",
      "Found label: 'Jewish Ancestry (Self-Reported):'\n"
     ]
    },
    {
     "name": "stderr",
     "output_type": "stream",
     "text": [
      "2024-10-27 17:58:22 - INFO - Scraping profile 287 of 336 remaining\n"
     ]
    },
    {
     "name": "stdout",
     "output_type": "stream",
     "text": [
      "Found label: 'Ethnic Origin:'\n",
      "Found label: 'Ancestry (Self-Reported):'\n",
      "Found label: 'Religion:'\n",
      "Found label: 'Jewish Ancestry (Self-Reported):'\n"
     ]
    },
    {
     "name": "stderr",
     "output_type": "stream",
     "text": [
      "2024-10-27 17:59:10 - INFO - Scraping profile 288 of 336 remaining\n"
     ]
    },
    {
     "name": "stdout",
     "output_type": "stream",
     "text": [
      "Found label: 'Ethnic Origin:'\n",
      "Found label: 'Ancestry (Self-Reported):'\n",
      "Found label: 'Religion:'\n",
      "Found label: 'Jewish Ancestry (Self-Reported):'\n"
     ]
    },
    {
     "name": "stderr",
     "output_type": "stream",
     "text": [
      "2024-10-27 18:00:07 - INFO - Scraping profile 289 of 336 remaining\n"
     ]
    },
    {
     "name": "stdout",
     "output_type": "stream",
     "text": [
      "Found label: 'Ethnic Origin:'\n",
      "Found label: 'Ancestry (Self-Reported):'\n",
      "Found label: 'Religion:'\n",
      "Found label: 'Jewish Ancestry (Self-Reported):'\n"
     ]
    },
    {
     "name": "stderr",
     "output_type": "stream",
     "text": [
      "2024-10-27 18:00:52 - INFO - Scraping profile 290 of 336 remaining\n"
     ]
    },
    {
     "name": "stdout",
     "output_type": "stream",
     "text": [
      "Found label: 'Ethnic Origin:'\n",
      "Found label: 'Ancestry (Self-Reported):'\n",
      "Found label: 'Religion:'\n",
      "Found label: 'Jewish Ancestry (Self-Reported):'\n"
     ]
    },
    {
     "name": "stderr",
     "output_type": "stream",
     "text": [
      "2024-10-27 18:01:40 - INFO - Scraping profile 291 of 336 remaining\n"
     ]
    },
    {
     "name": "stdout",
     "output_type": "stream",
     "text": [
      "Found label: 'Ethnic Origin:'\n",
      "Found label: 'Ancestry (Self-Reported):'\n",
      "Found label: 'Religion:'\n",
      "Found label: 'Jewish Ancestry (Self-Reported):'\n"
     ]
    },
    {
     "name": "stderr",
     "output_type": "stream",
     "text": [
      "2024-10-27 18:02:27 - INFO - Scraping profile 292 of 336 remaining\n"
     ]
    },
    {
     "name": "stdout",
     "output_type": "stream",
     "text": [
      "Found label: 'Ethnic Origin:'\n",
      "Found label: 'Ancestry (Self-Reported):'\n",
      "Found label: 'Religion:'\n",
      "Found label: 'Jewish Ancestry (Self-Reported):'\n",
      "Saved progress: 390 profiles\n",
      "Backup created: /Users/cindylinsf/Documents/CCI/THESIS/Msc_Thesis_Project_Files/data/raw/bank1/profiles_bank1_backup_20241027_180227.json\n",
      "Saved progress: 390 profiles collected\n"
     ]
    },
    {
     "name": "stderr",
     "output_type": "stream",
     "text": [
      "2024-10-27 18:03:19 - INFO - Scraping profile 293 of 336 remaining\n"
     ]
    },
    {
     "name": "stdout",
     "output_type": "stream",
     "text": [
      "Found label: 'Ethnic Origin:'\n",
      "Found label: 'Ancestry (Self-Reported):'\n",
      "Found label: 'Religion:'\n",
      "Found label: 'Jewish Ancestry (Self-Reported):'\n"
     ]
    },
    {
     "name": "stderr",
     "output_type": "stream",
     "text": [
      "2024-10-27 18:04:15 - INFO - Scraping profile 294 of 336 remaining\n"
     ]
    },
    {
     "name": "stdout",
     "output_type": "stream",
     "text": [
      "Found label: 'Ethnic Origin:'\n",
      "Found label: 'Ancestry (Self-Reported):'\n",
      "Found label: 'Religion:'\n",
      "Found label: 'Jewish Ancestry (Self-Reported):'\n"
     ]
    },
    {
     "name": "stderr",
     "output_type": "stream",
     "text": [
      "2024-10-27 18:05:08 - INFO - Scraping profile 295 of 336 remaining\n"
     ]
    },
    {
     "name": "stdout",
     "output_type": "stream",
     "text": [
      "Found label: 'Ethnic Origin:'\n",
      "Found label: 'Ancestry (Self-Reported):'\n",
      "Found label: 'Religion:'\n",
      "Found label: 'Jewish Ancestry (Self-Reported):'\n"
     ]
    },
    {
     "name": "stderr",
     "output_type": "stream",
     "text": [
      "2024-10-27 18:05:54 - INFO - Scraping profile 296 of 336 remaining\n"
     ]
    },
    {
     "name": "stdout",
     "output_type": "stream",
     "text": [
      "Found label: 'Ethnic Origin:'\n",
      "Found label: 'Ancestry (Self-Reported):'\n",
      "Found label: 'Religion:'\n",
      "Found label: 'Jewish Ancestry (Self-Reported):'\n"
     ]
    },
    {
     "name": "stderr",
     "output_type": "stream",
     "text": [
      "2024-10-27 18:06:45 - INFO - Scraping profile 297 of 336 remaining\n"
     ]
    },
    {
     "name": "stdout",
     "output_type": "stream",
     "text": [
      "Found label: 'Ethnic Origin:'\n",
      "Found label: 'Ancestry (Self-Reported):'\n",
      "Found label: 'Religion:'\n",
      "Found label: 'Jewish Ancestry (Self-Reported):'\n"
     ]
    },
    {
     "name": "stderr",
     "output_type": "stream",
     "text": [
      "2024-10-27 18:07:41 - INFO - Scraping profile 298 of 336 remaining\n"
     ]
    },
    {
     "name": "stdout",
     "output_type": "stream",
     "text": [
      "Found label: 'Ethnic Origin:'\n",
      "Found label: 'Ancestry (Self-Reported):'\n",
      "Found label: 'Religion:'\n",
      "Found label: 'Jewish Ancestry (Self-Reported):'\n"
     ]
    },
    {
     "name": "stderr",
     "output_type": "stream",
     "text": [
      "2024-10-27 18:08:32 - INFO - Scraping profile 299 of 336 remaining\n"
     ]
    },
    {
     "name": "stdout",
     "output_type": "stream",
     "text": [
      "Found label: 'Ethnic Origin:'\n",
      "Found label: 'Ancestry (Self-Reported):'\n",
      "Found label: 'Religion:'\n",
      "Found label: 'Jewish Ancestry (Self-Reported):'\n"
     ]
    },
    {
     "name": "stderr",
     "output_type": "stream",
     "text": [
      "2024-10-27 18:09:24 - INFO - Scraping profile 300 of 336 remaining\n"
     ]
    },
    {
     "name": "stdout",
     "output_type": "stream",
     "text": [
      "Found label: 'Ethnic Origin:'\n",
      "Found label: 'Ancestry (Self-Reported):'\n",
      "Found label: 'Religion:'\n",
      "Found label: 'Jewish Ancestry (Self-Reported):'\n"
     ]
    },
    {
     "name": "stderr",
     "output_type": "stream",
     "text": [
      "2024-10-27 18:10:10 - INFO - Scraping profile 301 of 336 remaining\n"
     ]
    },
    {
     "name": "stdout",
     "output_type": "stream",
     "text": [
      "Found label: 'Ethnic Origin:'\n",
      "Found label: 'Ancestry (Self-Reported):'\n",
      "Found label: 'Religion:'\n",
      "Found label: 'Jewish Ancestry (Self-Reported):'\n"
     ]
    },
    {
     "name": "stderr",
     "output_type": "stream",
     "text": [
      "2024-10-27 18:11:01 - INFO - Scraping profile 302 of 336 remaining\n",
      "2024-10-27 18:11:01 - INFO - Taking a session break...\n"
     ]
    },
    {
     "name": "stdout",
     "output_type": "stream",
     "text": [
      "Found label: 'Ethnic Origin:'\n",
      "Found label: 'Ancestry (Self-Reported):'\n",
      "Found label: 'Religion:'\n",
      "Found label: 'Jewish Ancestry (Self-Reported):'\n",
      "Saved progress: 400 profiles\n",
      "Backup created: /Users/cindylinsf/Documents/CCI/THESIS/Msc_Thesis_Project_Files/data/raw/bank1/profiles_bank1_backup_20241027_181101.json\n",
      "Saved progress: 400 profiles collected\n"
     ]
    },
    {
     "name": "stderr",
     "output_type": "stream",
     "text": [
      "2024-10-27 18:20:53 - INFO - Scraping profile 303 of 336 remaining\n"
     ]
    },
    {
     "name": "stdout",
     "output_type": "stream",
     "text": [
      "Found label: 'Ethnic Origin:'\n",
      "Found label: 'Ancestry (Self-Reported):'\n",
      "Found label: 'Religion:'\n",
      "Found label: 'Jewish Ancestry (Self-Reported):'\n"
     ]
    },
    {
     "name": "stderr",
     "output_type": "stream",
     "text": [
      "2024-10-27 18:21:42 - INFO - Scraping profile 304 of 336 remaining\n"
     ]
    },
    {
     "name": "stdout",
     "output_type": "stream",
     "text": [
      "Found label: 'Ethnic Origin:'\n",
      "Found label: 'Ancestry (Self-Reported):'\n",
      "Found label: 'Religion:'\n",
      "Found label: 'Jewish Ancestry (Self-Reported):'\n"
     ]
    },
    {
     "name": "stderr",
     "output_type": "stream",
     "text": [
      "2024-10-27 18:22:31 - INFO - Scraping profile 305 of 336 remaining\n"
     ]
    },
    {
     "name": "stdout",
     "output_type": "stream",
     "text": [
      "Found label: 'Ethnic Origin:'\n",
      "Found label: 'Ancestry (Self-Reported):'\n",
      "Found label: 'Religion:'\n",
      "Found label: 'Jewish Ancestry (Self-Reported):'\n"
     ]
    },
    {
     "name": "stderr",
     "output_type": "stream",
     "text": [
      "2024-10-27 18:23:20 - INFO - Scraping profile 306 of 336 remaining\n"
     ]
    },
    {
     "name": "stdout",
     "output_type": "stream",
     "text": [
      "Found label: 'Ethnic Origin:'\n",
      "Found label: 'Ancestry (Self-Reported):'\n",
      "Found label: 'Religion:'\n",
      "Found label: 'Jewish Ancestry (Self-Reported):'\n"
     ]
    },
    {
     "name": "stderr",
     "output_type": "stream",
     "text": [
      "2024-10-27 18:24:06 - INFO - Scraping profile 307 of 336 remaining\n"
     ]
    },
    {
     "name": "stdout",
     "output_type": "stream",
     "text": [
      "Found label: 'Ethnic Origin:'\n",
      "Found label: 'Ancestry (Self-Reported):'\n",
      "Found label: 'Religion:'\n",
      "Found label: 'Jewish Ancestry (Self-Reported):'\n"
     ]
    },
    {
     "name": "stderr",
     "output_type": "stream",
     "text": [
      "2024-10-27 18:25:01 - INFO - Scraping profile 308 of 336 remaining\n"
     ]
    },
    {
     "name": "stdout",
     "output_type": "stream",
     "text": [
      "Found label: 'Ethnic Origin:'\n",
      "Found label: 'Ancestry (Self-Reported):'\n",
      "Found label: 'Religion:'\n",
      "Found label: 'Jewish Ancestry (Self-Reported):'\n"
     ]
    },
    {
     "name": "stderr",
     "output_type": "stream",
     "text": [
      "2024-10-27 18:25:55 - INFO - Scraping profile 309 of 336 remaining\n"
     ]
    },
    {
     "name": "stdout",
     "output_type": "stream",
     "text": [
      "Found label: 'Ethnic Origin:'\n",
      "Found label: 'Ancestry (Self-Reported):'\n",
      "Found label: 'Religion:'\n",
      "Found label: 'Jewish Ancestry (Self-Reported):'\n"
     ]
    },
    {
     "name": "stderr",
     "output_type": "stream",
     "text": [
      "2024-10-27 18:26:42 - INFO - Scraping profile 310 of 336 remaining\n"
     ]
    },
    {
     "name": "stdout",
     "output_type": "stream",
     "text": [
      "Found label: 'Ethnic Origin:'\n",
      "Found label: 'Ancestry (Self-Reported):'\n",
      "Found label: 'Religion:'\n",
      "Found label: 'Jewish Ancestry (Self-Reported):'\n"
     ]
    },
    {
     "name": "stderr",
     "output_type": "stream",
     "text": [
      "2024-10-27 18:27:30 - INFO - Scraping profile 311 of 336 remaining\n"
     ]
    },
    {
     "name": "stdout",
     "output_type": "stream",
     "text": [
      "Found label: 'Ethnic Origin:'\n",
      "Found label: 'Ancestry (Self-Reported):'\n",
      "Found label: 'Religion:'\n",
      "Found label: 'Jewish Ancestry (Self-Reported):'\n"
     ]
    },
    {
     "name": "stderr",
     "output_type": "stream",
     "text": [
      "2024-10-27 18:28:30 - INFO - Scraping profile 312 of 336 remaining\n"
     ]
    },
    {
     "name": "stdout",
     "output_type": "stream",
     "text": [
      "Found label: 'Ethnic Origin:'\n",
      "Found label: 'Ancestry (Self-Reported):'\n",
      "Found label: 'Religion:'\n",
      "Found label: 'Jewish Ancestry (Self-Reported):'\n",
      "Saved progress: 410 profiles\n",
      "Backup created: /Users/cindylinsf/Documents/CCI/THESIS/Msc_Thesis_Project_Files/data/raw/bank1/profiles_bank1_backup_20241027_182830.json\n",
      "Saved progress: 410 profiles collected\n"
     ]
    },
    {
     "name": "stderr",
     "output_type": "stream",
     "text": [
      "2024-10-27 18:29:19 - INFO - Scraping profile 313 of 336 remaining\n"
     ]
    },
    {
     "name": "stdout",
     "output_type": "stream",
     "text": [
      "Found label: 'Ethnic Origin:'\n",
      "Found label: 'Ancestry (Self-Reported):'\n",
      "Found label: 'Religion:'\n",
      "Found label: 'Jewish Ancestry (Self-Reported):'\n"
     ]
    },
    {
     "name": "stderr",
     "output_type": "stream",
     "text": [
      "2024-10-27 18:30:07 - INFO - Scraping profile 314 of 336 remaining\n"
     ]
    },
    {
     "name": "stdout",
     "output_type": "stream",
     "text": [
      "Found label: 'Ethnic Origin:'\n",
      "Found label: 'Ancestry (Self-Reported):'\n",
      "Found label: 'Religion:'\n",
      "Found label: 'Jewish Ancestry (Self-Reported):'\n"
     ]
    },
    {
     "name": "stderr",
     "output_type": "stream",
     "text": [
      "2024-10-27 18:30:56 - INFO - Scraping profile 315 of 336 remaining\n"
     ]
    },
    {
     "name": "stdout",
     "output_type": "stream",
     "text": [
      "Found label: 'Ethnic Origin:'\n",
      "Found label: 'Ancestry (Self-Reported):'\n",
      "Found label: 'Religion:'\n",
      "Found label: 'Jewish Ancestry (Self-Reported):'\n"
     ]
    },
    {
     "name": "stderr",
     "output_type": "stream",
     "text": [
      "2024-10-27 18:31:51 - INFO - Scraping profile 316 of 336 remaining\n"
     ]
    },
    {
     "name": "stdout",
     "output_type": "stream",
     "text": [
      "Found label: 'Ethnic Origin:'\n",
      "Found label: 'Ancestry (Self-Reported):'\n",
      "Found label: 'Religion:'\n",
      "Found label: 'Jewish Ancestry (Self-Reported):'\n"
     ]
    },
    {
     "name": "stderr",
     "output_type": "stream",
     "text": [
      "2024-10-27 18:32:39 - INFO - Scraping profile 317 of 336 remaining\n"
     ]
    },
    {
     "name": "stdout",
     "output_type": "stream",
     "text": [
      "Found label: 'Ethnic Origin:'\n",
      "Found label: 'Ancestry (Self-Reported):'\n",
      "Found label: 'Religion:'\n",
      "Found label: 'Jewish Ancestry (Self-Reported):'\n"
     ]
    },
    {
     "name": "stderr",
     "output_type": "stream",
     "text": [
      "2024-10-27 18:33:27 - INFO - Scraping profile 318 of 336 remaining\n"
     ]
    },
    {
     "name": "stdout",
     "output_type": "stream",
     "text": [
      "Found label: 'Ethnic Origin:'\n",
      "Found label: 'Ancestry (Self-Reported):'\n",
      "Found label: 'Religion:'\n",
      "Found label: 'Jewish Ancestry (Self-Reported):'\n"
     ]
    },
    {
     "name": "stderr",
     "output_type": "stream",
     "text": [
      "2024-10-27 18:34:24 - INFO - Scraping profile 319 of 336 remaining\n"
     ]
    },
    {
     "name": "stdout",
     "output_type": "stream",
     "text": [
      "Found label: 'Ethnic Origin:'\n",
      "Found label: 'Ancestry (Self-Reported):'\n",
      "Found label: 'Religion:'\n",
      "Found label: 'Jewish Ancestry (Self-Reported):'\n"
     ]
    },
    {
     "name": "stderr",
     "output_type": "stream",
     "text": [
      "2024-10-27 18:35:10 - INFO - Scraping profile 320 of 336 remaining\n"
     ]
    },
    {
     "name": "stdout",
     "output_type": "stream",
     "text": [
      "Found label: 'Ethnic Origin:'\n",
      "Found label: 'Ancestry (Self-Reported):'\n",
      "Found label: 'Religion:'\n",
      "Found label: 'Jewish Ancestry (Self-Reported):'\n"
     ]
    },
    {
     "name": "stderr",
     "output_type": "stream",
     "text": [
      "2024-10-27 18:36:03 - INFO - Scraping profile 321 of 336 remaining\n"
     ]
    },
    {
     "name": "stdout",
     "output_type": "stream",
     "text": [
      "Found label: 'Ethnic Origin:'\n",
      "Found label: 'Ancestry (Self-Reported):'\n",
      "Found label: 'Religion:'\n",
      "Found label: 'Jewish Ancestry (Self-Reported):'\n"
     ]
    },
    {
     "name": "stderr",
     "output_type": "stream",
     "text": [
      "2024-10-27 18:36:54 - INFO - Scraping profile 322 of 336 remaining\n"
     ]
    },
    {
     "name": "stdout",
     "output_type": "stream",
     "text": [
      "Found label: 'Ethnic Origin:'\n",
      "Found label: 'Ancestry (Self-Reported):'\n",
      "Found label: 'Religion:'\n",
      "Found label: 'Jewish Ancestry (Self-Reported):'\n",
      "Saved progress: 420 profiles\n",
      "Backup created: /Users/cindylinsf/Documents/CCI/THESIS/Msc_Thesis_Project_Files/data/raw/bank1/profiles_bank1_backup_20241027_183654.json\n",
      "Saved progress: 420 profiles collected\n"
     ]
    },
    {
     "name": "stderr",
     "output_type": "stream",
     "text": [
      "2024-10-27 18:37:49 - INFO - Scraping profile 323 of 336 remaining\n"
     ]
    },
    {
     "name": "stdout",
     "output_type": "stream",
     "text": [
      "Found label: 'Ethnic Origin:'\n",
      "Found label: 'Ancestry (Self-Reported):'\n",
      "Found label: 'Religion:'\n",
      "Found label: 'Jewish Ancestry (Self-Reported):'\n"
     ]
    },
    {
     "name": "stderr",
     "output_type": "stream",
     "text": [
      "2024-10-27 18:38:45 - INFO - Scraping profile 324 of 336 remaining\n"
     ]
    },
    {
     "name": "stdout",
     "output_type": "stream",
     "text": [
      "Found label: 'Ethnic Origin:'\n",
      "Found label: 'Ancestry (Self-Reported):'\n",
      "Found label: 'Religion:'\n",
      "Found label: 'Jewish Ancestry (Self-Reported):'\n"
     ]
    },
    {
     "name": "stderr",
     "output_type": "stream",
     "text": [
      "2024-10-27 18:39:30 - INFO - Scraping profile 325 of 336 remaining\n"
     ]
    },
    {
     "name": "stdout",
     "output_type": "stream",
     "text": [
      "Found label: 'Ethnic Origin:'\n",
      "Found label: 'Ancestry (Self-Reported):'\n",
      "Found label: 'Religion:'\n",
      "Found label: 'Jewish Ancestry (Self-Reported):'\n"
     ]
    },
    {
     "name": "stderr",
     "output_type": "stream",
     "text": [
      "2024-10-27 18:40:29 - INFO - Scraping profile 326 of 336 remaining\n"
     ]
    },
    {
     "name": "stdout",
     "output_type": "stream",
     "text": [
      "Found label: 'Ethnic Origin:'\n",
      "Found label: 'Ancestry (Self-Reported):'\n",
      "Found label: 'Religion:'\n",
      "Found label: 'Jewish Ancestry (Self-Reported):'\n"
     ]
    },
    {
     "name": "stderr",
     "output_type": "stream",
     "text": [
      "2024-10-27 18:41:26 - INFO - Scraping profile 327 of 336 remaining\n"
     ]
    },
    {
     "name": "stdout",
     "output_type": "stream",
     "text": [
      "Found label: 'Ethnic Origin:'\n",
      "Found label: 'Ancestry (Self-Reported):'\n",
      "Found label: 'Religion:'\n",
      "Found label: 'Jewish Ancestry (Self-Reported):'\n"
     ]
    },
    {
     "name": "stderr",
     "output_type": "stream",
     "text": [
      "2024-10-27 18:42:13 - INFO - Scraping profile 328 of 336 remaining\n"
     ]
    },
    {
     "name": "stdout",
     "output_type": "stream",
     "text": [
      "Found label: 'Ethnic Origin:'\n",
      "Found label: 'Ancestry (Self-Reported):'\n",
      "Found label: 'Religion:'\n",
      "Found label: 'Jewish Ancestry (Self-Reported):'\n"
     ]
    },
    {
     "name": "stderr",
     "output_type": "stream",
     "text": [
      "2024-10-27 18:43:00 - INFO - Scraping profile 329 of 336 remaining\n"
     ]
    },
    {
     "name": "stdout",
     "output_type": "stream",
     "text": [
      "Found label: 'Ethnic Origin:'\n",
      "Found label: 'Ancestry (Self-Reported):'\n",
      "Found label: 'Religion:'\n",
      "Found label: 'Jewish Ancestry (Self-Reported):'\n"
     ]
    },
    {
     "name": "stderr",
     "output_type": "stream",
     "text": [
      "2024-10-27 18:43:54 - INFO - Scraping profile 330 of 336 remaining\n"
     ]
    },
    {
     "name": "stdout",
     "output_type": "stream",
     "text": [
      "Found label: 'Ethnic Origin:'\n",
      "Found label: 'Ancestry (Self-Reported):'\n",
      "Found label: 'Religion:'\n",
      "Found label: 'Jewish Ancestry (Self-Reported):'\n"
     ]
    },
    {
     "name": "stderr",
     "output_type": "stream",
     "text": [
      "2024-10-27 18:44:34 - INFO - Scraping profile 331 of 336 remaining\n"
     ]
    },
    {
     "name": "stdout",
     "output_type": "stream",
     "text": [
      "Found label: 'Ethnic Origin:'\n",
      "Found label: 'Ancestry (Self-Reported):'\n",
      "Found label: 'Religion:'\n",
      "Found label: 'Jewish Ancestry (Self-Reported):'\n"
     ]
    },
    {
     "name": "stderr",
     "output_type": "stream",
     "text": [
      "2024-10-27 18:45:25 - INFO - Scraping profile 332 of 336 remaining\n",
      "2024-10-27 18:45:25 - INFO - Taking a session break...\n"
     ]
    },
    {
     "name": "stdout",
     "output_type": "stream",
     "text": [
      "Found label: 'Ethnic Origin:'\n",
      "Found label: 'Ancestry (Self-Reported):'\n",
      "Found label: 'Religion:'\n",
      "Found label: 'Jewish Ancestry (Self-Reported):'\n",
      "Saved progress: 430 profiles\n",
      "Backup created: /Users/cindylinsf/Documents/CCI/THESIS/Msc_Thesis_Project_Files/data/raw/bank1/profiles_bank1_backup_20241027_184525.json\n",
      "Saved progress: 430 profiles collected\n"
     ]
    },
    {
     "name": "stderr",
     "output_type": "stream",
     "text": [
      "2024-10-27 18:54:32 - INFO - Scraping profile 333 of 336 remaining\n"
     ]
    },
    {
     "name": "stdout",
     "output_type": "stream",
     "text": [
      "Found label: 'Ethnic Origin:'\n",
      "Found label: 'Ancestry (Self-Reported):'\n",
      "Found label: 'Religion:'\n",
      "Found label: 'Jewish Ancestry (Self-Reported):'\n"
     ]
    },
    {
     "name": "stderr",
     "output_type": "stream",
     "text": [
      "2024-10-27 18:55:29 - INFO - Scraping profile 334 of 336 remaining\n"
     ]
    },
    {
     "name": "stdout",
     "output_type": "stream",
     "text": [
      "Found label: 'Ethnic Origin:'\n",
      "Found label: 'Ancestry (Self-Reported):'\n",
      "Found label: 'Religion:'\n",
      "Found label: 'Jewish Ancestry (Self-Reported):'\n"
     ]
    },
    {
     "name": "stderr",
     "output_type": "stream",
     "text": [
      "2024-10-27 18:56:20 - INFO - Scraping profile 335 of 336 remaining\n"
     ]
    },
    {
     "name": "stdout",
     "output_type": "stream",
     "text": [
      "Found label: 'Ethnic Origin:'\n",
      "Found label: 'Ancestry (Self-Reported):'\n",
      "Found label: 'Religion:'\n",
      "Found label: 'Jewish Ancestry (Self-Reported):'\n"
     ]
    },
    {
     "name": "stderr",
     "output_type": "stream",
     "text": [
      "2024-10-27 18:57:12 - INFO - Scraping profile 336 of 336 remaining\n"
     ]
    },
    {
     "name": "stdout",
     "output_type": "stream",
     "text": [
      "Found label: 'Ethnic Origin:'\n",
      "Found label: 'Ancestry (Self-Reported):'\n",
      "Found label: 'Religion:'\n",
      "Found label: 'Jewish Ancestry (Self-Reported):'\n",
      "Found label: 'Ethnic Origin:'\n",
      "Found label: 'Ancestry (Self-Reported):'\n",
      "Found label: 'Religion:'\n",
      "Found label: 'Jewish Ancestry (Self-Reported):'\n",
      "Data saved to:\n",
      "- /Users/cindylinsf/Documents/CCI/THESIS/Msc_Thesis_Project_Files/data/raw/bank1/profiles_20241027_185803.json\n",
      "- /Users/cindylinsf/Documents/CCI/THESIS/Msc_Thesis_Project_Files/data/raw/bank1/profiles_20241027_185803.csv\n",
      "- /Users/cindylinsf/Documents/CCI/THESIS/Msc_Thesis_Project_Files/data/raw/bank1/profiles.json\n",
      "- /Users/cindylinsf/Documents/CCI/THESIS/Msc_Thesis_Project_Files/data/raw/bank1/profiles.csv\n"
     ]
    }
   ],
   "source": [
    "## 9. Scrape and Save\n",
    "\n",
    "def save_progress(profiles, bank_id):\n",
    "    \"\"\"Save intermediate results\"\"\"\n",
    "    output_directory = '/Users/cindylinsf/Documents/CCI/THESIS/Msc_Thesis_Project_Files/data/raw/bank1'\n",
    "    temp_file = os.path.join(output_directory, f'profiles_{bank_id}_in_progress.json')\n",
    "    \n",
    "    # Save as JSON with timestamp in the filename\n",
    "    timestamp = datetime.now().strftime('%Y%m%d_%H%M%S')\n",
    "    backup_file = os.path.join(output_directory, f'profiles_{bank_id}_backup_{timestamp}.json')\n",
    "    \n",
    "    # Save current progress\n",
    "    with open(temp_file, 'w', encoding='utf-8') as f:\n",
    "        json.dump(profiles, f, indent=2, ensure_ascii=False)\n",
    "    \n",
    "    # Create backup\n",
    "    with open(backup_file, 'w', encoding='utf-8') as f:\n",
    "        json.dump(profiles, f, indent=2, ensure_ascii=False)\n",
    "        \n",
    "    print(f\"Saved progress: {len(profiles)} profiles\")\n",
    "    print(f\"Backup created: {backup_file}\")\n",
    "\n",
    "def save_final_results(profiles, bank_id):\n",
    "    \"\"\"Save final results in both JSON and CSV formats with versioning\"\"\"\n",
    "    output_directory = '/Users/cindylinsf/Documents/CCI/THESIS/Msc_Thesis_Project_Files/data/raw/bank1'\n",
    "    os.makedirs(output_directory, exist_ok=True)\n",
    "    \n",
    "    if profiles:\n",
    "        try:\n",
    "            timestamp = datetime.now().strftime('%Y%m%d_%H%M%S')\n",
    "            \n",
    "            # Save as JSON with timestamp\n",
    "            json_filename = os.path.join(output_directory, f'profiles_{timestamp}.json')\n",
    "            with open(json_filename, 'w', encoding='utf-8') as f:\n",
    "                json.dump(profiles, f, indent=2, ensure_ascii=False)\n",
    "            \n",
    "            # Save as CSV with timestamp\n",
    "            csv_filename = os.path.join(output_directory, f'profiles_{timestamp}.csv')\n",
    "            with open(csv_filename, 'w', newline='', encoding='utf-8') as f:\n",
    "                writer = csv.DictWriter(f, fieldnames=profiles[0].keys())\n",
    "                writer.writeheader()\n",
    "                writer.writerows(profiles)\n",
    "            \n",
    "            # Also save as the main files (overwriting previous versions)\n",
    "            main_json = os.path.join(output_directory, 'profiles.json')\n",
    "            main_csv = os.path.join(output_directory, 'profiles.csv')\n",
    "            \n",
    "            with open(main_json, 'w', encoding='utf-8') as f:\n",
    "                json.dump(profiles, f, indent=2, ensure_ascii=False)\n",
    "            \n",
    "            with open(main_csv, 'w', newline='', encoding='utf-8') as f:\n",
    "                writer = csv.DictWriter(f, fieldnames=profiles[0].keys())\n",
    "                writer.writeheader()\n",
    "                writer.writerows(profiles)\n",
    "            \n",
    "            print(f\"Data saved to:\")\n",
    "            print(f\"- {json_filename}\")\n",
    "            print(f\"- {csv_filename}\")\n",
    "            print(f\"- {main_json}\")\n",
    "            print(f\"- {main_csv}\")\n",
    "            \n",
    "        except Exception as e:\n",
    "            logger.error(f\"Error saving final results: {str(e)}\")\n",
    "    else:\n",
    "        logger.warning(\"No profiles were collected to save\")\n",
    "\n",
    "def main():\n",
    "    try:\n",
    "        # Load configuration\n",
    "        global config, bank_config\n",
    "        config = load_config()\n",
    "        bank_id = 'bank1'\n",
    "        bank_config = config['banks'][bank_id]\n",
    "\n",
    "        # Load existing profiles\n",
    "        try:\n",
    "            with open('/Users/cindylinsf/Documents/CCI/THESIS/Msc_Thesis_Project_Files/data/raw/bank1/profiles_bank1_in_progress.json', 'r') as f:\n",
    "                all_profiles = json.load(f)\n",
    "            print(f\"Loaded {len(all_profiles)} existing profiles from in-progress file\")\n",
    "        except FileNotFoundError:\n",
    "            all_profiles = []\n",
    "            print(\"Starting fresh scrape\")\n",
    "\n",
    "        # Get already scraped donor IDs\n",
    "        scraped_ids = get_scraped_donor_ids()\n",
    "        print(f\"Found {len(scraped_ids)} already scraped donor IDs\")\n",
    "\n",
    "        # Load all donor IDs\n",
    "        donor_ids_path = '/Users/cindylinsf/Documents/CCI/THESIS/Msc_Thesis_Project_Files/data/raw/bank1/donor_ids.txt'\n",
    "        with open(donor_ids_path, 'r') as f:\n",
    "            all_donor_ids = [line.strip() for line in f]\n",
    "        \n",
    "        # Filter out already scraped IDs\n",
    "        remaining_donor_ids = [id for id in all_donor_ids if id not in scraped_ids]\n",
    "        print(f\"Remaining donors to scrape: {len(remaining_donor_ids)} out of {len(all_donor_ids)}\")\n",
    "\n",
    "        # Initialize session manager\n",
    "        session_manager = ScrapingSession()\n",
    "\n",
    "        # Initialize driver\n",
    "        options = webdriver.ChromeOptions()\n",
    "        options.add_argument(f'user-agent={random.choice(config[\"user_agents\"])}')\n",
    "        options.add_argument('--headless')\n",
    "        driver = webdriver.Chrome(options=options)\n",
    "\n",
    "        # Continue scraping remaining profiles\n",
    "        for i, donor_id in enumerate(remaining_donor_ids, 1):\n",
    "            try:\n",
    "                logger.info(f\"Scraping profile {i} of {len(remaining_donor_ids)} remaining\")\n",
    "                \n",
    "                if session_manager.should_take_break():\n",
    "                    session_manager.take_break()\n",
    "                \n",
    "                relative_url = f\"/donor/{donor_id}\"\n",
    "                profile_data = scrape_profile_bank1(relative_url, driver)\n",
    "                \n",
    "                if profile_data:\n",
    "                    all_profiles.append(profile_data)\n",
    "                    session_manager.profiles_scraped += 1\n",
    "                    \n",
    "                    # Save progress every 10 profiles\n",
    "                    if len(all_profiles) % 10 == 0:\n",
    "                        save_progress(all_profiles, bank_id)\n",
    "                        print(f\"Saved progress: {len(all_profiles)} profiles collected\")\n",
    "                \n",
    "            except Exception as e:\n",
    "                logger.error(f\"Error scraping profile {donor_id}: {str(e)}\")\n",
    "                # Save progress on error\n",
    "                save_progress(all_profiles, bank_id)\n",
    "                # Reinitialize driver on error\n",
    "                try:\n",
    "                    driver.quit()\n",
    "                except:\n",
    "                    pass\n",
    "                driver = webdriver.Chrome(options=options)\n",
    "                continue\n",
    "            \n",
    "    except Exception as e:\n",
    "        logger.error(f\"Error during scraping: {str(e)}\")\n",
    "        \n",
    "    finally:\n",
    "        try:\n",
    "            driver.quit()\n",
    "        except:\n",
    "            pass\n",
    "        \n",
    "        # Save final results\n",
    "        save_final_results(all_profiles, bank_id)\n",
    "\n",
    "if __name__ == \"__main__\":\n",
    "    main()"
   ]
  },
  {
   "cell_type": "markdown",
   "metadata": {},
   "source": [
    "### Cross-checking if backup files match final outputs since scraping was interrupted several times."
   ]
  },
  {
   "cell_type": "code",
   "execution_count": 2,
   "metadata": {},
   "outputs": [
    {
     "name": "stdout",
     "output_type": "stream",
     "text": [
      "Collecting pandas\n",
      "  Downloading pandas-2.2.3-cp312-cp312-macosx_11_0_arm64.whl.metadata (89 kB)\n",
      "\u001b[2K     \u001b[90m━━━━━━━━━━━━━━━━━━━━━━━━━━━━━━━━━━━━━━━━\u001b[0m \u001b[32m89.9/89.9 kB\u001b[0m \u001b[31m5.1 MB/s\u001b[0m eta \u001b[36m0:00:00\u001b[0m\n",
      "\u001b[?25hCollecting numpy>=1.26.0 (from pandas)\n",
      "  Downloading numpy-2.1.2-cp312-cp312-macosx_14_0_arm64.whl.metadata (60 kB)\n",
      "\u001b[2K     \u001b[90m━━━━━━━━━━━━━━━━━━━━━━━━━━━━━━━━━━━━━━━━\u001b[0m \u001b[32m60.9/60.9 kB\u001b[0m \u001b[31m6.9 MB/s\u001b[0m eta \u001b[36m0:00:00\u001b[0m\n",
      "\u001b[?25hRequirement already satisfied: python-dateutil>=2.8.2 in /Users/cindylinsf/anaconda3/envs/thesis24/lib/python3.12/site-packages (from pandas) (2.9.0)\n",
      "Collecting pytz>=2020.1 (from pandas)\n",
      "  Downloading pytz-2024.2-py2.py3-none-any.whl.metadata (22 kB)\n",
      "Collecting tzdata>=2022.7 (from pandas)\n",
      "  Downloading tzdata-2024.2-py2.py3-none-any.whl.metadata (1.4 kB)\n",
      "Requirement already satisfied: six>=1.5 in /Users/cindylinsf/anaconda3/envs/thesis24/lib/python3.12/site-packages (from python-dateutil>=2.8.2->pandas) (1.16.0)\n",
      "Downloading pandas-2.2.3-cp312-cp312-macosx_11_0_arm64.whl (11.4 MB)\n",
      "\u001b[2K   \u001b[90m━━━━━━━━━━━━━━━━━━━━━━━━━━━━━━━━━━━━━━━━\u001b[0m \u001b[32m11.4/11.4 MB\u001b[0m \u001b[31m20.2 MB/s\u001b[0m eta \u001b[36m0:00:00\u001b[0m00:01\u001b[0m00:01\u001b[0m\n",
      "\u001b[?25hDownloading numpy-2.1.2-cp312-cp312-macosx_14_0_arm64.whl (5.1 MB)\n",
      "\u001b[2K   \u001b[90m━━━━━━━━━━━━━━━━━━━━━━━━━━━━━━━━━━━━━━━━\u001b[0m \u001b[32m5.1/5.1 MB\u001b[0m \u001b[31m19.9 MB/s\u001b[0m eta \u001b[36m0:00:00\u001b[0ma \u001b[36m0:00:01\u001b[0m\n",
      "\u001b[?25hDownloading pytz-2024.2-py2.py3-none-any.whl (508 kB)\n",
      "\u001b[2K   \u001b[90m━━━━━━━━━━━━━━━━━━━━━━━━━━━━━━━━━━━━━━━━\u001b[0m \u001b[32m508.0/508.0 kB\u001b[0m \u001b[31m15.4 MB/s\u001b[0m eta \u001b[36m0:00:00\u001b[0m\n",
      "\u001b[?25hDownloading tzdata-2024.2-py2.py3-none-any.whl (346 kB)\n",
      "\u001b[2K   \u001b[90m━━━━━━━━━━━━━━━━━━━━━━━━━━━━━━━━━━━━━━━━\u001b[0m \u001b[32m346.6/346.6 kB\u001b[0m \u001b[31m14.9 MB/s\u001b[0m eta \u001b[36m0:00:00\u001b[0m\n",
      "\u001b[?25hInstalling collected packages: pytz, tzdata, numpy, pandas\n",
      "Successfully installed numpy-2.1.2 pandas-2.2.3 pytz-2024.2 tzdata-2024.2\n"
     ]
    }
   ],
   "source": [
    "!pip install pandas"
   ]
  },
  {
   "cell_type": "code",
   "execution_count": 4,
   "metadata": {},
   "outputs": [
    {
     "name": "stdout",
     "output_type": "stream",
     "text": [
      "Number of profiles in each file:\n",
      "12:50 JSON: 100\n",
      "12:50 CSV: 100\n",
      "18:58 JSON: 435\n",
      "18:58 CSV: 435\n",
      "Main JSON: 435\n",
      "Main CSV: 435\n",
      "\n",
      "Do final files match main files?\n",
      "JSON matches: True\n",
      "CSV matches: True\n",
      "\n",
      "Number of unique donor IDs:\n",
      "12:50 version: 100\n",
      "18:58 version: 435\n",
      "Main version: 435\n"
     ]
    }
   ],
   "source": [
    "import json\n",
    "import pandas as pd\n",
    "\n",
    "# Read the JSON files\n",
    "with open('/Users/cindylinsf/Documents/CCI/THESIS/Msc_Thesis_Project_Files/data/raw/bank1/profiles_20241027_125054.json', 'r') as f:\n",
    "    data_1250 = json.load(f)\n",
    "\n",
    "with open('/Users/cindylinsf/Documents/CCI/THESIS/Msc_Thesis_Project_Files/data/raw/bank1/profiles_20241027_185803.json', 'r') as f:\n",
    "    data_1858 = json.load(f)\n",
    "\n",
    "with open('/Users/cindylinsf/Documents/CCI/THESIS/Msc_Thesis_Project_Files/data/raw/bank1/profiles.json', 'r') as f:\n",
    "    data_main = json.load(f)\n",
    "\n",
    "# Read the CSV files\n",
    "df_1250 = pd.read_csv('/Users/cindylinsf/Documents/CCI/THESIS/Msc_Thesis_Project_Files/data/raw/bank1/profiles_20241027_125054.csv')\n",
    "df_1858 = pd.read_csv('/Users/cindylinsf/Documents/CCI/THESIS/Msc_Thesis_Project_Files/data/raw/bank1/profiles_20241027_185803.csv')\n",
    "df_main = pd.read_csv('/Users/cindylinsf/Documents/CCI/THESIS/Msc_Thesis_Project_Files/data/raw/bank1/profiles.csv')\n",
    "\n",
    "# Print the number of profiles in each file\n",
    "print(\"Number of profiles in each file:\")\n",
    "print(f\"12:50 JSON: {len(data_1250)}\")\n",
    "print(f\"12:50 CSV: {len(df_1250)}\")\n",
    "print(f\"18:58 JSON: {len(data_1858)}\")\n",
    "print(f\"18:58 CSV: {len(df_1858)}\")\n",
    "print(f\"Main JSON: {len(data_main)}\")\n",
    "print(f\"Main CSV: {len(df_main)}\")\n",
    "\n",
    "# Check if the final files (18:58) match the main files\n",
    "print(\"\\nDo final files match main files?\")\n",
    "print(f\"JSON matches: {len(data_1858) == len(data_main)}\")\n",
    "print(f\"CSV matches: {len(df_1858) == len(df_main)}\")\n",
    "\n",
    "# Get unique donor IDs in each version\n",
    "donor_ids_1250 = set(df_1250['donor_id'])\n",
    "donor_ids_1858 = set(df_1858['donor_id'])\n",
    "donor_ids_main = set(df_main['donor_id'])\n",
    "\n",
    "print(\"\\nNumber of unique donor IDs:\")\n",
    "print(f\"12:50 version: {len(donor_ids_1250)}\")\n",
    "print(f\"18:58 version: {len(donor_ids_1858)}\")\n",
    "print(f\"Main version: {len(donor_ids_main)}\")"
   ]
  }
 ],
 "metadata": {
  "kernelspec": {
   "display_name": "thesis24",
   "language": "python",
   "name": "python3"
  },
  "language_info": {
   "codemirror_mode": {
    "name": "ipython",
    "version": 3
   },
   "file_extension": ".py",
   "mimetype": "text/x-python",
   "name": "python",
   "nbconvert_exporter": "python",
   "pygments_lexer": "ipython3",
   "version": "3.12.4"
  }
 },
 "nbformat": 4,
 "nbformat_minor": 2
}
