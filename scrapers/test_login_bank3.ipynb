{
 "cells": [
  {
   "cell_type": "code",
   "execution_count": 1,
   "metadata": {},
   "outputs": [
    {
     "name": "stderr",
     "output_type": "stream",
     "text": [
      "2024-10-29 23:53:50 - INFO - Starting Bank3 login test with Selenium\n",
      "2024-10-29 23:53:50 - INFO - Navigating to main site...\n",
      "2024-10-29 23:53:55 - INFO - Saved screenshot: debug_main_page.png\n",
      "2024-10-29 23:53:55 - INFO - Looking for login button...\n",
      "2024-10-29 23:53:55 - INFO - Found login button, clicking...\n",
      "2024-10-29 23:54:00 - INFO - Saved screenshot: debug_login_page.png\n",
      "2024-10-29 23:54:00 - INFO - Looking for login form fields...\n",
      "2024-10-29 23:54:00 - INFO - Entering credentials...\n",
      "2024-10-29 23:54:21 - INFO - Clicking submit button...\n",
      "2024-10-29 23:54:27 - INFO - Saved screenshot: debug_after_submit.png\n",
      "2024-10-29 23:54:27 - INFO - Login successful!\n",
      "2024-10-29 23:54:27 - INFO - Bank3 login test: SUCCESS\n"
     ]
    }
   ],
   "source": [
    "# Import cell\n",
    "from login_bank3 import setup_driver, login, cleanup_driver\n",
    "from config import load_config\n",
    "import logging\n",
    "from datetime import datetime\n",
    "\n",
    "# Configure logging\n",
    "logging.basicConfig(\n",
    "    level=logging.INFO,\n",
    "    format='%(asctime)s - %(levelname)s - %(message)s'\n",
    ")\n",
    "\n",
    "# Test cell\n",
    "driver = None\n",
    "try:\n",
    "    # Load configuration\n",
    "    config = load_config()\n",
    "    \n",
    "    # Setup WebDriver\n",
    "    driver = setup_driver()\n",
    "    \n",
    "    # Log test start\n",
    "    logging.info(\"Starting Bank3 login test with Selenium\")\n",
    "    \n",
    "    # Attempt login\n",
    "    success = login(driver, config)\n",
    "    \n",
    "    # Log results\n",
    "    if success:\n",
    "        logging.info(\"Bank3 login test: SUCCESS\")\n",
    "    else:\n",
    "        logging.error(\"Bank3 login test: FAILED\")\n",
    "        logging.info(\"Check login_response.html for error details\")\n",
    "\n",
    "except Exception as e:\n",
    "    logging.error(f\"Bank3 login test failed with error: {str(e)}\")\n",
    "    \n",
    "finally:\n",
    "    if driver:\n",
    "        cleanup_driver(driver)"
   ]
  }
 ],
 "metadata": {
  "kernelspec": {
   "display_name": "thesis24",
   "language": "python",
   "name": "python3"
  },
  "language_info": {
   "codemirror_mode": {
    "name": "ipython",
    "version": 3
   },
   "file_extension": ".py",
   "mimetype": "text/x-python",
   "name": "python",
   "nbconvert_exporter": "python",
   "pygments_lexer": "ipython3",
   "version": "3.12.4"
  }
 },
 "nbformat": 4,
 "nbformat_minor": 2
}
