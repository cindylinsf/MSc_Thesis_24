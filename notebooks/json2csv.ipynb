{
 "cells": [
  {
   "cell_type": "markdown",
   "metadata": {},
   "source": [
    "## Converting LLM generated results from .json to .csv\n",
    "- Also unifying feature names (uneven cases)\n",
    "- Lumping all the demographic information into one column\n",
    "- source file `llm_generated_profile.json`\n",
    "- In preparation for setting up the final database to track all the profile image generation by AI models"
   ]
  },
  {
   "cell_type": "code",
   "execution_count": 1,
   "metadata": {},
   "outputs": [],
   "source": [
    "import json\n",
    "import pandas as pd\n",
    "import os"
   ]
  },
  {
   "cell_type": "code",
   "execution_count": 2,
   "metadata": {},
   "outputs": [],
   "source": [
    "def format_interests(interests):\n",
    "    if isinstance(interests, list):\n",
    "        return ', '.join(interests)\n",
    "    return str(interests)\n",
    "\n",
    "def standardize_fields(profile):\n",
    "    # Map various field names to standard ones\n",
    "    field_mapping = {\n",
    "        'height': 'Height',\n",
    "        'Height': 'Height',\n",
    "        'weight': 'Weight',\n",
    "        'Weight': 'Weight',\n",
    "        'eye_color': 'Eye_Color',\n",
    "        'Eye_Color': 'Eye_Color',\n",
    "        'hair': 'Hair',\n",
    "        'Hair': 'Hair',\n",
    "        'hair_color': 'Hair Color',\n",
    "        'hair_texture': 'Hair Texture',\n",
    "        'skin_tone': 'Skin_Tone',\n",
    "        'Skin_Tone': 'Skin_Tone',\n",
    "        'education': 'Education',\n",
    "        'Education': 'Education',\n",
    "        'education_level': 'Education Level',\n",
    "        'education_field': 'Education Field',\n",
    "        'ethnic_background': 'Ethnic_Background',\n",
    "        'Ethnic_Background': 'Ethnic_Background',\n",
    "        'occupation': 'Occupation',\n",
    "        'Occupation': 'Occupation',\n",
    "        'interests_hobbies': 'Interests_Hobbies',\n",
    "        'Interests_Hobbies': 'Interests_Hobbies',\n",
    "        'description': 'Description',\n",
    "        'Description': 'Description',\n",
    "        'donor_description': 'Description'\n",
    "    }\n",
    "    \n",
    "    # Combine demographic info\n",
    "    demo_info_parts = []\n",
    "    \n",
    "    # Handle height and weight\n",
    "    height = profile.get(next((k for k in profile if k.lower() == 'height'), None), '')\n",
    "    weight = profile.get(next((k for k in profile if k.lower() == 'weight'), None), '')\n",
    "    demo_info_parts.extend([f\"Height: {height}\", f\"Weight: {weight}\"])\n",
    "    \n",
    "    # Handle eye color\n",
    "    eye_color = profile.get(next((k for k in profile if k.lower() in ['eye_color', 'eye color']), None), '')\n",
    "    demo_info_parts.append(f\"Eye Color: {eye_color}\")\n",
    "    \n",
    "    # Handle hair\n",
    "    hair_color = profile.get('hair_color', '')\n",
    "    hair_texture = profile.get('hair_texture', '')\n",
    "    hair = profile.get('Hair', profile.get('hair', ''))\n",
    "    if hair_color and hair_texture:\n",
    "        demo_info_parts.append(f\"Hair: {hair_color}/{hair_texture}\")\n",
    "    else:\n",
    "        demo_info_parts.append(f\"Hair: {hair}\")\n",
    "    \n",
    "    # Handle remaining demographic fields\n",
    "    demo_fields = ['Skin_Tone', 'Education', 'Ethnic_Background', 'Occupation']\n",
    "    for field in demo_fields:\n",
    "        value = profile.get(next((k for k in profile if k.lower() == field.lower()), None), '')\n",
    "        if field == 'Education' and 'education_field' in profile:\n",
    "            value = f\"{profile.get('education_level', '')} in {profile.get('education_field', '')}\"\n",
    "        demo_info_parts.append(f\"{field}: {value}\")\n",
    "    \n",
    "    # Handle interests/hobbies\n",
    "    interests = profile.get(next((k for k in profile if k.lower() in ['interests_hobbies', 'interests and hobbies']), None), [])\n",
    "    demo_info_parts.append(f\"Interests/Hobbies: {format_interests(interests)}\")\n",
    "    \n",
    "    return {\n",
    "        'profile_id': profile.get('profile_id', ''),\n",
    "        'demographic_info': ' | '.join(filter(None, demo_info_parts)),\n",
    "        'description': profile.get(next((k for k in profile if k.lower() in ['description', 'donor_description']), None), '')\n",
    "    }\n",
    "\n"
   ]
  },
  {
   "cell_type": "code",
   "execution_count": null,
   "metadata": {},
   "outputs": [],
   "source": [
    "def convert_json_to_csv(input_path, output_dir):\n",
    "    # Read and parse JSON\n",
    "    with open(input_path, 'r') as file:\n",
    "        data = json.load(file)\n",
    "    \n",
    "    # Process each profile\n",
    "    processed_data = [standardize_fields(profile) for profile in data]\n",
    "    \n",
    "    # Convert to DataFrame\n",
    "    df = pd.DataFrame(processed_data)\n",
    "    \n",
    "    # Create output filename\n",
    "    output_path = os.path.join(output_dir, 'llm_generated_profiles.csv')\n",
    "    \n",
    "    # Save to CSV\n",
    "    df.to_csv(output_path, index=False)\n",
    "    print(f\"CSV file saved to: {output_path}\")\n",
    "\n"
   ]
  },
  {
   "cell_type": "code",
   "execution_count": 4,
   "metadata": {},
   "outputs": [
    {
     "name": "stdout",
     "output_type": "stream",
     "text": [
      "CSV file saved to: /Users/cindylinsf/Documents/CCI/THESIS/Msc_Thesis_Project_Files/outputs/donor_profiles.csv\n"
     ]
    }
   ],
   "source": [
    "# File paths\n",
    "input_path = \"/Users/cindylinsf/Documents/CCI/THESIS/Msc_Thesis_Project_Files/outputs/llm_generated_profile.json\"\n",
    "output_dir = \"/Users/cindylinsf/Documents/CCI/THESIS/Msc_Thesis_Project_Files/outputs\"\n",
    "\n",
    "# Run conversion\n",
    "convert_json_to_csv(input_path, output_dir)"
   ]
  }
 ],
 "metadata": {
  "kernelspec": {
   "display_name": "thesis24",
   "language": "python",
   "name": "python3"
  },
  "language_info": {
   "codemirror_mode": {
    "name": "ipython",
    "version": 3
   },
   "file_extension": ".py",
   "mimetype": "text/x-python",
   "name": "python",
   "nbconvert_exporter": "python",
   "pygments_lexer": "ipython3",
   "version": "3.12.4"
  }
 },
 "nbformat": 4,
 "nbformat_minor": 2
}
