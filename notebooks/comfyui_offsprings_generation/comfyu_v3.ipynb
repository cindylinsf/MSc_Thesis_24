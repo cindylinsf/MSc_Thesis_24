{
 "cells": [
  {
   "cell_type": "markdown",
   "metadata": {},
   "source": [
    "# Generating offspring photos with ComfyUI"
   ]
  },
  {
   "cell_type": "markdown",
   "metadata": {},
   "source": [
    "## 1. Set Up"
   ]
  },
  {
   "cell_type": "code",
   "execution_count": null,
   "metadata": {},
   "outputs": [],
   "source": [
    "!git clone https://github.com/comfyanonymous/ComfyUI.git"
   ]
  },
  {
   "cell_type": "code",
   "execution_count": null,
   "metadata": {},
   "outputs": [],
   "source": [
    "!pip install -r requirements.txt"
   ]
  },
  {
   "cell_type": "code",
   "execution_count": null,
   "metadata": {},
   "outputs": [],
   "source": [
    "import sys\n",
    "import os\n",
    "from pathlib import Path"
   ]
  },
  {
   "cell_type": "code",
   "execution_count": null,
   "metadata": {},
   "outputs": [],
   "source": [
    "# Define my specific ComfyUI path\n",
    "COMFY_PATH = Path(\"/Users/cindylinsf/Documents/CCI/THESIS/Msc_Thesis_Project_Files/models/ComfyUI\")\n",
    "\n",
    "# Verify the path exists\n",
    "if not COMFY_PATH.exists():\n",
    "    raise Exception(f\"ComfyUI path not found at {COMFY_PATH}\")\n",
    "else:\n",
    "    print(f\"ComfyUI directory found at {COMFY_PATH}\")\n",
    "\n",
    "# Add ComfyUI to system path\n",
    "if str(COMFY_PATH) not in sys.path:\n",
    "    sys.path.append(str(COMFY_PATH))\n",
    "    print(\"Added ComfyUI to system path\")"
   ]
  },
  {
   "cell_type": "code",
   "execution_count": null,
   "metadata": {},
   "outputs": [],
   "source": [
    "import requests\n",
    "from tqdm import tqdm"
   ]
  },
  {
   "cell_type": "code",
   "execution_count": null,
   "metadata": {},
   "outputs": [],
   "source": [
    "# Function to download models\n",
    "def download_model(url, save_path):\n",
    "    response = requests.get(url, stream=True)\n",
    "    total_size = int(response.headers.get('content-length', 0))\n",
    "    \n",
    "    save_path = Path(save_path)\n",
    "    save_path.parent.mkdir(parents=True, exist_ok=True)\n",
    "    \n",
    "    with open(save_path, 'wb') as f, tqdm(\n",
    "        desc=save_path.name,\n",
    "        total=total_size,\n",
    "        unit='iB',\n",
    "        unit_scale=True\n",
    "    ) as pbar:\n",
    "        for data in response.iter_content(chunk_size=1024):\n",
    "            size = f.write(data)\n",
    "            pbar.update(size)"
   ]
  },
  {
   "cell_type": "code",
   "execution_count": null,
   "metadata": {},
   "outputs": [],
   "source": [
    "# Create model directories\n",
    "models_path = COMFY_PATH / \"models\"\n",
    "checkpoints_path = models_path / \"checkpoints\"\n",
    "controlnet_path = models_path / \"controlnet\""
   ]
  },
  {
   "cell_type": "code",
   "execution_count": null,
   "metadata": {},
   "outputs": [],
   "source": [
    "# Create directories and print status\n",
    "for path in [models_path, checkpoints_path, controlnet_path]:\n",
    "    path.mkdir(parents=True, exist_ok=True)\n",
    "    print(f\"Created/verified directory: {path}\")"
   ]
  },
  {
   "cell_type": "markdown",
   "metadata": {},
   "source": [
    "## Start the ComfyUI server"
   ]
  },
  {
   "cell_type": "code",
   "execution_count": null,
   "metadata": {},
   "outputs": [],
   "source": [
    "import subprocess\n",
    "import webbrowser\n",
    "from time import sleep"
   ]
  },
  {
   "cell_type": "code",
   "execution_count": null,
   "metadata": {},
   "outputs": [],
   "source": [
    "# Start ComfyUI server\n",
    "server_process = subprocess.Popen(\n",
    "    ['python', str(COMFY_PATH / 'main.py'), '--listen', '0.0.0.0', '--port', '8188'],\n",
    "    stdout=subprocess.PIPE,\n",
    "    stderr=subprocess.PIPE\n",
    ")\n",
    "\n",
    "# Wait a moment for the server to start\n",
    "sleep(5)\n",
    "\n",
    "# Open the UI in default browser\n",
    "webbrowser.open('http://localhost:8188')\n",
    "\n",
    "print(\"ComfyUI server started! The interface should open in your browser.\")\n",
    "print(\"Keep this notebook running while you use ComfyUI.\")"
   ]
  },
  {
   "cell_type": "markdown",
   "metadata": {},
   "source": [
    "## 3. Setting up Paths"
   ]
  },
  {
   "cell_type": "code",
   "execution_count": 34,
   "metadata": {},
   "outputs": [],
   "source": [
    "import json\n",
    "import csv\n",
    "from datetime import datetime\n",
    "import shutil"
   ]
  },
  {
   "cell_type": "code",
   "execution_count": 35,
   "metadata": {},
   "outputs": [],
   "source": [
    "# Create input directory for my photo\n",
    "input_path = Path(\"/Users/cindylinsf/Documents/CCI/THESIS/Msc_Thesis_Project_Files/data/input\")\n",
    "input_path.mkdir(parents=True, exist_ok=True)"
   ]
  },
  {
   "cell_type": "code",
   "execution_count": 36,
   "metadata": {},
   "outputs": [],
   "source": [
    "# Paths dictionary\n",
    "PATHS = {\n",
    "    \"donors\": Path(\"/Users/cindylinsf/Documents/CCI/THESIS/Msc_Thesis_Project_Files/data/input/comfyui_source_files\"),\n",
    "    \"output\": Path(\"/Users/cindylinsf/Documents/CCI/THESIS/Msc_Thesis_Project_Files/outputs/generated_offsprings\"),\n",
    "    \"my_photo\": input_path / \"cindy.jpg\" \n",
    "}"
   ]
  },
  {
   "cell_type": "code",
   "execution_count": 37,
   "metadata": {},
   "outputs": [
    {
     "name": "stdout",
     "output_type": "stream",
     "text": [
      "✓ Found donors directory: /Users/cindylinsf/Documents/CCI/THESIS/Msc_Thesis_Project_Files/data/input/comfyui_source_files\n",
      "✓ Found output directory: /Users/cindylinsf/Documents/CCI/THESIS/Msc_Thesis_Project_Files/outputs/generated_offsprings\n",
      "✓ Found my_photo directory: /Users/cindylinsf/Documents/CCI/THESIS/Msc_Thesis_Project_Files/data/input/cindy.jpg\n"
     ]
    }
   ],
   "source": [
    "# Verify paths\n",
    "for name, path in PATHS.items():\n",
    "    if path.exists():\n",
    "        print(f\"✓ Found {name} directory: {path}\")\n",
    "    else:\n",
    "        if name == \"my_photo\":\n",
    "            print(f\"\\nPlease save your headshot photo as: {path}\")\n",
    "            print(\"Once saved, run this cell again to verify.\")\n",
    "        elif name == \"output\":\n",
    "            path.mkdir(parents=True, exist_ok=True)\n",
    "            print(f\"Created output directory: {path}\")\n",
    "        else:\n",
    "            print(f\"❌ ERROR: {name} directory not found: {path}\")"
   ]
  },
  {
   "cell_type": "code",
   "execution_count": 38,
   "metadata": {},
   "outputs": [],
   "source": [
    "# Clean up previous output directories if necessary\n",
    "project_outputs = Path(\"/Users/cindylinsf/Documents/CCI/THESIS/Msc_Thesis_Project_Files/models/ComfyUI/output/thesis_outputs\")\n",
    "if project_outputs.exists():\n",
    "    if project_outputs.is_symlink():\n",
    "        project_outputs.unlink()\n",
    "    elif project_outputs.is_dir():\n",
    "        shutil.rmtree(project_outputs)"
   ]
  },
  {
   "cell_type": "code",
   "execution_count": 39,
   "metadata": {},
   "outputs": [],
   "source": [
    "# Set up fresh directory structure in ComfyUI's output\n",
    "comfy_output = Path(\"/Users/cindylinsf/Documents/CCI/THESIS/Msc_Thesis_Project_Files/models/ComfyUI/output\")\n",
    "donor_output = comfy_output / \"donor_logs\" / \"aug_gpt_4_gem_wo\" / \"v1\"\n",
    "donor_output.mkdir(parents=True, exist_ok=True)"
   ]
  },
  {
   "cell_type": "code",
   "execution_count": 40,
   "metadata": {},
   "outputs": [
    {
     "name": "stdout",
     "output_type": "stream",
     "text": [
      "Cleaned up previous setup and created fresh directory structure.\n",
      "ComfyUI output directory: /Users/cindylinsf/Documents/CCI/THESIS/Msc_Thesis_Project_Files/models/ComfyUI/output\n",
      "Donor output directory: /Users/cindylinsf/Documents/CCI/THESIS/Msc_Thesis_Project_Files/models/ComfyUI/output/donor_logs/aug_gpt_4_gem_wo/v1\n"
     ]
    }
   ],
   "source": [
    "print(\"Cleaned up previous setup and created fresh directory structure.\")\n",
    "print(f\"ComfyUI output directory: {comfy_output}\")\n",
    "print(f\"Donor output directory: {donor_output}\")"
   ]
  },
  {
   "cell_type": "markdown",
   "metadata": {},
   "source": [
    "## Batch Processing\n",
    "Testing with 5 donors first to ensure everything works properly"
   ]
  },
  {
   "cell_type": "code",
   "execution_count": 41,
   "metadata": {},
   "outputs": [],
   "source": [
    "# Import and Setup\n",
    "import time\n",
    "import random\n"
   ]
  },
  {
   "cell_type": "code",
   "execution_count": 42,
   "metadata": {},
   "outputs": [],
   "source": [
    "# Update paths for batch processing\n",
    "COMFY_OUTPUT = COMFY_PATH / \"output\"\n",
    "DONORS_PATH = PATHS[\"donors\"]\n",
    "MY_PHOTO = PATHS[\"my_photo\"]\n",
    "BASE_WORKFLOW_PATH = Path(\"/Users/cindylinsf/Documents/CCI/THESIS/Msc_Thesis_Project_Files/models/ComfyUI/user/default/workflows/base_workflow.json\")"
   ]
  },
  {
   "cell_type": "code",
   "execution_count": 43,
   "metadata": {},
   "outputs": [
    {
     "name": "stdout",
     "output_type": "stream",
     "text": [
      "\n",
      "Will process these donors:\n",
      "1. aug_cla_2_gem_wo.jpeg\n",
      "2. aug_cla_3_gem_wo.jpeg\n",
      "3. aug_cla_4_gem_wo.jpeg\n",
      "4. aug_cla_5_gem_wo.jpeg\n",
      "5. aug_cla_6_gem_demo.jpeg\n"
     ]
    }
   ],
   "source": [
    "test_donors = sorted(list(DONORS_PATH.glob(\"*.jpeg\")))[:5]\n",
    "print(\"\\nWill process these donors:\")\n",
    "for i, donor in enumerate(test_donors, 1):\n",
    "    print(f\"{i}. {donor.name}\")"
   ]
  },
  {
   "cell_type": "code",
   "execution_count": 44,
   "metadata": {},
   "outputs": [],
   "source": [
    "# Utility Functions\n",
    "def verify_saved_image(output_path: Path, donor_id: str, variation: int) -> bool:\n",
    "    \"\"\"Verify that image was saved and is valid\"\"\"\n",
    "    expected_file = list(output_path.glob(f\"{donor_id}_baby_{variation}*.png\"))\n",
    "    \n",
    "    if not expected_file:\n",
    "        print(f\"❌ Warning: No output file found for {donor_id} variation {variation}\")\n",
    "        return False\n",
    "        \n",
    "    if expected_file[0].stat().st_size == 0:\n",
    "        print(f\"❌ Warning: Empty file generated for {donor_id} variation {variation}\")\n",
    "        return False\n",
    "        \n",
    "    print(f\"✓ Successfully saved: {expected_file[0].name}\")\n",
    "    return True\n"
   ]
  },
  {
   "cell_type": "code",
   "execution_count": 45,
   "metadata": {},
   "outputs": [],
   "source": [
    "def generate_random_seeds(count=3):\n",
    "    \"\"\"Generate list of random seeds for multiple generations\"\"\"\n",
    "    return [random.randint(1, 2**31 - 1) for _ in range(count)]"
   ]
  },
  {
   "cell_type": "code",
   "execution_count": 46,
   "metadata": {},
   "outputs": [
    {
     "name": "stdout",
     "output_type": "stream",
     "text": [
      "Loading base workflow from: /Users/cindylinsf/Documents/CCI/THESIS/Msc_Thesis_Project_Files/models/ComfyUI/user/default/workflows/base_workflow.json\n",
      "Successfully loaded base workflow\n"
     ]
    }
   ],
   "source": [
    "# Load and modify base workflow\n",
    "print(f\"Loading base workflow from: {BASE_WORKFLOW_PATH}\")\n",
    "if not BASE_WORKFLOW_PATH.exists():\n",
    "    raise FileNotFoundError(f\"Base workflow not found at: {BASE_WORKFLOW_PATH}\")\n",
    "\n",
    "with open(BASE_WORKFLOW_PATH, 'r') as f:\n",
    "    complete_workflow = json.load(f)\n",
    "print(\"Successfully loaded base workflow\")\n"
   ]
  },
  {
   "cell_type": "markdown",
   "metadata": {},
   "source": [
    "### Test Batch Processing Setup"
   ]
  },
  {
   "cell_type": "code",
   "execution_count": 54,
   "metadata": {},
   "outputs": [],
   "source": [
    "def process_test_batch():\n",
    "    total_donors = len(test_donors)\n",
    "\n",
    "    # Define the output path for workflows\n",
    "    workflow_output_path = Path(\"/Users/cindylinsf/Documents/CCI/THESIS/Msc_Thesis_Project_Files/models/ComfyUI/output/workflows\")\n",
    "\n",
    "    for donor_idx, donor_path in enumerate(test_donors, 1):\n",
    "        print(f\"\\n{'='*50}\")\n",
    "        print(f\"Processing donor {donor_idx}/{total_donors}: {donor_path.name}\")\n",
    "\n",
    "        seeds = generate_random_seeds(3)\n",
    "\n",
    "        for variation in range(1, 4):\n",
    "            print(f\"\\n>> Starting variation {variation}/3\")\n",
    "            print(\"Generating random parameters...\")\n",
    "\n",
    "            # Create a copy of the complete workflow for this variation\n",
    "            workflow = complete_workflow.copy()\n",
    "\n",
    "            # Add version key to workflow if missing\n",
    "            if \"version\" not in workflow:\n",
    "                workflow[\"version\"] = 1.0  # Set default version if not present\n",
    "\n",
    "            # Update LoadImage nodes\n",
    "            for node in workflow['nodes']:\n",
    "                if node['type'] == 'LoadImage':\n",
    "                    if node['id'] == 1:  # Your photo\n",
    "                        node['widgets_values'] = [str(MY_PHOTO)]\n",
    "                    elif node['id'] == 2:  # Donor photo\n",
    "                        node['widgets_values'] = [str(donor_path)]\n",
    "\n",
    "            # Add BlendImagesRandom node\n",
    "            blend_node = {\n",
    "                \"id\": 10 + variation,  # Unique ID for each variation\n",
    "                \"type\": \"BlendImagesRandom\",\n",
    "                \"pos\": [800, 400],  # Position in the UI (adjust as necessary)\n",
    "                \"size\": [400, 100],\n",
    "                \"flags\": {},\n",
    "                \"order\": 4,\n",
    "                \"mode\": 0,\n",
    "                \"properties\": {\n",
    "                    \"inputs\": [\n",
    "                        {\"name\": \"image1\", \"type\": \"IMAGE\", \"link\": 5, \"slot_index\": 0},  # Link to first image\n",
    "                        {\"name\": \"image2\", \"type\": \"IMAGE\", \"link\": 6, \"slot_index\": 0}   # Link to second image\n",
    "                    ],\n",
    "                    \"outputs\": [\n",
    "                        {\"name\": \"blended_image\", \"type\": \"IMAGE\", \"links\": [11], \"slot_index\": 0}\n",
    "                    ]\n",
    "                }\n",
    "            }\n",
    "            workflow['nodes'].append(blend_node)\n",
    "\n",
    "            # Update SaveImage node to save blended images\n",
    "            for node in workflow['nodes']:\n",
    "                if node['type'] == 'SaveImage':\n",
    "                    donor_id = Path(donor_path).stem\n",
    "                    node['widgets_values'] = [f\"{donor_id}_baby_{variation}\"]  # Dynamic filename\n",
    "\n",
    "            # Save modified workflow for this variation\n",
    "            workflow_path = workflow_output_path / f\"{donor_path.stem}_v{variation}.json\"\n",
    "            workflow_path.parent.mkdir(parents=True, exist_ok=True)\n",
    "\n",
    "            with open(workflow_path, 'w') as f:\n",
    "                json.dump(workflow, f, indent=2)\n",
    "\n",
    "            print(f\"✓ Saved workflow to: {workflow_path}\")\n",
    "\n"
   ]
  },
  {
   "cell_type": "markdown",
   "metadata": {},
   "source": [
    "### Process Test Batch"
   ]
  },
  {
   "cell_type": "code",
   "execution_count": 55,
   "metadata": {},
   "outputs": [
    {
     "name": "stdout",
     "output_type": "stream",
     "text": [
      "Starting test batch with randomized parameters for 5 donors...\n",
      "\n",
      "==================================================\n",
      "Processing donor 1/5: aug_cla_2_gem_wo.jpeg\n",
      "\n",
      ">> Starting variation 1/3\n",
      "Generating random parameters...\n",
      "✓ Saved workflow to: /Users/cindylinsf/Documents/CCI/THESIS/Msc_Thesis_Project_Files/models/ComfyUI/output/workflows/aug_cla_2_gem_wo_v1.json\n",
      "\n",
      ">> Starting variation 2/3\n",
      "Generating random parameters...\n",
      "✓ Saved workflow to: /Users/cindylinsf/Documents/CCI/THESIS/Msc_Thesis_Project_Files/models/ComfyUI/output/workflows/aug_cla_2_gem_wo_v2.json\n",
      "\n",
      ">> Starting variation 3/3\n",
      "Generating random parameters...\n",
      "✓ Saved workflow to: /Users/cindylinsf/Documents/CCI/THESIS/Msc_Thesis_Project_Files/models/ComfyUI/output/workflows/aug_cla_2_gem_wo_v3.json\n",
      "\n",
      "==================================================\n",
      "Processing donor 2/5: aug_cla_3_gem_wo.jpeg\n",
      "\n",
      ">> Starting variation 1/3\n",
      "Generating random parameters...\n",
      "✓ Saved workflow to: /Users/cindylinsf/Documents/CCI/THESIS/Msc_Thesis_Project_Files/models/ComfyUI/output/workflows/aug_cla_3_gem_wo_v1.json\n",
      "\n",
      ">> Starting variation 2/3\n",
      "Generating random parameters...\n",
      "✓ Saved workflow to: /Users/cindylinsf/Documents/CCI/THESIS/Msc_Thesis_Project_Files/models/ComfyUI/output/workflows/aug_cla_3_gem_wo_v2.json\n",
      "\n",
      ">> Starting variation 3/3\n",
      "Generating random parameters...\n",
      "✓ Saved workflow to: /Users/cindylinsf/Documents/CCI/THESIS/Msc_Thesis_Project_Files/models/ComfyUI/output/workflows/aug_cla_3_gem_wo_v3.json\n",
      "\n",
      "==================================================\n",
      "Processing donor 3/5: aug_cla_4_gem_wo.jpeg\n",
      "\n",
      ">> Starting variation 1/3\n",
      "Generating random parameters...\n",
      "✓ Saved workflow to: /Users/cindylinsf/Documents/CCI/THESIS/Msc_Thesis_Project_Files/models/ComfyUI/output/workflows/aug_cla_4_gem_wo_v1.json\n",
      "\n",
      ">> Starting variation 2/3\n",
      "Generating random parameters...\n",
      "✓ Saved workflow to: /Users/cindylinsf/Documents/CCI/THESIS/Msc_Thesis_Project_Files/models/ComfyUI/output/workflows/aug_cla_4_gem_wo_v2.json\n",
      "\n",
      ">> Starting variation 3/3\n",
      "Generating random parameters...\n",
      "✓ Saved workflow to: /Users/cindylinsf/Documents/CCI/THESIS/Msc_Thesis_Project_Files/models/ComfyUI/output/workflows/aug_cla_4_gem_wo_v3.json\n",
      "\n",
      "==================================================\n",
      "Processing donor 4/5: aug_cla_5_gem_wo.jpeg\n",
      "\n",
      ">> Starting variation 1/3\n",
      "Generating random parameters...\n",
      "✓ Saved workflow to: /Users/cindylinsf/Documents/CCI/THESIS/Msc_Thesis_Project_Files/models/ComfyUI/output/workflows/aug_cla_5_gem_wo_v1.json\n",
      "\n",
      ">> Starting variation 2/3\n",
      "Generating random parameters...\n",
      "✓ Saved workflow to: /Users/cindylinsf/Documents/CCI/THESIS/Msc_Thesis_Project_Files/models/ComfyUI/output/workflows/aug_cla_5_gem_wo_v2.json\n",
      "\n",
      ">> Starting variation 3/3\n",
      "Generating random parameters...\n",
      "✓ Saved workflow to: /Users/cindylinsf/Documents/CCI/THESIS/Msc_Thesis_Project_Files/models/ComfyUI/output/workflows/aug_cla_5_gem_wo_v3.json\n",
      "\n",
      "==================================================\n",
      "Processing donor 5/5: aug_cla_6_gem_demo.jpeg\n",
      "\n",
      ">> Starting variation 1/3\n",
      "Generating random parameters...\n",
      "✓ Saved workflow to: /Users/cindylinsf/Documents/CCI/THESIS/Msc_Thesis_Project_Files/models/ComfyUI/output/workflows/aug_cla_6_gem_demo_v1.json\n",
      "\n",
      ">> Starting variation 2/3\n",
      "Generating random parameters...\n",
      "✓ Saved workflow to: /Users/cindylinsf/Documents/CCI/THESIS/Msc_Thesis_Project_Files/models/ComfyUI/output/workflows/aug_cla_6_gem_demo_v2.json\n",
      "\n",
      ">> Starting variation 3/3\n",
      "Generating random parameters...\n",
      "✓ Saved workflow to: /Users/cindylinsf/Documents/CCI/THESIS/Msc_Thesis_Project_Files/models/ComfyUI/output/workflows/aug_cla_6_gem_demo_v3.json\n"
     ]
    }
   ],
   "source": [
    "# Starting the test batch\n",
    "print(\"Starting test batch with randomized parameters for 5 donors...\")\n",
    "proceed = input(\"Press Enter to continue or Ctrl+C to cancel...\")\n",
    "process_test_batch()\n"
   ]
  }
 ],
 "metadata": {
  "kernelspec": {
   "display_name": "thesis24",
   "language": "python",
   "name": "python3"
  },
  "language_info": {
   "codemirror_mode": {
    "name": "ipython",
    "version": 3
   },
   "file_extension": ".py",
   "mimetype": "text/x-python",
   "name": "python",
   "nbconvert_exporter": "python",
   "pygments_lexer": "ipython3",
   "version": "3.12.4"
  }
 },
 "nbformat": 4,
 "nbformat_minor": 2
}
